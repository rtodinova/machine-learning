{
 "cells": [
  {
   "cell_type": "markdown",
   "metadata": {},
   "source": [
    "Изготвил: Росица Динкова Тодинова, ф.н. 71624, специалност Информационни системи, 4 курс"
   ]
  },
  {
   "cell_type": "markdown",
   "metadata": {},
   "source": [
    "# Опсиание на проекта"
   ]
  },
  {
   "cell_type": "markdown",
   "metadata": {},
   "source": [
    "Целта на проекта е да предостави модел, който предсказва дали при даден пациент има риск от сърдечно заболяване в рамките на 10 години. Dataset-a, който е използван, съдържа данни, събрани от сърдечно-съдови изследвания. Той се състои от 15 атрибута и 4240 записа."
   ]
  },
  {
   "cell_type": "code",
   "execution_count": 1,
   "metadata": {},
   "outputs": [],
   "source": [
    "import numpy as np\n",
    "import pandas as pd\n",
    "import seaborn as sns\n",
    "import matplotlib.pyplot as plt\n",
    "\n",
    "from sklearn.model_selection import train_test_split\n",
    "from sklearn.linear_model import LinearRegression, LogisticRegression, Ridge\n",
    "from sklearn.tree import DecisionTreeClassifier\n",
    "from sklearn.neighbors import KNeighborsClassifier\n",
    "from sklearn.model_selection import cross_val_score\n",
    "from sklearn.ensemble import RandomForestClassifier, VotingClassifier, BaggingClassifier, ExtraTreesClassifier\n",
    "from sklearn.model_selection import GridSearchCV, RandomizedSearchCV\n",
    "from sklearn.svm import SVC\n",
    "from sklearn.metrics import confusion_matrix\n",
    "from imblearn.over_sampling import SMOTE\n",
    "\n",
    "import warnings\n",
    "warnings.filterwarnings(\"ignore\")"
   ]
  },
  {
   "cell_type": "markdown",
   "metadata": {},
   "source": [
    "## Описание да dataset"
   ]
  },
  {
   "cell_type": "code",
   "execution_count": 2,
   "metadata": {},
   "outputs": [],
   "source": [
    "heart_disease_dataset=pd.read_csv(\"framingham.csv\")"
   ]
  },
  {
   "cell_type": "code",
   "execution_count": 3,
   "metadata": {},
   "outputs": [
    {
     "data": {
      "text/html": [
       "<div>\n",
       "<style scoped>\n",
       "    .dataframe tbody tr th:only-of-type {\n",
       "        vertical-align: middle;\n",
       "    }\n",
       "\n",
       "    .dataframe tbody tr th {\n",
       "        vertical-align: top;\n",
       "    }\n",
       "\n",
       "    .dataframe thead th {\n",
       "        text-align: right;\n",
       "    }\n",
       "</style>\n",
       "<table border=\"1\" class=\"dataframe\">\n",
       "  <thead>\n",
       "    <tr style=\"text-align: right;\">\n",
       "      <th></th>\n",
       "      <th>male</th>\n",
       "      <th>age</th>\n",
       "      <th>education</th>\n",
       "      <th>currentSmoker</th>\n",
       "      <th>cigsPerDay</th>\n",
       "      <th>BPMeds</th>\n",
       "      <th>prevalentStroke</th>\n",
       "      <th>prevalentHyp</th>\n",
       "      <th>diabetes</th>\n",
       "      <th>totChol</th>\n",
       "      <th>sysBP</th>\n",
       "      <th>diaBP</th>\n",
       "      <th>BMI</th>\n",
       "      <th>heartRate</th>\n",
       "      <th>glucose</th>\n",
       "      <th>TenYearCHD</th>\n",
       "    </tr>\n",
       "  </thead>\n",
       "  <tbody>\n",
       "    <tr>\n",
       "      <th>0</th>\n",
       "      <td>1</td>\n",
       "      <td>39</td>\n",
       "      <td>4.0</td>\n",
       "      <td>0</td>\n",
       "      <td>0.0</td>\n",
       "      <td>0.0</td>\n",
       "      <td>0</td>\n",
       "      <td>0</td>\n",
       "      <td>0</td>\n",
       "      <td>195.0</td>\n",
       "      <td>106.0</td>\n",
       "      <td>70.0</td>\n",
       "      <td>26.97</td>\n",
       "      <td>80.0</td>\n",
       "      <td>77.0</td>\n",
       "      <td>0</td>\n",
       "    </tr>\n",
       "    <tr>\n",
       "      <th>1</th>\n",
       "      <td>0</td>\n",
       "      <td>46</td>\n",
       "      <td>2.0</td>\n",
       "      <td>0</td>\n",
       "      <td>0.0</td>\n",
       "      <td>0.0</td>\n",
       "      <td>0</td>\n",
       "      <td>0</td>\n",
       "      <td>0</td>\n",
       "      <td>250.0</td>\n",
       "      <td>121.0</td>\n",
       "      <td>81.0</td>\n",
       "      <td>28.73</td>\n",
       "      <td>95.0</td>\n",
       "      <td>76.0</td>\n",
       "      <td>0</td>\n",
       "    </tr>\n",
       "    <tr>\n",
       "      <th>2</th>\n",
       "      <td>1</td>\n",
       "      <td>48</td>\n",
       "      <td>1.0</td>\n",
       "      <td>1</td>\n",
       "      <td>20.0</td>\n",
       "      <td>0.0</td>\n",
       "      <td>0</td>\n",
       "      <td>0</td>\n",
       "      <td>0</td>\n",
       "      <td>245.0</td>\n",
       "      <td>127.5</td>\n",
       "      <td>80.0</td>\n",
       "      <td>25.34</td>\n",
       "      <td>75.0</td>\n",
       "      <td>70.0</td>\n",
       "      <td>0</td>\n",
       "    </tr>\n",
       "    <tr>\n",
       "      <th>3</th>\n",
       "      <td>0</td>\n",
       "      <td>61</td>\n",
       "      <td>3.0</td>\n",
       "      <td>1</td>\n",
       "      <td>30.0</td>\n",
       "      <td>0.0</td>\n",
       "      <td>0</td>\n",
       "      <td>1</td>\n",
       "      <td>0</td>\n",
       "      <td>225.0</td>\n",
       "      <td>150.0</td>\n",
       "      <td>95.0</td>\n",
       "      <td>28.58</td>\n",
       "      <td>65.0</td>\n",
       "      <td>103.0</td>\n",
       "      <td>1</td>\n",
       "    </tr>\n",
       "    <tr>\n",
       "      <th>4</th>\n",
       "      <td>0</td>\n",
       "      <td>46</td>\n",
       "      <td>3.0</td>\n",
       "      <td>1</td>\n",
       "      <td>23.0</td>\n",
       "      <td>0.0</td>\n",
       "      <td>0</td>\n",
       "      <td>0</td>\n",
       "      <td>0</td>\n",
       "      <td>285.0</td>\n",
       "      <td>130.0</td>\n",
       "      <td>84.0</td>\n",
       "      <td>23.10</td>\n",
       "      <td>85.0</td>\n",
       "      <td>85.0</td>\n",
       "      <td>0</td>\n",
       "    </tr>\n",
       "  </tbody>\n",
       "</table>\n",
       "</div>"
      ],
      "text/plain": [
       "   male  age  education  currentSmoker  cigsPerDay  BPMeds  prevalentStroke  \\\n",
       "0     1   39        4.0              0         0.0     0.0                0   \n",
       "1     0   46        2.0              0         0.0     0.0                0   \n",
       "2     1   48        1.0              1        20.0     0.0                0   \n",
       "3     0   61        3.0              1        30.0     0.0                0   \n",
       "4     0   46        3.0              1        23.0     0.0                0   \n",
       "\n",
       "   prevalentHyp  diabetes  totChol  sysBP  diaBP    BMI  heartRate  glucose  \\\n",
       "0             0         0    195.0  106.0   70.0  26.97       80.0     77.0   \n",
       "1             0         0    250.0  121.0   81.0  28.73       95.0     76.0   \n",
       "2             0         0    245.0  127.5   80.0  25.34       75.0     70.0   \n",
       "3             1         0    225.0  150.0   95.0  28.58       65.0    103.0   \n",
       "4             0         0    285.0  130.0   84.0  23.10       85.0     85.0   \n",
       "\n",
       "   TenYearCHD  \n",
       "0           0  \n",
       "1           0  \n",
       "2           0  \n",
       "3           1  \n",
       "4           0  "
      ]
     },
     "execution_count": 3,
     "metadata": {},
     "output_type": "execute_result"
    }
   ],
   "source": [
    "heart_disease_dataset.head()"
   ]
  },
  {
   "cell_type": "markdown",
   "metadata": {},
   "source": [
    "Dataset-a съдържа следните колони:\n",
    "\n",
    "CATEGORICAL DATA:\n",
    "    - male (Пол): Приема стойност 0 за female и 1 за male.\n",
    "    - education (Образование): Приема стойности 1 за Some High School, 2 за High School или GED, 3 за Some College или Vocational School и 4 зая College\n",
    "    - currentSmoker (Пушач): Приема стойности 0 за непушач и 1 за пушач\n",
    "    - BPMeds (Лекарства за кръвно налягане): Приема стойност 0 в случай, че пациентът не приема лекарства за кръвно налягане и 1 - ако приема.\n",
    "    - prevalentStroke (Предишен сърдечен удар): Приема стойност 0, ако пациентът не е получавал сърдечен удар преди и 1 - ако е.\n",
    "    - prevalentHyp (Свръхчувствителност): Приема стойност 0, ако пациентът не е развивал свръхчувствителност преди и 1 - ако е.\n",
    "    - diabetes (Диабет): Приема стойност 0, ако пациентът няма диабет и 1 - ако има.\n",
    "NUMERICAL DATA:\n",
    "    - age (Години): Когато е правено изследването\n",
    "    - cigsPerDay (Брой цигари на ден): Средно\n",
    "    - totChol (Ниво на холестерол): Измерва се в mg/dL\n",
    "    - sysBP (Систолно кръвно налягане): Горна граница на кръвно налягане. Измерва се в mmHg.\n",
    "    - diaBP (Диастолно кръвно налягане): Долна граница на кръвно налягане. Измерва с в mmHg.\n",
    "    - BMI - Body Mass Index (Индекс на телесната маса): Пресмята се по следната формула - Weight (kg) / Height(meter-squared)\n",
    "    - heartRate (Сърдечен ритъм): Измерва се в Beats/Min\n",
    "    - glucose (Глюкоза): Измерва се в mg/dL.\n",
    "VALUE TO PREDICT:\n",
    "    - TenYearCHD () - Стойността, която трябва да се предскаже, приема стойност 0, ако няма шанс пациентът да развие сърдечно заболяване в близките 10 години и 1 - ако има."
   ]
  },
  {
   "cell_type": "markdown",
   "metadata": {},
   "source": [
    "# Data Exploration"
   ]
  },
  {
   "cell_type": "code",
   "execution_count": 4,
   "metadata": {},
   "outputs": [
    {
     "name": "stdout",
     "output_type": "stream",
     "text": [
      "<class 'pandas.core.frame.DataFrame'>\n",
      "RangeIndex: 4240 entries, 0 to 4239\n",
      "Data columns (total 16 columns):\n",
      "male               4240 non-null int64\n",
      "age                4240 non-null int64\n",
      "education          4135 non-null float64\n",
      "currentSmoker      4240 non-null int64\n",
      "cigsPerDay         4211 non-null float64\n",
      "BPMeds             4187 non-null float64\n",
      "prevalentStroke    4240 non-null int64\n",
      "prevalentHyp       4240 non-null int64\n",
      "diabetes           4240 non-null int64\n",
      "totChol            4190 non-null float64\n",
      "sysBP              4240 non-null float64\n",
      "diaBP              4240 non-null float64\n",
      "BMI                4221 non-null float64\n",
      "heartRate          4239 non-null float64\n",
      "glucose            3852 non-null float64\n",
      "TenYearCHD         4240 non-null int64\n",
      "dtypes: float64(9), int64(7)\n",
      "memory usage: 530.1 KB\n"
     ]
    }
   ],
   "source": [
    "heart_disease_dataset.info();\n",
    "names = list(heart_disease_dataset)"
   ]
  },
  {
   "cell_type": "code",
   "execution_count": 5,
   "metadata": {},
   "outputs": [
    {
     "data": {
      "text/plain": [
       "male                 0\n",
       "age                  0\n",
       "education          105\n",
       "currentSmoker        0\n",
       "cigsPerDay          29\n",
       "BPMeds              53\n",
       "prevalentStroke      0\n",
       "prevalentHyp         0\n",
       "diabetes             0\n",
       "totChol             50\n",
       "sysBP                0\n",
       "diaBP                0\n",
       "BMI                 19\n",
       "heartRate            1\n",
       "glucose            388\n",
       "TenYearCHD           0\n",
       "dtype: int64"
      ]
     },
     "execution_count": 5,
     "metadata": {},
     "output_type": "execute_result"
    }
   ],
   "source": [
    "heart_disease_dataset.isnull().sum()"
   ]
  },
  {
   "cell_type": "markdown",
   "metadata": {},
   "source": [
    "От тук виждаме, че има само една характеристика, която има доста липсващи стойности - glucose. Също така. всички характеристики са сведени до числа - int и float, включително и categorical данните."
   ]
  },
  {
   "cell_type": "code",
   "execution_count": 6,
   "metadata": {},
   "outputs": [
    {
     "data": {
      "image/png": "[encoded data removed]",
      "text/plain": [
       "<Figure size 1152x1440 with 16 Axes>"
      ]
     },
     "metadata": {
      "needs_background": "light"
     },
     "output_type": "display_data"
    }
   ],
   "source": [
    "heart_disease_dataset.hist(figsize=(16, 20), bins=50, xlabelsize=8, ylabelsize=8);"
   ]
  },
  {
   "cell_type": "code",
   "execution_count": 7,
   "metadata": {},
   "outputs": [
    {
     "data": {
      "image/png": "[encoded data removed]",
      "text/plain": [
       "<Figure size 720x576 with 2 Axes>"
      ]
     },
     "metadata": {
      "needs_background": "light"
     },
     "output_type": "display_data"
    }
   ],
   "source": [
    "f, ax = plt.subplots(figsize=(10, 8))\n",
    "corr = heart_disease_dataset.corr()\n",
    "sns.heatmap(corr, mask=np.zeros_like(corr, dtype=np.bool), cmap=sns.diverging_palette(220, 10, as_cmap=True),\n",
    "            square=True, ax=ax);"
   ]
  },
  {
   "cell_type": "code",
   "execution_count": 8,
   "metadata": {},
   "outputs": [
    {
     "name": "stdout",
     "output_type": "stream",
     "text": [
      "There are 0 strongly correlated values with TenYearCHD:\n",
      "Series([], Name: TenYearCHD, dtype: float64)\n"
     ]
    }
   ],
   "source": [
    "features_correlation = heart_disease_dataset.corr()['TenYearCHD'][:-1]\n",
    "golden_features_list = features_correlation[abs(features_correlation) > 0.5].sort_values(ascending=False)\n",
    "print(\"There are {} strongly correlated values with TenYearCHD:\\n{}\".format(len(golden_features_list), golden_features_list))"
   ]
  },
  {
   "cell_type": "code",
   "execution_count": 9,
   "metadata": {
    "scrolled": true
   },
   "outputs": [
    {
     "name": "stdout",
     "output_type": "stream",
     "text": [
      "There are 2 not very strong correlated values with TenYearCHD:\n",
      "age      0.225408\n",
      "sysBP    0.216374\n",
      "Name: TenYearCHD, dtype: float64\n"
     ]
    }
   ],
   "source": [
    "features_correlation = heart_disease_dataset.corr()['TenYearCHD'][:-1]\n",
    "golden_features_list = features_correlation[abs(features_correlation) > 0.2].sort_values(ascending=False)\n",
    "print(\"There are {} not very strong correlated values with TenYearCHD:\\n{}\".format(len(golden_features_list), golden_features_list))"
   ]
  },
  {
   "cell_type": "markdown",
   "metadata": {},
   "source": [
    "Най-силна корелация имаме между currentSmoker и cigsPerDay. Това, дали пациентът е развивал свръхчувствителност зависи от неговите долна и горна граница на кръвно налягане. Също така, това дали пациентът има диабет, зависи от глюкозата в кръвта му."
   ]
  },
  {
   "cell_type": "markdown",
   "metadata": {},
   "source": [
    "# Data Preparation - functions"
   ]
  },
  {
   "cell_type": "code",
   "execution_count": 10,
   "metadata": {},
   "outputs": [],
   "source": [
    "def predict_empty_numerical_values(column_name):\n",
    "    dataset_without_null_except = heart_disease_dataset.dropna(axis='columns')\n",
    "    dataset_without_null_except = dataset_without_null_except.join(heart_disease_dataset[column_name])\n",
    "    linearreg = LinearRegression()\n",
    "    x_train = dataset_without_null_except[dataset_without_null_except[column_name].notnull()].drop(columns=column_name)\n",
    "    y_train = dataset_without_null_except[dataset_without_null_except[column_name].notnull()][column_name]\n",
    "    x_test = dataset_without_null_except[dataset_without_null_except[column_name].isnull()].drop(columns=column_name)\n",
    "    y_test = dataset_without_null_except[dataset_without_null_except[column_name].isnull()][column_name]\n",
    "    linearreg.fit(x_train, y_train)\n",
    "    predicted = linearreg.predict(x_test)\n",
    "    heart_disease_dataset[column_name][heart_disease_dataset[column_name].isnull()] = predicted"
   ]
  },
  {
   "cell_type": "code",
   "execution_count": 11,
   "metadata": {},
   "outputs": [],
   "source": [
    "def predict_empty_categorical_values(column_name):\n",
    "    dataset_without_null_except = heart_disease_dataset.dropna(axis='columns')\n",
    "    dataset_without_null_except = dataset_without_null_except.join(heart_disease_dataset[column_name])\n",
    "    logreg = LogisticRegression()\n",
    "    x_train = dataset_without_null_except[dataset_without_null_except[column_name].notnull()].drop(columns=column_name)\n",
    "    y_train = dataset_without_null_except[dataset_without_null_except[column_name].notnull()][column_name]\n",
    "    x_test = dataset_without_null_except[dataset_without_null_except[column_name].isnull()].drop(columns=column_name)\n",
    "    y_test = dataset_without_null_except[dataset_without_null_except[column_name].isnull()][column_name]\n",
    "    logreg.fit(x_train, y_train)\n",
    "    predicted = logreg.predict(x_test)\n",
    "    heart_disease_dataset[column_name][heart_disease_dataset[column_name].isnull()] = predicted"
   ]
  },
  {
   "cell_type": "code",
   "execution_count": 12,
   "metadata": {},
   "outputs": [],
   "source": [
    "numerical_data = ['age', 'cigsPerDay', 'totChol', 'sysBP', 'diaBP', 'BMI', 'heartRate', 'glucose']\n",
    "categorical_data = ['male', 'education', 'currentSmoker', 'BPMeds', 'prevalentStroke', 'prevalentHyp', 'diabetes']\n",
    "for column_name in list(heart_disease_dataset):\n",
    "    if any(list(pd.isnull(heart_disease_dataset[column_name]).values)) and column_name in numerical_data:\n",
    "        predict_empty_numerical_values(column_name)\n",
    "    if any(list(pd.isnull(heart_disease_dataset[column_name]).values)) and column_name in categorical_data:\n",
    "        predict_empty_categorical_values(column_name)"
   ]
  },
  {
   "cell_type": "code",
   "execution_count": 13,
   "metadata": {},
   "outputs": [
    {
     "data": {
      "text/plain": [
       "male               0\n",
       "age                0\n",
       "education          0\n",
       "currentSmoker      0\n",
       "cigsPerDay         0\n",
       "BPMeds             0\n",
       "prevalentStroke    0\n",
       "prevalentHyp       0\n",
       "diabetes           0\n",
       "totChol            0\n",
       "sysBP              0\n",
       "diaBP              0\n",
       "BMI                0\n",
       "heartRate          0\n",
       "glucose            0\n",
       "TenYearCHD         0\n",
       "dtype: int64"
      ]
     },
     "execution_count": 13,
     "metadata": {},
     "output_type": "execute_result"
    }
   ],
   "source": [
    "heart_disease_dataset.isnull().sum()"
   ]
  },
  {
   "cell_type": "markdown",
   "metadata": {},
   "source": [
    "За да разберем дали това е правилно решение, ще опитаме и с премахване на всички features, които имат празни стойности. "
   ]
  },
  {
   "cell_type": "code",
   "execution_count": 14,
   "metadata": {},
   "outputs": [],
   "source": [
    "def clear_empty_data(heart_disease_dataset):\n",
    "    heart_disease_dataset.dropna(axis=0,inplace=True)"
   ]
  },
  {
   "cell_type": "markdown",
   "metadata": {},
   "source": [
    "Нека заредим още веднъж dataset-a и да премахнем редовете, които съдържат празни стойности, за да сравним с кой dataset моделите ще се държат по-добре."
   ]
  },
  {
   "cell_type": "code",
   "execution_count": 15,
   "metadata": {},
   "outputs": [],
   "source": [
    "hdd_no_empty=pd.read_csv(\"framingham.csv\")\n",
    "clear_empty_data(hdd_no_empty)"
   ]
  },
  {
   "cell_type": "code",
   "execution_count": 16,
   "metadata": {},
   "outputs": [],
   "source": [
    "X_train, X_test, y_train, y_test = train_test_split(heart_disease_dataset.iloc[:, :-1], heart_disease_dataset.iloc[:,-1], test_size=0.4, random_state=0)\n",
    "X_train_e, X_test_e, y_train_e, y_test_e = train_test_split(hdd_no_empty.iloc[:, :-1], hdd_no_empty.iloc[:,-1], test_size=0.4, random_state=0)"
   ]
  },
  {
   "cell_type": "markdown",
   "metadata": {},
   "source": [
    "## Oversampling"
   ]
  },
  {
   "cell_type": "code",
   "execution_count": 17,
   "metadata": {},
   "outputs": [],
   "source": [
    "oversampler = SMOTE(random_state=12, ratio=1.0)\n",
    "X_train, y_train = oversampler.fit_sample(X_train, y_train)"
   ]
  },
  {
   "cell_type": "code",
   "execution_count": 18,
   "metadata": {},
   "outputs": [],
   "source": [
    "def plot_feature_importance(importances, names):\n",
    "    plt.title(\"Feature importances\")\n",
    "    indices = np.argsort(importances)\n",
    "    plt.barh(range(len(indices)), importances[indices], color='b', align='center')\n",
    "    plt.yticks(range(len(indices)), [names[i] for i in indices])\n",
    "    plt.show()"
   ]
  },
  {
   "cell_type": "markdown",
   "metadata": {},
   "source": [
    "# Model building"
   ]
  },
  {
   "cell_type": "markdown",
   "metadata": {},
   "source": [
    "Ще обучим няколко модела, като използваме Логистична регресия, DecisionTree класификатор, RandomForest класификатор, KNN. За да се извлече максималното от използваните алгоритми използваме hyperparameter optimization/tuning, като за целта използвам GridSearch - изпробват се всички комбинации с посочените параметри (време за кафе), както и RandomizedSearch - избират се произволни комбинации от параметри (ще я използвам за RandomForestClassifier, ExtraTreesClassifier и KNearestNeighbors); и се избира най-добрата на база оценка на модела."
   ]
  },
  {
   "cell_type": "markdown",
   "metadata": {},
   "source": [
    "## Logistic Regression"
   ]
  },
  {
   "cell_type": "markdown",
   "metadata": {},
   "source": [
    "Като за начало ще намерим параметрите, с които ще можем да изсмучем максималното от модела ни - hyperparameter optimization. Ще използваме GridSearchCV, за да тестваме различни комбинации със следните параметри: C, penalty, tol."
   ]
  },
  {
   "cell_type": "code",
   "execution_count": 19,
   "metadata": {},
   "outputs": [
    {
     "name": "stdout",
     "output_type": "stream",
     "text": [
      "Optimized hpyerparameters: {'C': 0.46415888336127775, 'tol': 0.004641588833612777, 'penalty': 'l1'}\n",
      "Score with optimized parameters: 0.682093023255814\n"
     ]
    }
   ],
   "source": [
    "parameters={\"C\":np.logspace(-3,3,10), \"penalty\":[\"l1\",\"l2\"], \"tol\":np.logspace(-3,3,10)}\n",
    "logreg=LogisticRegression()\n",
    "logreg_cv=GridSearchCV(logreg,parameters,cv=10);\n",
    "logreg_cv.fit(X_train,y_train);\n",
    "\n",
    "print(\"Optimized hpyerparameters:\",logreg_cv.best_params_)\n",
    "print(\"Score with optimized parameters:\",logreg_cv.best_score_)"
   ]
  },
  {
   "cell_type": "code",
   "execution_count": 20,
   "metadata": {},
   "outputs": [],
   "source": [
    "def train_model_with_logistic_regression(X_train, y_train, X_test, y_test, params={}):\n",
    "    model = LogisticRegression(**params);\n",
    "    model.fit(X_train, y_train)\n",
    "    print(sorted(list(zip(map(abs, model.coef_.tolist()[0]), names)), reverse=True))\n",
    "    print(\"Train score: \" + str(model.score(X_train, y_train)))\n",
    "    print(\"Test score: \" + str(model.score(X_test, y_test)))\n",
    "    return model"
   ]
  },
  {
   "cell_type": "markdown",
   "metadata": {},
   "source": [
    "Да проверим какъв score ще получим върху двата dataset-a - единия със запълнените празни стойности и другия с премахнатите редове с празни стойности. Ще тестваме какъв score ще получим и с оптимизираните хиперпараметри, които получихме."
   ]
  },
  {
   "cell_type": "code",
   "execution_count": 21,
   "metadata": {},
   "outputs": [
    {
     "name": "stdout",
     "output_type": "stream",
     "text": [
      "[(0.7245839262518234, 'prevalentStroke'), (0.6147301208657515, 'male'), (0.3793638726167513, 'prevalentHyp'), (0.18213467849660128, 'currentSmoker'), (0.08310775980187164, 'diabetes'), (0.06892633443145783, 'age'), (0.045959866960158205, 'BPMeds'), (0.015513787278413392, 'BMI'), (0.015020879617281189, 'cigsPerDay'), (0.013111742340089385, 'education'), (0.009543577152281725, 'sysBP'), (0.006128416851388123, 'glucose'), (0.0017383603507448492, 'heartRate'), (0.0013440431201377748, 'totChol'), (0.0013148429969368366, 'diaBP')]\n",
      "Train score: 0.6825581395348838\n",
      "Test score: 0.6851415094339622\n"
     ]
    }
   ],
   "source": [
    "model_logreg = train_model_with_logistic_regression(X_train, y_train, X_test, y_test)"
   ]
  },
  {
   "cell_type": "code",
   "execution_count": 22,
   "metadata": {},
   "outputs": [
    {
     "name": "stdout",
     "output_type": "stream",
     "text": [
      "[(0.5913158861919798, 'prevalentStroke'), (0.4730424875766562, 'prevalentHyp'), (0.40031258875085535, 'male'), (0.2089225233434471, 'BPMeds'), (0.18514603556634582, 'diabetes'), (0.09879203309216783, 'education'), (0.033882411309108726, 'age'), (0.019149590048654148, 'cigsPerDay'), (0.015424606785890476, 'sysBP'), (0.013868641355043279, 'heartRate'), (0.010460006491813832, 'diaBP'), (0.005227024725092503, 'currentSmoker'), (0.00507461589217372, 'glucose'), (0.0034446311589377736, 'BMI'), (0.0007344229707698127, 'totChol')]\n",
      "Train score: 0.8600729261622607\n",
      "Test score: 0.8394808743169399\n"
     ]
    },
    {
     "data": {
      "text/plain": [
       "LogisticRegression(C=1.0, class_weight=None, dual=False, fit_intercept=True,\n",
       "          intercept_scaling=1, max_iter=100, multi_class='warn',\n",
       "          n_jobs=None, penalty='l2', random_state=None, solver='warn',\n",
       "          tol=0.0001, verbose=0, warm_start=False)"
      ]
     },
     "execution_count": 22,
     "metadata": {},
     "output_type": "execute_result"
    }
   ],
   "source": [
    "train_model_with_logistic_regression(X_train_e, y_train_e, X_test_e, y_test_e)"
   ]
  },
  {
   "cell_type": "markdown",
   "metadata": {},
   "source": [
    "Очевидно модела ни се справя по-добре с тестовите данни от първия dataset - този със запълнените празни стойности. "
   ]
  },
  {
   "cell_type": "code",
   "execution_count": 23,
   "metadata": {},
   "outputs": [
    {
     "name": "stdout",
     "output_type": "stream",
     "text": [
      "[(0.6107244941933391, 'male'), (0.39996961938273373, 'prevalentStroke'), (0.34696692676834506, 'prevalentHyp'), (0.16481948075365171, 'currentSmoker'), (0.06955540733236684, 'age'), (0.016273374130728983, 'BMI'), (0.015664397521714758, 'cigsPerDay'), (0.010090616057403143, 'sysBP'), (0.005898544797391227, 'glucose'), (0.005812465674661582, 'education'), (0.0014368191309548973, 'heartRate'), (0.0013744585664024272, 'totChol'), (0.0009720585671223284, 'diaBP'), (0.0, 'diabetes'), (0.0, 'BPMeds')]\n",
      "Train score: 0.683953488372093\n",
      "Test score: 0.6869103773584906\n"
     ]
    },
    {
     "data": {
      "text/plain": [
       "LogisticRegression(C=0.46415888336127775, class_weight=None, dual=False,\n",
       "          fit_intercept=True, intercept_scaling=1, max_iter=100,\n",
       "          multi_class='warn', n_jobs=None, penalty='l1', random_state=None,\n",
       "          solver='warn', tol=0.004641588833612777, verbose=0,\n",
       "          warm_start=False)"
      ]
     },
     "execution_count": 23,
     "metadata": {},
     "output_type": "execute_result"
    }
   ],
   "source": [
    "train_model_with_logistic_regression(X_train, y_train, X_test, y_test, logreg_cv.best_params_)"
   ]
  },
  {
   "cell_type": "markdown",
   "metadata": {},
   "source": [
    "### Confusion Matrix при Logistic regression"
   ]
  },
  {
   "cell_type": "code",
   "execution_count": 24,
   "metadata": {},
   "outputs": [
    {
     "data": {
      "text/plain": [
       "<matplotlib.axes._subplots.AxesSubplot at 0x7f93d005e908>"
      ]
     },
     "execution_count": 24,
     "metadata": {},
     "output_type": "execute_result"
    },
    {
     "data": {
      "image/png": "[encoded data removed]",
      "text/plain": [
       "<Figure size 576x360 with 2 Axes>"
      ]
     },
     "metadata": {
      "needs_background": "light"
     },
     "output_type": "display_data"
    }
   ],
   "source": [
    "cm=confusion_matrix(y_test,model_logreg.predict(X_test))\n",
    "conf_matrix=pd.DataFrame(data=cm,columns=['Predicted:0','Predicted:1'],index=['Actual:0','Actual:1'])\n",
    "plt.figure(figsize = (8,5))\n",
    "sns.heatmap(conf_matrix, annot=True,fmt='d',cmap=\"YlGnBu\")"
   ]
  },
  {
   "cell_type": "code",
   "execution_count": 25,
   "metadata": {},
   "outputs": [
    {
     "name": "stdout",
     "output_type": "stream",
     "text": [
      "Recall0.9245810055865922\n"
     ]
    }
   ],
   "source": [
    "recall = cm[0, 0] / (cm[0, 0]+cm[1, 0])\n",
    "print(\"Recall\" + str(recall))"
   ]
  },
  {
   "cell_type": "markdown",
   "metadata": {},
   "source": [
    "Както се вижда от матрицата, моделът ни се справя добре при предсказване, че пациента няма шанс от сърдечно заболяване в близките 10 години, когато наистина е така. Проблемът е при предсказване, че пациентът има шанс за сърдечно заболяване. Само в 14 от случаите, моделът е познал, че пациентът има шанс за сърдечно заболяване в близките 10 години. В останалите 236 случаи е объркал, което е фатално в този случай (по-добре да предскажем на здрав човек, че е болен, отколкото обратното). Това се дължи на използването на логистична регресия. Както видяхме в heatmap-a, стойността, която предсказваме не е много зависима от останалите характеристики и за това в случая логистичната регресия не ни върши много добра работа. Приличният score се дължи на това, че доста голяма част от данните в dataset-a показват, че пациент няма шанс за сърдечни заболявания в близките 10 години."
   ]
  },
  {
   "cell_type": "markdown",
   "metadata": {},
   "source": [
    "## Decision Tree Classification"
   ]
  },
  {
   "cell_type": "markdown",
   "metadata": {},
   "source": [
    "При Decision Tree Classification отново ще направим hyperparameter optimization и ще обучим и тестваме модела."
   ]
  },
  {
   "cell_type": "code",
   "execution_count": 26,
   "metadata": {},
   "outputs": [
    {
     "name": "stdout",
     "output_type": "stream",
     "text": [
      "Optimized hpyerparameters: {'criterion': 'gini', 'max_depth': 81, 'splitter': 'random'}\n",
      "Score with optimized parameters: 0.8486046511627907\n"
     ]
    }
   ],
   "source": [
    "parameters={\"criterion\":[\"gini\", \"entropy\"], \"splitter\":[\"best\",\"random\"], \"max_depth\": range(1, 110, 10)}\n",
    "dtree=DecisionTreeClassifier()\n",
    "dtree_cv=GridSearchCV(dtree,parameters,cv=10);\n",
    "dtree_cv.fit(X_train,y_train);\n",
    "\n",
    "print(\"Optimized hpyerparameters:\",dtree_cv.best_params_)\n",
    "print(\"Score with optimized parameters:\",dtree_cv.best_score_)"
   ]
  },
  {
   "cell_type": "code",
   "execution_count": 27,
   "metadata": {},
   "outputs": [],
   "source": [
    "def train_model_with_decision_tree(X_train, y_train, X_test, y_test, params={}):\n",
    "    model = DecisionTreeClassifier(**params).fit(X_train,y_train)\n",
    "    print(sorted(zip(map(lambda x: round(x, 4), model.feature_importances_), names), reverse=True))\n",
    "    plot_feature_importance(model.feature_importances_, names)\n",
    "    scores = cross_val_score(model, X_train, y_train, cv=5)\n",
    "    print(\"Train score: \" + str(scores.mean()))\n",
    "    scores = cross_val_score(model, X_test, y_test, cv=5)\n",
    "    print(\"Test score: \" + str(scores.mean()))\n",
    "    return model"
   ]
  },
  {
   "cell_type": "code",
   "execution_count": 28,
   "metadata": {},
   "outputs": [
    {
     "name": "stdout",
     "output_type": "stream",
     "text": [
      "[(0.1978, 'male'), (0.186, 'age'), (0.08, 'glucose'), (0.0784, 'prevalentHyp'), (0.0782, 'sysBP'), (0.0769, 'heartRate'), (0.0723, 'totChol'), (0.0605, 'BMI'), (0.0482, 'education'), (0.0447, 'currentSmoker'), (0.0437, 'diaBP'), (0.0235, 'cigsPerDay'), (0.0035, 'prevalentStroke'), (0.0032, 'BPMeds'), (0.0031, 'diabetes')]\n"
     ]
    },
    {
     "data": {
      "image/png": "[encoded data removed]",
      "text/plain": [
       "<Figure size 432x288 with 1 Axes>"
      ]
     },
     "metadata": {
      "needs_background": "light"
     },
     "output_type": "display_data"
    },
    {
     "name": "stdout",
     "output_type": "stream",
     "text": [
      "Train score: 0.8237209302325581\n",
      "Test score: 0.7570640291514836\n"
     ]
    }
   ],
   "source": [
    "model_dt = train_model_with_decision_tree(X_train, y_train, X_test, y_test)"
   ]
  },
  {
   "cell_type": "code",
   "execution_count": 29,
   "metadata": {
    "scrolled": false
   },
   "outputs": [
    {
     "name": "stdout",
     "output_type": "stream",
     "text": [
      "[(0.1734, 'sysBP'), (0.1582, 'BMI'), (0.1448, 'glucose'), (0.1285, 'totChol'), (0.1108, 'diaBP'), (0.0958, 'heartRate'), (0.0824, 'age'), (0.0382, 'cigsPerDay'), (0.0245, 'male'), (0.0148, 'education'), (0.0088, 'prevalentHyp'), (0.007, 'BPMeds'), (0.0063, 'prevalentStroke'), (0.004, 'diabetes'), (0.0025, 'currentSmoker')]\n"
     ]
    },
    {
     "data": {
      "image/png": "[encoded data removed]",
      "text/plain": [
       "<Figure size 432x288 with 1 Axes>"
      ]
     },
     "metadata": {
      "needs_background": "light"
     },
     "output_type": "display_data"
    },
    {
     "name": "stdout",
     "output_type": "stream",
     "text": [
      "Train score: 0.7607092943980952\n",
      "Test score: 0.7582191780821919\n"
     ]
    },
    {
     "data": {
      "text/plain": [
       "DecisionTreeClassifier(class_weight=None, criterion='gini', max_depth=None,\n",
       "            max_features=None, max_leaf_nodes=None,\n",
       "            min_impurity_decrease=0.0, min_impurity_split=None,\n",
       "            min_samples_leaf=1, min_samples_split=2,\n",
       "            min_weight_fraction_leaf=0.0, presort=False, random_state=None,\n",
       "            splitter='best')"
      ]
     },
     "execution_count": 29,
     "metadata": {},
     "output_type": "execute_result"
    }
   ],
   "source": [
    "train_model_with_decision_tree(X_train_e, y_train_e, X_test_e, y_test_e)"
   ]
  },
  {
   "cell_type": "code",
   "execution_count": 30,
   "metadata": {
    "scrolled": false
   },
   "outputs": [
    {
     "name": "stdout",
     "output_type": "stream",
     "text": [
      "[(0.1688, 'prevalentHyp'), (0.1461, 'male'), (0.1222, 'age'), (0.0774, 'diaBP'), (0.0687, 'education'), (0.0674, 'BMI'), (0.0662, 'sysBP'), (0.0658, 'totChol'), (0.0584, 'glucose'), (0.0535, 'heartRate'), (0.0505, 'currentSmoker'), (0.0332, 'cigsPerDay'), (0.0076, 'diabetes'), (0.0076, 'BPMeds'), (0.0066, 'prevalentStroke')]\n"
     ]
    },
    {
     "data": {
      "image/png": "[encoded data removed]",
      "text/plain": [
       "<Figure size 432x288 with 1 Axes>"
      ]
     },
     "metadata": {
      "needs_background": "light"
     },
     "output_type": "display_data"
    },
    {
     "name": "stdout",
     "output_type": "stream",
     "text": [
      "Train score: 0.8265116279069769\n",
      "Test score: 0.7553097345132743\n"
     ]
    }
   ],
   "source": [
    "model_dt_opt = train_model_with_decision_tree(X_train, y_train, X_test, y_test, dtree_cv.best_params_)"
   ]
  },
  {
   "cell_type": "markdown",
   "metadata": {},
   "source": [
    "## Confusion matrix при Decision Tree Classification"
   ]
  },
  {
   "cell_type": "markdown",
   "metadata": {},
   "source": [
    "Нека погледнем confusion матриците, когато не използваме hyperparameter optimization и когато - да. "
   ]
  },
  {
   "cell_type": "code",
   "execution_count": 31,
   "metadata": {},
   "outputs": [
    {
     "data": {
      "text/plain": [
       "<matplotlib.axes._subplots.AxesSubplot at 0x7f93d2b30a90>"
      ]
     },
     "execution_count": 31,
     "metadata": {},
     "output_type": "execute_result"
    },
    {
     "data": {
      "image/png": "[encoded data removed]",
      "text/plain": [
       "<Figure size 576x360 with 2 Axes>"
      ]
     },
     "metadata": {
      "needs_background": "light"
     },
     "output_type": "display_data"
    }
   ],
   "source": [
    "cm=confusion_matrix(y_test, model_dt.predict(X_test))\n",
    "conf_matrix=pd.DataFrame(data=cm,columns=['Predicted:0','Predicted:1'],index=['Actual:0','Actual:1'])\n",
    "plt.figure(figsize = (8,5))\n",
    "sns.heatmap(conf_matrix, annot=True,fmt='d',cmap=\"YlGnBu\")"
   ]
  },
  {
   "cell_type": "code",
   "execution_count": 32,
   "metadata": {},
   "outputs": [
    {
     "data": {
      "text/plain": [
       "<matplotlib.axes._subplots.AxesSubplot at 0x7f93d2cb6630>"
      ]
     },
     "execution_count": 32,
     "metadata": {},
     "output_type": "execute_result"
    },
    {
     "data": {
      "image/png": "[encoded data removed]",
      "text/plain": [
       "<Figure size 576x360 with 2 Axes>"
      ]
     },
     "metadata": {
      "needs_background": "light"
     },
     "output_type": "display_data"
    }
   ],
   "source": [
    "cm=confusion_matrix(y_test, model_dt_opt.predict(X_test))\n",
    "conf_matrix=pd.DataFrame(data=cm,columns=['Predicted:0','Predicted:1'],index=['Actual:0','Actual:1'])\n",
    "plt.figure(figsize = (8,5))\n",
    "sns.heatmap(conf_matrix, annot=True,fmt='d',cmap=\"YlGnBu\")"
   ]
  },
  {
   "cell_type": "markdown",
   "metadata": {},
   "source": [
    "В първия случай имаме подобрение в сравнение с използването на логистична регресия. Въпреки че моделът ни е определил за малко повече хора, че потенциално са застрашени от сърдечни заболявания, а това не е така, той е успял да предскаже за 70 човека, че имат шанс за сърдечно заболяване и е познал. Вече споменахме, че предпочитаме моделът ни да каже на здравия болен, отколкото на болния - здрав. За това, въпреки ниският score, имаме напредък. \n",
    "Странното тук е confusion матрицата при използване на hyperparameter optimization. С цел постигане на по-висок score, параметрите са така избрани, че моделът ни вече предсказва за всички, че нямат шанс от сърдечно заболяване."
   ]
  },
  {
   "cell_type": "markdown",
   "metadata": {},
   "source": [
    "## Random Forest Classification"
   ]
  },
  {
   "cell_type": "markdown",
   "metadata": {},
   "source": [
    "При Random Forest Classification, за оптимизиране на хиперпараметрите, ще използваме методът RandomizedSearch, тъй като всевъзможните комбинации на избраните параметри са много и времето за изпробване и сравняване на всички е доста. Този метод не дава гаранция, че ще намери най-добрите параметри."
   ]
  },
  {
   "cell_type": "code",
   "execution_count": 33,
   "metadata": {},
   "outputs": [
    {
     "name": "stdout",
     "output_type": "stream",
     "text": [
      "Optimized hpyerparameters: {'n_estimators': 101, 'min_samples_split': 4, 'min_samples_leaf': 1, 'max_features': 'auto', 'bootstrap': False, 'max_depth': 31}\n",
      "Score with optimized parameters: 0.9148837209302325\n"
     ]
    }
   ],
   "source": [
    "parameters={\"n_estimators\": range(1, 201, 10), \"max_features\":[\"auto\",\"sqrt\"], \"max_depth\":range(1, 101, 10), \"min_samples_split\":range(2,10,1), \"min_samples_leaf\":[1, 2, 4], \"bootstrap\":[True, False]}\n",
    "rforest=RandomForestClassifier()\n",
    "rforest_cv=RandomizedSearchCV(rforest,parameters,cv=10);\n",
    "rforest_cv.fit(X_train,y_train);\n",
    "\n",
    "print(\"Optimized hpyerparameters:\",rforest_cv.best_params_)\n",
    "print(\"Score with optimized parameters:\",rforest_cv.best_score_)"
   ]
  },
  {
   "cell_type": "code",
   "execution_count": 34,
   "metadata": {},
   "outputs": [],
   "source": [
    "def train_model_with_random_forest(X_train, y_train, X_test, y_test, params={}):\n",
    "    model = RandomForestClassifier(**params).fit(X_train,y_train);\n",
    "    print(sorted(zip(map(lambda x: round(x, 4), model.feature_importances_), names), reverse=True))\n",
    "    plot_feature_importance(model.feature_importances_, names)\n",
    "    scores = cross_val_score(model, X_train, y_train, cv=5)\n",
    "    print(\"Train score: \" + str(scores.mean()))\n",
    "    scores = cross_val_score(model, X_test, y_test, cv=5)\n",
    "    print(\"Test score: \" + str(scores.mean()))\n",
    "    return model"
   ]
  },
  {
   "cell_type": "code",
   "execution_count": 35,
   "metadata": {},
   "outputs": [
    {
     "name": "stdout",
     "output_type": "stream",
     "text": [
      "[(0.1357, 'age'), (0.109, 'male'), (0.0964, 'sysBP'), (0.0891, 'prevalentHyp'), (0.088, 'totChol'), (0.082, 'glucose'), (0.0759, 'diaBP'), (0.0755, 'BMI'), (0.0736, 'heartRate'), (0.0639, 'education'), (0.0523, 'cigsPerDay'), (0.0434, 'currentSmoker'), (0.0078, 'BPMeds'), (0.0046, 'diabetes'), (0.0027, 'prevalentStroke')]\n"
     ]
    },
    {
     "data": {
      "image/png": "[encoded data removed]",
      "text/plain": [
       "<Figure size 432x288 with 1 Axes>"
      ]
     },
     "metadata": {
      "needs_background": "light"
     },
     "output_type": "display_data"
    },
    {
     "name": "stdout",
     "output_type": "stream",
     "text": [
      "Train score: 0.8776744186046512\n",
      "Test score: 0.8496477529064723\n"
     ]
    },
    {
     "data": {
      "text/plain": [
       "RandomForestClassifier(bootstrap=True, class_weight=None, criterion='gini',\n",
       "            max_depth=None, max_features='auto', max_leaf_nodes=None,\n",
       "            min_impurity_decrease=0.0, min_impurity_split=None,\n",
       "            min_samples_leaf=1, min_samples_split=2,\n",
       "            min_weight_fraction_leaf=0.0, n_estimators=10, n_jobs=None,\n",
       "            oob_score=False, random_state=None, verbose=0,\n",
       "            warm_start=False)"
      ]
     },
     "execution_count": 35,
     "metadata": {},
     "output_type": "execute_result"
    }
   ],
   "source": [
    "train_model_with_random_forest(X_train, y_train, X_test, y_test)"
   ]
  },
  {
   "cell_type": "code",
   "execution_count": 36,
   "metadata": {},
   "outputs": [
    {
     "name": "stdout",
     "output_type": "stream",
     "text": [
      "[(0.139, 'diaBP'), (0.1365, 'BMI'), (0.1307, 'sysBP'), (0.1208, 'totChol'), (0.1163, 'glucose'), (0.1067, 'age'), (0.0881, 'heartRate'), (0.0608, 'cigsPerDay'), (0.0359, 'education'), (0.0205, 'male'), (0.0188, 'prevalentHyp'), (0.0108, 'currentSmoker'), (0.0089, 'BPMeds'), (0.0048, 'diabetes'), (0.0013, 'prevalentStroke')]\n"
     ]
    },
    {
     "data": {
      "image/png": "[encoded data removed]",
      "text/plain": [
       "<Figure size 432x288 with 1 Axes>"
      ]
     },
     "metadata": {
      "needs_background": "light"
     },
     "output_type": "display_data"
    },
    {
     "name": "stdout",
     "output_type": "stream",
     "text": [
      "Train score: 0.8495852020375377\n",
      "Test score: 0.8196713263827201\n"
     ]
    },
    {
     "data": {
      "text/plain": [
       "RandomForestClassifier(bootstrap=True, class_weight=None, criterion='gini',\n",
       "            max_depth=None, max_features='auto', max_leaf_nodes=None,\n",
       "            min_impurity_decrease=0.0, min_impurity_split=None,\n",
       "            min_samples_leaf=1, min_samples_split=2,\n",
       "            min_weight_fraction_leaf=0.0, n_estimators=10, n_jobs=None,\n",
       "            oob_score=False, random_state=None, verbose=0,\n",
       "            warm_start=False)"
      ]
     },
     "execution_count": 36,
     "metadata": {},
     "output_type": "execute_result"
    }
   ],
   "source": [
    "train_model_with_random_forest(X_train_e, y_train_e, X_test_e, y_test_e)"
   ]
  },
  {
   "cell_type": "code",
   "execution_count": 37,
   "metadata": {},
   "outputs": [
    {
     "name": "stdout",
     "output_type": "stream",
     "text": [
      "[(0.1427, 'age'), (0.1312, 'male'), (0.0895, 'sysBP'), (0.0888, 'prevalentHyp'), (0.0817, 'education'), (0.0815, 'totChol'), (0.0703, 'glucose'), (0.0703, 'diaBP'), (0.0669, 'BMI'), (0.0665, 'heartRate'), (0.049, 'cigsPerDay'), (0.0447, 'currentSmoker'), (0.0084, 'BPMeds'), (0.0057, 'diabetes'), (0.0027, 'prevalentStroke')]\n"
     ]
    },
    {
     "data": {
      "image/png": "[encoded data removed]",
      "text/plain": [
       "<Figure size 432x288 with 1 Axes>"
      ]
     },
     "metadata": {
      "needs_background": "light"
     },
     "output_type": "display_data"
    },
    {
     "name": "stdout",
     "output_type": "stream",
     "text": [
      "Train score: 0.9051162790697674\n",
      "Test score: 0.8384556654520214\n"
     ]
    }
   ],
   "source": [
    "model_rf_opt = train_model_with_random_forest(X_train, y_train, X_test, y_test, rforest_cv.best_params_)"
   ]
  },
  {
   "cell_type": "code",
   "execution_count": 38,
   "metadata": {},
   "outputs": [
    {
     "data": {
      "text/plain": [
       "<matplotlib.axes._subplots.AxesSubplot at 0x7f93d2bf0eb8>"
      ]
     },
     "execution_count": 38,
     "metadata": {},
     "output_type": "execute_result"
    },
    {
     "data": {
      "image/png": "[encoded data removed]",
      "text/plain": [
       "<Figure size 576x360 with 2 Axes>"
      ]
     },
     "metadata": {
      "needs_background": "light"
     },
     "output_type": "display_data"
    }
   ],
   "source": [
    "cm=confusion_matrix(y_test, model_rf_opt.predict(X_test))\n",
    "conf_matrix=pd.DataFrame(data=cm,columns=['Predicted:0','Predicted:1'],index=['Actual:0','Actual:1'])\n",
    "plt.figure(figsize = (8,5))\n",
    "sns.heatmap(conf_matrix, annot=True,fmt='d',cmap=\"YlGnBu\")"
   ]
  },
  {
   "cell_type": "markdown",
   "metadata": {},
   "source": [
    "## Extra Trees Classification"
   ]
  },
  {
   "cell_type": "code",
   "execution_count": 39,
   "metadata": {},
   "outputs": [
    {
     "name": "stdout",
     "output_type": "stream",
     "text": [
      "Optimized hpyerparameters: {'n_estimators': 181, 'min_samples_split': 8, 'min_samples_leaf': 1, 'max_features': 'auto', 'bootstrap': False, 'max_depth': 51, 'random_state': 42}\n",
      "Score with optimized parameters: 0.9146511627906977\n"
     ]
    }
   ],
   "source": [
    "parameters={\"n_estimators\": range(1, 201, 10), \"max_features\":[\"auto\",\"sqrt\"], \"max_depth\":range(1, 101, 10), \"min_samples_split\":range(2,10,1), \"min_samples_leaf\":[1, 2, 4], \"bootstrap\":[True, False], \"random_state\":[42,43,44]}\n",
    "extra_trees=ExtraTreesClassifier()\n",
    "extra_trees_cv=RandomizedSearchCV(extra_trees,parameters,cv=10);\n",
    "extra_trees_cv.fit(X_train,y_train);\n",
    "\n",
    "print(\"Optimized hpyerparameters:\",extra_trees_cv.best_params_)\n",
    "print(\"Score with optimized parameters:\",extra_trees_cv.best_score_)"
   ]
  },
  {
   "cell_type": "code",
   "execution_count": 40,
   "metadata": {},
   "outputs": [],
   "source": [
    "def train_model_with_extra_trees(X_train, y_train, X_test, y_test, params={}):\n",
    "    model = ExtraTreesClassifier(**params)\n",
    "    model.fit(X_train, y_train)\n",
    "    print(sorted(zip(map(lambda x: round(x, 4), model.feature_importances_), names), reverse=True))\n",
    "    scores = cross_val_score(model, X_train, y_train, cv=5)\n",
    "    print(\"Train score: \" + str(scores.mean()))\n",
    "    scores = cross_val_score(model, X_test, y_test, cv=5)\n",
    "    print(\"Test score: \" + str(scores.mean()))\n",
    "    return model"
   ]
  },
  {
   "cell_type": "code",
   "execution_count": 41,
   "metadata": {},
   "outputs": [
    {
     "name": "stdout",
     "output_type": "stream",
     "text": [
      "[(0.1385, 'male'), (0.1197, 'age'), (0.0931, 'sysBP'), (0.0822, 'prevalentHyp'), (0.0809, 'totChol'), (0.0808, 'education'), (0.0701, 'diaBP'), (0.0698, 'heartRate'), (0.0692, 'glucose'), (0.0677, 'BMI'), (0.0521, 'cigsPerDay'), (0.0463, 'currentSmoker'), (0.0138, 'BPMeds'), (0.0106, 'diabetes'), (0.0052, 'prevalentStroke')]\n",
      "Train score: 0.9104651162790697\n",
      "Test score: 0.8425750477182022\n"
     ]
    },
    {
     "data": {
      "text/plain": [
       "ExtraTreesClassifier(bootstrap=False, class_weight=None, criterion='gini',\n",
       "           max_depth=None, max_features='auto', max_leaf_nodes=None,\n",
       "           min_impurity_decrease=0.0, min_impurity_split=None,\n",
       "           min_samples_leaf=1, min_samples_split=2,\n",
       "           min_weight_fraction_leaf=0.0, n_estimators=10, n_jobs=None,\n",
       "           oob_score=False, random_state=None, verbose=0, warm_start=False)"
      ]
     },
     "execution_count": 41,
     "metadata": {},
     "output_type": "execute_result"
    }
   ],
   "source": [
    "train_model_with_extra_trees(X_train, y_train, X_test, y_test)"
   ]
  },
  {
   "cell_type": "code",
   "execution_count": 42,
   "metadata": {},
   "outputs": [
    {
     "name": "stdout",
     "output_type": "stream",
     "text": [
      "[(0.1366, 'sysBP'), (0.1193, 'age'), (0.1162, 'diaBP'), (0.113, 'heartRate'), (0.1124, 'glucose'), (0.1104, 'BMI'), (0.1039, 'totChol'), (0.0548, 'cigsPerDay'), (0.0536, 'education'), (0.0219, 'prevalentHyp'), (0.0194, 'currentSmoker'), (0.0184, 'male'), (0.0104, 'BPMeds'), (0.0066, 'diabetes'), (0.0032, 'prevalentStroke')]\n",
      "Train score: 0.8454963732245536\n",
      "Test score: 0.819002758427229\n"
     ]
    },
    {
     "data": {
      "text/plain": [
       "ExtraTreesClassifier(bootstrap=False, class_weight=None, criterion='gini',\n",
       "           max_depth=None, max_features='auto', max_leaf_nodes=None,\n",
       "           min_impurity_decrease=0.0, min_impurity_split=None,\n",
       "           min_samples_leaf=1, min_samples_split=2,\n",
       "           min_weight_fraction_leaf=0.0, n_estimators=10, n_jobs=None,\n",
       "           oob_score=False, random_state=None, verbose=0, warm_start=False)"
      ]
     },
     "execution_count": 42,
     "metadata": {},
     "output_type": "execute_result"
    }
   ],
   "source": [
    "train_model_with_extra_trees(X_train_e, y_train_e, X_test_e, y_test_e)"
   ]
  },
  {
   "cell_type": "code",
   "execution_count": 43,
   "metadata": {},
   "outputs": [
    {
     "name": "stdout",
     "output_type": "stream",
     "text": [
      "[(0.1721, 'male'), (0.1344, 'age'), (0.1205, 'prevalentHyp'), (0.086, 'education'), (0.0752, 'sysBP'), (0.0606, 'currentSmoker'), (0.0597, 'totChol'), (0.0548, 'diaBP'), (0.0535, 'glucose'), (0.0521, 'heartRate'), (0.0493, 'BMI'), (0.0492, 'cigsPerDay'), (0.0145, 'BPMeds'), (0.0116, 'diabetes'), (0.0065, 'prevalentStroke')]\n",
      "Train score: 0.9090697674418605\n",
      "Test score: 0.8514176644108972\n"
     ]
    }
   ],
   "source": [
    "model_et_opt = train_model_with_extra_trees(X_train, y_train, X_test, y_test, extra_trees_cv.best_params_)"
   ]
  },
  {
   "cell_type": "code",
   "execution_count": 44,
   "metadata": {},
   "outputs": [
    {
     "data": {
      "text/plain": [
       "<matplotlib.axes._subplots.AxesSubplot at 0x7f93d2ca8390>"
      ]
     },
     "execution_count": 44,
     "metadata": {},
     "output_type": "execute_result"
    },
    {
     "data": {
      "image/png": "[encoded data removed]",
      "text/plain": [
       "<Figure size 576x360 with 2 Axes>"
      ]
     },
     "metadata": {
      "needs_background": "light"
     },
     "output_type": "display_data"
    }
   ],
   "source": [
    "cm=confusion_matrix(y_test, model_et_opt.predict(X_test))\n",
    "conf_matrix=pd.DataFrame(data=cm,columns=['Predicted:0','Predicted:1'],index=['Actual:0','Actual:1'])\n",
    "plt.figure(figsize = (8,5))\n",
    "sns.heatmap(conf_matrix, annot=True,fmt='d',cmap=\"YlGnBu\")"
   ]
  },
  {
   "cell_type": "markdown",
   "metadata": {},
   "source": [
    "## KNeighbors Classification"
   ]
  },
  {
   "cell_type": "code",
   "execution_count": 45,
   "metadata": {},
   "outputs": [
    {
     "name": "stdout",
     "output_type": "stream",
     "text": [
      "Optimized hpyerparameters: {'n_neighbors': 11, 'leaf_size': 61, 'algorithm': 'ball_tree'}\n",
      "Score with optimized parameters: 0.7788372093023256\n"
     ]
    }
   ],
   "source": [
    "parameters={\"n_neighbors\": range(1, 201, 10), \"algorithm\":[\"auto\", \"ball_tree\", \"kd_tree\", \"brute\"], \"leaf_size\":range(1, 101, 10)}\n",
    "knn=KNeighborsClassifier()\n",
    "knn_cv=RandomizedSearchCV(knn,parameters,cv=10);\n",
    "knn_cv.fit(X_train,y_train);\n",
    "\n",
    "print(\"Optimized hpyerparameters:\", knn_cv.best_params_)\n",
    "print(\"Score with optimized parameters:\", knn_cv.best_score_)"
   ]
  },
  {
   "cell_type": "code",
   "execution_count": 46,
   "metadata": {},
   "outputs": [],
   "source": [
    "def train_model_with_knn(X_train, y_train, X_test, y_test, params={}):\n",
    "    model = KNeighborsClassifier(**params)\n",
    "    model.fit(X_train, y_train)\n",
    "    scores = cross_val_score(model, X_train, y_train, cv=5)\n",
    "    print(\"Train score: \" + str(scores.mean()))\n",
    "    scores = cross_val_score(model, X_test, y_test, cv=5)\n",
    "    print(\"Test score: \" + str(scores.mean()))\n",
    "    return model"
   ]
  },
  {
   "cell_type": "code",
   "execution_count": 47,
   "metadata": {},
   "outputs": [
    {
     "name": "stdout",
     "output_type": "stream",
     "text": [
      "Train score: 0.813953488372093\n",
      "Test score: 0.8354988721152179\n"
     ]
    }
   ],
   "source": [
    "model_knn = train_model_with_knn(X_train, y_train, X_test, y_test)"
   ]
  },
  {
   "cell_type": "code",
   "execution_count": 48,
   "metadata": {},
   "outputs": [
    {
     "name": "stdout",
     "output_type": "stream",
     "text": [
      "Train score: 0.7755813953488373\n",
      "Test score: 0.8490577824049975\n"
     ]
    },
    {
     "data": {
      "text/plain": [
       "KNeighborsClassifier(algorithm='ball_tree', leaf_size=61, metric='minkowski',\n",
       "           metric_params=None, n_jobs=None, n_neighbors=11, p=2,\n",
       "           weights='uniform')"
      ]
     },
     "execution_count": 48,
     "metadata": {},
     "output_type": "execute_result"
    }
   ],
   "source": [
    "train_model_with_knn(X_train, y_train, X_test, y_test, knn_cv.best_params_)"
   ]
  },
  {
   "cell_type": "code",
   "execution_count": 49,
   "metadata": {},
   "outputs": [
    {
     "data": {
      "text/plain": [
       "<matplotlib.axes._subplots.AxesSubplot at 0x7f93d009da90>"
      ]
     },
     "execution_count": 49,
     "metadata": {},
     "output_type": "execute_result"
    },
    {
     "data": {
      "image/png": "[encoded data removed]",
      "text/plain": [
       "<Figure size 576x360 with 2 Axes>"
      ]
     },
     "metadata": {
      "needs_background": "light"
     },
     "output_type": "display_data"
    }
   ],
   "source": [
    "cm=confusion_matrix(y_test, model_knn.predict(X_test))\n",
    "conf_matrix=pd.DataFrame(data=cm,columns=['Predicted:0','Predicted:1'],index=['Actual:0','Actual:1'])\n",
    "plt.figure(figsize = (8,5))\n",
    "sns.heatmap(conf_matrix, annot=True,fmt='d',cmap=\"YlGnBu\")"
   ]
  },
  {
   "cell_type": "markdown",
   "metadata": {},
   "source": [
    "# Voting Classification"
   ]
  },
  {
   "cell_type": "markdown",
   "metadata": {},
   "source": [
    "Сега ще комбинирам различни модели, за да получим по-добър резултат. За целта ще използвам VotingClassifier от scikit-learn."
   ]
  },
  {
   "cell_type": "code",
   "execution_count": 52,
   "metadata": {},
   "outputs": [
    {
     "name": "stdout",
     "output_type": "stream",
     "text": [
      "Score with Decision Tree: 0.833\n",
      "Score with Decision Tree Optimized: 0.838\n",
      "Score with Ensemble: 0.863\n"
     ]
    }
   ],
   "source": [
    "eclf2 = VotingClassifier(estimators=[('dt', model_dt), ('dto', model_dt_opt)], voting='hard')\n",
    "eclf2 = eclf2.fit(X_train, y_train)\n",
    "\n",
    "for classifier, label in zip([model_dt, model_dt_opt, eclf2], ['Decision Tree', 'Decision Tree Optimized', 'Ensemble']):\n",
    "    scores = cross_val_score(classifier, X_train, y_train, cv=10)\n",
    "    print(\"Score with %s: %0.3f\" % (label, scores.mean()))"
   ]
  },
  {
   "cell_type": "code",
   "execution_count": 53,
   "metadata": {},
   "outputs": [
    {
     "name": "stdout",
     "output_type": "stream",
     "text": [
      "Score with Random Forest: 0.913\n",
      "Score with Decision Tree: 0.833\n",
      "Score with Logistic Regression: 0.681\n",
      "Score with Ensemble: 0.877\n"
     ]
    }
   ],
   "source": [
    "eclf1 = VotingClassifier(estimators=[('lr', model_logreg), ('rf', model_rf_opt), ('dt', model_dt)], voting='hard')\n",
    "eclf1 = eclf1.fit(X_train, y_train)\n",
    "\n",
    "for classifier, label in zip([model_rf_opt, model_dt, model_logreg, eclf1], ['Random Forest', 'Decision Tree', 'Logistic Regression', 'Ensemble']):\n",
    "    scores = cross_val_score(classifier, X_train, y_train, cv=10)\n",
    "    print(\"Score with %s: %0.3f\" % (label, scores.mean()))"
   ]
  },
  {
   "cell_type": "code",
   "execution_count": 51,
   "metadata": {},
   "outputs": [
    {
     "name": "stdout",
     "output_type": "stream",
     "text": [
      "Mean of: 0.681, std: (+/-) 0.021 [LogisticRegression]\n",
      "Mean of: 0.673, std: (+/-) 0.019 [Bagging LogisticRegression]\n",
      "\n",
      "Mean of: 0.916, std: (+/-) 0.105 [RandomForestClassifier]\n",
      "Mean of: 0.891, std: (+/-) 0.114 [Bagging RandomForestClassifier]\n",
      "\n",
      "Mean of: 0.836, std: (+/-) 0.091 [DecisionTreeClassifier]\n",
      "Mean of: 0.862, std: (+/-) 0.120 [Bagging DecisionTreeClassifier]\n",
      "\n"
     ]
    }
   ],
   "source": [
    "for clf in [model_logreg, model_rf_opt, model_dt]:\n",
    "    vanilla_scores = cross_val_score(clf, X_train, y_train, cv=10, n_jobs=-1)\n",
    "    bagging_clf = BaggingClassifier(clf, \n",
    "       max_samples=0.4, max_features=10, random_state=42)\n",
    "    bagging_scores = cross_val_score(bagging_clf, X_train, y_train, cv=10, \n",
    "       n_jobs=-1)\n",
    "    \n",
    "    print(\"Mean of: {1:.3f}, std: (+/-) {2:.3f} [{0}]\".format(clf.__class__.__name__, vanilla_scores.mean(), vanilla_scores.std()))\n",
    "    print(\"Mean of: {1:.3f}, std: (+/-) {2:.3f} [Bagging {0}]\\n\".format(clf.__class__.__name__, bagging_scores.mean(), bagging_scores.std()))"
   ]
  }
 ],
 "metadata": {
  "kernelspec": {
   "display_name": ".venv",
   "language": "python",
   "name": ".venv"
  },
  "language_info": {
   "codemirror_mode": {
    "name": "ipython",
    "version": 3
   },
   "file_extension": ".py",
   "mimetype": "text/x-python",
   "name": "python",
   "nbconvert_exporter": "python",
   "pygments_lexer": "ipython3",
   "version": "3.5.2"
  },
  "widgets": {
   "application/vnd.jupyter.widget-state+json": {
    "state": {},
    "version_major": 2,
    "version_minor": 0
   }
  }
 },
 "nbformat": 4,
 "nbformat_minor": 2
}

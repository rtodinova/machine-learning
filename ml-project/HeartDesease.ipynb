{
 "cells": [
  {
   "cell_type": "markdown",
   "metadata": {},
   "source": [
    "Изготвил: Росица Динкова Тодинова, ф.н. 71624, специалност Информационни системи, 4 курс"
   ]
  },
  {
   "cell_type": "markdown",
   "metadata": {},
   "source": [
    "# Опсиание на проекта"
   ]
  },
  {
   "cell_type": "markdown",
   "metadata": {},
   "source": [
    "Целта на проекта е да предостави модел, който предсказва дали при даден пациент има риск от сърдечно заболяване в рамките на 10 години. Dataset-a, който е използван, съдържа данни, събрани от сърдечно-съдови изследвания. Той се състои от 15 атрибута и 4240 записа."
   ]
  },
  {
   "cell_type": "code",
   "execution_count": 1,
   "metadata": {},
   "outputs": [],
   "source": [
    "import numpy as np\n",
    "import pandas as pd\n",
    "import seaborn as sns\n",
    "import matplotlib.pyplot as plt\n",
    "\n",
    "from sklearn.model_selection import train_test_split\n",
    "from sklearn.linear_model import LinearRegression, LogisticRegression, Ridge\n",
    "from sklearn.tree import DecisionTreeClassifier\n",
    "from sklearn.neighbors import KNeighborsClassifier\n",
    "from sklearn.model_selection import cross_val_score\n",
    "from sklearn.ensemble import RandomForestClassifier, VotingClassifier, BaggingClassifier, ExtraTreesClassifier\n",
    "from sklearn.model_selection import GridSearchCV, RandomizedSearchCV\n",
    "from sklearn.svm import SVC\n",
    "from sklearn.metrics import confusion_matrix\n",
    "from imblearn.over_sampling import SMOTE\n",
    "\n",
    "import warnings\n",
    "warnings.filterwarnings(\"ignore\")"
   ]
  },
  {
   "cell_type": "markdown",
   "metadata": {},
   "source": [
    "## Описание да dataset"
   ]
  },
  {
   "cell_type": "code",
   "execution_count": 2,
   "metadata": {},
   "outputs": [],
   "source": [
    "heart_disease_dataset=pd.read_csv(\"framingham.csv\")"
   ]
  },
  {
   "cell_type": "code",
   "execution_count": 3,
   "metadata": {},
   "outputs": [
    {
     "data": {
      "text/html": [
       "<div>\n",
       "<style scoped>\n",
       "    .dataframe tbody tr th:only-of-type {\n",
       "        vertical-align: middle;\n",
       "    }\n",
       "\n",
       "    .dataframe tbody tr th {\n",
       "        vertical-align: top;\n",
       "    }\n",
       "\n",
       "    .dataframe thead th {\n",
       "        text-align: right;\n",
       "    }\n",
       "</style>\n",
       "<table border=\"1\" class=\"dataframe\">\n",
       "  <thead>\n",
       "    <tr style=\"text-align: right;\">\n",
       "      <th></th>\n",
       "      <th>male</th>\n",
       "      <th>age</th>\n",
       "      <th>education</th>\n",
       "      <th>currentSmoker</th>\n",
       "      <th>cigsPerDay</th>\n",
       "      <th>BPMeds</th>\n",
       "      <th>prevalentStroke</th>\n",
       "      <th>prevalentHyp</th>\n",
       "      <th>diabetes</th>\n",
       "      <th>totChol</th>\n",
       "      <th>sysBP</th>\n",
       "      <th>diaBP</th>\n",
       "      <th>BMI</th>\n",
       "      <th>heartRate</th>\n",
       "      <th>glucose</th>\n",
       "      <th>TenYearCHD</th>\n",
       "    </tr>\n",
       "  </thead>\n",
       "  <tbody>\n",
       "    <tr>\n",
       "      <th>0</th>\n",
       "      <td>1</td>\n",
       "      <td>39</td>\n",
       "      <td>4.0</td>\n",
       "      <td>0</td>\n",
       "      <td>0.0</td>\n",
       "      <td>0.0</td>\n",
       "      <td>0</td>\n",
       "      <td>0</td>\n",
       "      <td>0</td>\n",
       "      <td>195.0</td>\n",
       "      <td>106.0</td>\n",
       "      <td>70.0</td>\n",
       "      <td>26.97</td>\n",
       "      <td>80.0</td>\n",
       "      <td>77.0</td>\n",
       "      <td>0</td>\n",
       "    </tr>\n",
       "    <tr>\n",
       "      <th>1</th>\n",
       "      <td>0</td>\n",
       "      <td>46</td>\n",
       "      <td>2.0</td>\n",
       "      <td>0</td>\n",
       "      <td>0.0</td>\n",
       "      <td>0.0</td>\n",
       "      <td>0</td>\n",
       "      <td>0</td>\n",
       "      <td>0</td>\n",
       "      <td>250.0</td>\n",
       "      <td>121.0</td>\n",
       "      <td>81.0</td>\n",
       "      <td>28.73</td>\n",
       "      <td>95.0</td>\n",
       "      <td>76.0</td>\n",
       "      <td>0</td>\n",
       "    </tr>\n",
       "    <tr>\n",
       "      <th>2</th>\n",
       "      <td>1</td>\n",
       "      <td>48</td>\n",
       "      <td>1.0</td>\n",
       "      <td>1</td>\n",
       "      <td>20.0</td>\n",
       "      <td>0.0</td>\n",
       "      <td>0</td>\n",
       "      <td>0</td>\n",
       "      <td>0</td>\n",
       "      <td>245.0</td>\n",
       "      <td>127.5</td>\n",
       "      <td>80.0</td>\n",
       "      <td>25.34</td>\n",
       "      <td>75.0</td>\n",
       "      <td>70.0</td>\n",
       "      <td>0</td>\n",
       "    </tr>\n",
       "    <tr>\n",
       "      <th>3</th>\n",
       "      <td>0</td>\n",
       "      <td>61</td>\n",
       "      <td>3.0</td>\n",
       "      <td>1</td>\n",
       "      <td>30.0</td>\n",
       "      <td>0.0</td>\n",
       "      <td>0</td>\n",
       "      <td>1</td>\n",
       "      <td>0</td>\n",
       "      <td>225.0</td>\n",
       "      <td>150.0</td>\n",
       "      <td>95.0</td>\n",
       "      <td>28.58</td>\n",
       "      <td>65.0</td>\n",
       "      <td>103.0</td>\n",
       "      <td>1</td>\n",
       "    </tr>\n",
       "    <tr>\n",
       "      <th>4</th>\n",
       "      <td>0</td>\n",
       "      <td>46</td>\n",
       "      <td>3.0</td>\n",
       "      <td>1</td>\n",
       "      <td>23.0</td>\n",
       "      <td>0.0</td>\n",
       "      <td>0</td>\n",
       "      <td>0</td>\n",
       "      <td>0</td>\n",
       "      <td>285.0</td>\n",
       "      <td>130.0</td>\n",
       "      <td>84.0</td>\n",
       "      <td>23.10</td>\n",
       "      <td>85.0</td>\n",
       "      <td>85.0</td>\n",
       "      <td>0</td>\n",
       "    </tr>\n",
       "  </tbody>\n",
       "</table>\n",
       "</div>"
      ],
      "text/plain": [
       "   male  age  education  currentSmoker  cigsPerDay  BPMeds  prevalentStroke  \\\n",
       "0     1   39        4.0              0         0.0     0.0                0   \n",
       "1     0   46        2.0              0         0.0     0.0                0   \n",
       "2     1   48        1.0              1        20.0     0.0                0   \n",
       "3     0   61        3.0              1        30.0     0.0                0   \n",
       "4     0   46        3.0              1        23.0     0.0                0   \n",
       "\n",
       "   prevalentHyp  diabetes  totChol  sysBP  diaBP    BMI  heartRate  glucose  \\\n",
       "0             0         0    195.0  106.0   70.0  26.97       80.0     77.0   \n",
       "1             0         0    250.0  121.0   81.0  28.73       95.0     76.0   \n",
       "2             0         0    245.0  127.5   80.0  25.34       75.0     70.0   \n",
       "3             1         0    225.0  150.0   95.0  28.58       65.0    103.0   \n",
       "4             0         0    285.0  130.0   84.0  23.10       85.0     85.0   \n",
       "\n",
       "   TenYearCHD  \n",
       "0           0  \n",
       "1           0  \n",
       "2           0  \n",
       "3           1  \n",
       "4           0  "
      ]
     },
     "execution_count": 3,
     "metadata": {},
     "output_type": "execute_result"
    }
   ],
   "source": [
    "heart_disease_dataset.head()"
   ]
  },
  {
   "cell_type": "markdown",
   "metadata": {},
   "source": [
    "Dataset-a съдържа следните колони:\n",
    "\n",
    "CATEGORICAL DATA:\n",
    "    - male (Пол): Приема стойност 0 за female и 1 за male.\n",
    "    - education (Образование): Приема стойности 1 за Some High School, 2 за High School или GED, 3 за Some College или Vocational School и 4 зая College\n",
    "    - currentSmoker (Пушач): Приема стойности 0 за непушач и 1 за пушач\n",
    "    - BPMeds (Лекарства за кръвно налягане): Приема стойност 0 в случай, че пациентът не приема лекарства за кръвно налягане и 1 - ако приема.\n",
    "    - prevalentStroke (Предишен сърдечен удар): Приема стойност 0, ако пациентът не е получавал сърдечен удар преди и 1 - ако е.\n",
    "    - prevalentHyp (Свръхчувствителност): Приема стойност 0, ако пациентът не е развивал свръхчувствителност преди и 1 - ако е.\n",
    "    - diabetes (Диабет): Приема стойност 0, ако пациентът няма диабет и 1 - ако има.\n",
    "NUMERICAL DATA:\n",
    "    - age (Години): Когато е правено изследването\n",
    "    - cigsPerDay (Брой цигари на ден): Средно\n",
    "    - totChol (Ниво на холестерол): Измерва се в mg/dL\n",
    "    - sysBP (Систолно кръвно налягане): Горна граница на кръвно налягане. Измерва се в mmHg.\n",
    "    - diaBP (Диастолно кръвно налягане): Долна граница на кръвно налягане. Измерва с в mmHg.\n",
    "    - BMI - Body Mass Index (Индекс на телесната маса): Пресмята се по следната формула - Weight (kg) / Height(meter-squared)\n",
    "    - heartRate (Сърдечен ритъм): Измерва се в Beats/Min\n",
    "    - glucose (Глюкоза): Измерва се в mg/dL.\n",
    "VALUE TO PREDICT:\n",
    "    - TenYearCHD () - Стойността, която трябва да се предскаже, приема стойност 0, ако няма шанс пациентът да развие сърдечно заболяване в близките 10 години и 1 - ако има."
   ]
  },
  {
   "cell_type": "markdown",
   "metadata": {},
   "source": [
    "# Data Exploration"
   ]
  },
  {
   "cell_type": "code",
   "execution_count": 4,
   "metadata": {},
   "outputs": [
    {
     "name": "stdout",
     "output_type": "stream",
     "text": [
      "<class 'pandas.core.frame.DataFrame'>\n",
      "RangeIndex: 4240 entries, 0 to 4239\n",
      "Data columns (total 16 columns):\n",
      "male               4240 non-null int64\n",
      "age                4240 non-null int64\n",
      "education          4135 non-null float64\n",
      "currentSmoker      4240 non-null int64\n",
      "cigsPerDay         4211 non-null float64\n",
      "BPMeds             4187 non-null float64\n",
      "prevalentStroke    4240 non-null int64\n",
      "prevalentHyp       4240 non-null int64\n",
      "diabetes           4240 non-null int64\n",
      "totChol            4190 non-null float64\n",
      "sysBP              4240 non-null float64\n",
      "diaBP              4240 non-null float64\n",
      "BMI                4221 non-null float64\n",
      "heartRate          4239 non-null float64\n",
      "glucose            3852 non-null float64\n",
      "TenYearCHD         4240 non-null int64\n",
      "dtypes: float64(9), int64(7)\n",
      "memory usage: 530.1 KB\n"
     ]
    }
   ],
   "source": [
    "heart_disease_dataset.info();\n",
    "names = list(heart_disease_dataset)"
   ]
  },
  {
   "cell_type": "code",
   "execution_count": 5,
   "metadata": {},
   "outputs": [
    {
     "data": {
      "text/plain": [
       "male                 0\n",
       "age                  0\n",
       "education          105\n",
       "currentSmoker        0\n",
       "cigsPerDay          29\n",
       "BPMeds              53\n",
       "prevalentStroke      0\n",
       "prevalentHyp         0\n",
       "diabetes             0\n",
       "totChol             50\n",
       "sysBP                0\n",
       "diaBP                0\n",
       "BMI                 19\n",
       "heartRate            1\n",
       "glucose            388\n",
       "TenYearCHD           0\n",
       "dtype: int64"
      ]
     },
     "execution_count": 5,
     "metadata": {},
     "output_type": "execute_result"
    }
   ],
   "source": [
    "heart_disease_dataset.isnull().sum()"
   ]
  },
  {
   "cell_type": "markdown",
   "metadata": {},
   "source": [
    "От тук виждаме, че има само една характеристика, която има доста липсващи стойности - glucose. Също така. всички характеристики са сведени до числа - int и float, включително и categorical данните."
   ]
  },
  {
   "cell_type": "code",
   "execution_count": 6,
   "metadata": {},
   "outputs": [
    {
     "data": {
      "image/png": "[encoded data removed]",
      "text/plain": [
       "<Figure size 1152x1440 with 16 Axes>"
      ]
     },
     "metadata": {
      "needs_background": "light"
     },
     "output_type": "display_data"
    }
   ],
   "source": [
    "heart_disease_dataset.hist(figsize=(16, 20), bins=50, xlabelsize=8, ylabelsize=8);"
   ]
  },
  {
   "cell_type": "code",
   "execution_count": 7,
   "metadata": {},
   "outputs": [
    {
     "data": {
      "image/png": "[encoded data removed]",
      "text/plain": [
       "<Figure size 720x576 with 2 Axes>"
      ]
     },
     "metadata": {
      "needs_background": "light"
     },
     "output_type": "display_data"
    }
   ],
   "source": [
    "f, ax = plt.subplots(figsize=(10, 8))\n",
    "corr = heart_disease_dataset.corr()\n",
    "sns.heatmap(corr, mask=np.zeros_like(corr, dtype=np.bool), cmap=sns.diverging_palette(220, 10, as_cmap=True),\n",
    "            square=True, ax=ax);"
   ]
  },
  {
   "cell_type": "code",
   "execution_count": 8,
   "metadata": {},
   "outputs": [
    {
     "name": "stdout",
     "output_type": "stream",
     "text": [
      "There are 0 strongly correlated values with TenYearCHD:\n",
      "Series([], Name: TenYearCHD, dtype: float64)\n"
     ]
    }
   ],
   "source": [
    "features_correlation = heart_disease_dataset.corr()['TenYearCHD'][:-1]\n",
    "golden_features_list = features_correlation[abs(features_correlation) > 0.5].sort_values(ascending=False)\n",
    "print(\"There are {} strongly correlated values with TenYearCHD:\\n{}\".format(len(golden_features_list), golden_features_list))"
   ]
  },
  {
   "cell_type": "code",
   "execution_count": 9,
   "metadata": {
    "scrolled": true
   },
   "outputs": [
    {
     "name": "stdout",
     "output_type": "stream",
     "text": [
      "There are 2 not very strong correlated values with TenYearCHD:\n",
      "age      0.225408\n",
      "sysBP    0.216374\n",
      "Name: TenYearCHD, dtype: float64\n"
     ]
    }
   ],
   "source": [
    "features_correlation = heart_disease_dataset.corr()['TenYearCHD'][:-1]\n",
    "golden_features_list = features_correlation[abs(features_correlation) > 0.2].sort_values(ascending=False)\n",
    "print(\"There are {} not very strong correlated values with TenYearCHD:\\n{}\".format(len(golden_features_list), golden_features_list))"
   ]
  },
  {
   "cell_type": "markdown",
   "metadata": {},
   "source": [
    "Най-силна корелация имаме между currentSmoker и cigsPerDay. Това, дали пациентът е развивал свръхчувствителност зависи от неговите долна и горна граница на кръвно налягане. Също така, това дали пациентът има диабет, зависи от глюкозата в кръвта му."
   ]
  },
  {
   "cell_type": "markdown",
   "metadata": {},
   "source": [
    "# Data Preparation - functions"
   ]
  },
  {
   "cell_type": "markdown",
   "metadata": {},
   "source": [
    "Ако пациент е непушач, то той изпушва по 0 цигари на ден средно. За това ще запълним всички празни cigsPerDay за непушачите с 0. За пушачите могат да бъдат запълнени със средния брой изпушени цигари на ден на всички пациенти."
   ]
  },
  {
   "cell_type": "code",
   "execution_count": 10,
   "metadata": {},
   "outputs": [],
   "source": [
    "def fill_empty_smoking_attributes(heart_disease_dataset):\n",
    "    heart_disease_dataset.loc[heart_disease_dataset['currentSmoker'] == 0, 'cigsPerDay'] = heart_disease_dataset.loc[heart_disease_dataset['currentSmoker'] == 0, 'cigsPerDay'].fillna(0)\n",
    "    heart_disease_dataset['cigsPerDay'].fillna(heart_disease_dataset['cigsPerDay'].mean(), inplace=True)"
   ]
  },
  {
   "cell_type": "markdown",
   "metadata": {},
   "source": [
    "Всички останали numerical характеристики с празни стойности също могат да бъдат запълнени със средното аритметично на стойностите в съответната колона."
   ]
  },
  {
   "cell_type": "code",
   "execution_count": 11,
   "metadata": {},
   "outputs": [],
   "source": [
    "def fill_null(heart_disease_dataset):\n",
    "    heart_disease_dataset['sysBP'].fillna(heart_disease_dataset['totChol'].mean(), inplace=True);\n",
    "    heart_disease_dataset['diaBP'].fillna(heart_disease_dataset['totChol'].mean(), inplace=True);\n",
    "    heart_disease_dataset['totChol'].fillna(heart_disease_dataset['totChol'].mean(), inplace=True);\n",
    "    heart_disease_dataset['BMI'].fillna(heart_disease_dataset['BMI'].mean(), inplace=True);\n",
    "    heart_disease_dataset['heartRate'].fillna(heart_disease_dataset['heartRate'].mean(), inplace=True);\n",
    "    heart_disease_dataset['glucose'].fillna(heart_disease_dataset['glucose'].mean(), inplace=True);\n",
    "    heart_disease_dataset.fillna(0, inplace=True);"
   ]
  },
  {
   "cell_type": "markdown",
   "metadata": {},
   "source": [
    "За да разберем дали това е правилно решение, ще опитаме и с премахване на всички features, които имат празни стойности. "
   ]
  },
  {
   "cell_type": "code",
   "execution_count": 12,
   "metadata": {},
   "outputs": [],
   "source": [
    "def clear_empty_data(heart_disease_dataset):\n",
    "    heart_disease_dataset.dropna(axis=0,inplace=True)"
   ]
  },
  {
   "cell_type": "code",
   "execution_count": 13,
   "metadata": {},
   "outputs": [],
   "source": [
    "fill_empty_smoking_attributes(heart_disease_dataset)\n",
    "fill_null(heart_disease_dataset)"
   ]
  },
  {
   "cell_type": "markdown",
   "metadata": {},
   "source": [
    "Нека заредим още веднъж dataset-a и да премахнем редовете, които съдържат празни стойности, за да сравним с кой dataset моделите ще се държат по-добре."
   ]
  },
  {
   "cell_type": "code",
   "execution_count": 14,
   "metadata": {},
   "outputs": [],
   "source": [
    "hdd_no_empty=pd.read_csv(\"framingham.csv\")\n",
    "clear_empty_data(hdd_no_empty)"
   ]
  },
  {
   "cell_type": "code",
   "execution_count": 15,
   "metadata": {},
   "outputs": [],
   "source": [
    "X_train, X_test, y_train, y_test = train_test_split(heart_disease_dataset.iloc[:, :-1], heart_disease_dataset.iloc[:,-1], test_size=0.4, random_state=0)\n",
    "X_train_e, X_test_e, y_train_e, y_test_e = train_test_split(hdd_no_empty.iloc[:, :-1], hdd_no_empty.iloc[:,-1], test_size=0.4, random_state=0)"
   ]
  },
  {
   "cell_type": "markdown",
   "metadata": {},
   "source": [
    "## Oversampling"
   ]
  },
  {
   "cell_type": "code",
   "execution_count": 16,
   "metadata": {},
   "outputs": [],
   "source": [
    "oversampler = SMOTE(random_state=12, ratio=1.0)\n",
    "X_train, y_train = oversampler.fit_sample(X_train, y_train)"
   ]
  },
  {
   "cell_type": "code",
   "execution_count": 17,
   "metadata": {},
   "outputs": [],
   "source": [
    "def plot_feature_importance(importances, names):\n",
    "    plt.title(\"Feature importances\")\n",
    "    indices = np.argsort(importances)\n",
    "    plt.barh(range(len(indices)), importances[indices], color='b', align='center')\n",
    "    plt.yticks(range(len(indices)), [names[i] for i in indices])\n",
    "    plt.show()"
   ]
  },
  {
   "cell_type": "markdown",
   "metadata": {},
   "source": [
    "# Model building"
   ]
  },
  {
   "cell_type": "markdown",
   "metadata": {},
   "source": [
    "Ще обучим няколко модела, като използваме Логистична регресия, DecisionTree класификатор, RandomForest класификатор, KNN. За да се извлече максималното от използваните алгоритми използваме hyperparameter optimization/tuning, като за целта използвам GridSearch - изпробват се всички комбинации с посочените параметри (време за кафе), както и RandomizedSearch - избират се произволни комбинации от параметри (ще я използвам за RandomForestClassifier); и се избира най-добрата на база оценка на модела."
   ]
  },
  {
   "cell_type": "markdown",
   "metadata": {},
   "source": [
    "## Logistic Regression"
   ]
  },
  {
   "cell_type": "markdown",
   "metadata": {},
   "source": [
    "Като за начало ще намерим параметрите, с които ще можем да изсмучем максималното от модела ни - hyperparameter optimization. Ще използваме GridSearchCV, за да тестваме различни комбинации със следните параметри: C, penalty, tol."
   ]
  },
  {
   "cell_type": "code",
   "execution_count": 18,
   "metadata": {},
   "outputs": [
    {
     "name": "stdout",
     "output_type": "stream",
     "text": [
      "Optimized hpyerparameters: {'tol': 0.001, 'C': 10.0, 'penalty': 'l2'}\n",
      "Score with optimized parameters: 0.6834883720930233\n"
     ]
    }
   ],
   "source": [
    "parameters={\"C\":np.logspace(-3,3,10), \"penalty\":[\"l1\",\"l2\"], \"tol\":np.logspace(-3,3,10)}\n",
    "logreg=LogisticRegression()\n",
    "logreg_cv=GridSearchCV(logreg,parameters,cv=10);\n",
    "logreg_cv.fit(X_train,y_train);\n",
    "\n",
    "print(\"Optimized hpyerparameters:\",logreg_cv.best_params_)\n",
    "print(\"Score with optimized parameters:\",logreg_cv.best_score_)"
   ]
  },
  {
   "cell_type": "code",
   "execution_count": 19,
   "metadata": {},
   "outputs": [],
   "source": [
    "def train_model_with_logistic_regression(X_train, y_train, X_test, y_test, params={}):\n",
    "    model = LogisticRegression(**params);\n",
    "    model.fit(X_train, y_train)\n",
    "    print(sorted(list(zip(map(abs, model.coef_.tolist()[0]), names)), reverse=True))\n",
    "    print(\"Train score: \" + str(model.score(X_train, y_train)))\n",
    "    print(\"Test score: \" + str(model.score(X_test, y_test)))\n",
    "    return model.predict(X_test)"
   ]
  },
  {
   "cell_type": "markdown",
   "metadata": {},
   "source": [
    "Да проверим какъв score ще получим върху двата dataset-a - единия със запълнените празни стойности и другия с премахнатите редове с празни стойности. Ще тестваме какъв score ще получим и с оптимизираните хиперпараметри, които получихме."
   ]
  },
  {
   "cell_type": "code",
   "execution_count": 20,
   "metadata": {},
   "outputs": [
    {
     "name": "stdout",
     "output_type": "stream",
     "text": [
      "[(0.7562891731434082, 'prevalentStroke'), (0.5918651534661703, 'male'), (0.3754983746797482, 'prevalentHyp'), (0.17711122203460214, 'diabetes'), (0.1763077348043504, 'currentSmoker'), (0.06978691464792029, 'age'), (0.04627791798746718, 'BPMeds'), (0.01705687129289998, 'education'), (0.01591136848613158, 'cigsPerDay'), (0.014125399271567838, 'BMI'), (0.00965215159668823, 'sysBP'), (0.0037120285133735824, 'glucose'), (0.0014384322746161503, 'totChol'), (0.0014359425355955863, 'diaBP'), (0.0013695686219544582, 'heartRate')]\n",
      "Train score: 0.6823255813953488\n",
      "Test score: 0.6845518867924528\n"
     ]
    }
   ],
   "source": [
    "y_predicted = train_model_with_logistic_regression(X_train, y_train, X_test, y_test)"
   ]
  },
  {
   "cell_type": "code",
   "execution_count": 21,
   "metadata": {},
   "outputs": [
    {
     "name": "stdout",
     "output_type": "stream",
     "text": [
      "[(0.5913158861919798, 'prevalentStroke'), (0.4730424875766562, 'prevalentHyp'), (0.40031258875085535, 'male'), (0.2089225233434471, 'BPMeds'), (0.18514603556634582, 'diabetes'), (0.09879203309216783, 'education'), (0.033882411309108726, 'age'), (0.019149590048654148, 'cigsPerDay'), (0.015424606785890476, 'sysBP'), (0.013868641355043279, 'heartRate'), (0.010460006491813832, 'diaBP'), (0.005227024725092503, 'currentSmoker'), (0.00507461589217372, 'glucose'), (0.0034446311589377736, 'BMI'), (0.0007344229707698127, 'totChol')]\n",
      "Train score: 0.8600729261622607\n",
      "Test score: 0.8394808743169399\n"
     ]
    },
    {
     "data": {
      "text/plain": [
       "array([0, 0, 0, ..., 0, 0, 0])"
      ]
     },
     "execution_count": 21,
     "metadata": {},
     "output_type": "execute_result"
    }
   ],
   "source": [
    "train_model_with_logistic_regression(X_train_e, y_train_e, X_test_e, y_test_e)"
   ]
  },
  {
   "cell_type": "markdown",
   "metadata": {},
   "source": [
    "Очевидно модела ни се справя по-добре с тестовите данни от първия dataset - този със запълнените празни стойности. При използването на dataset-a с премахнатите стойности виждаме и overfitting."
   ]
  },
  {
   "cell_type": "code",
   "execution_count": 22,
   "metadata": {},
   "outputs": [
    {
     "name": "stdout",
     "output_type": "stream",
     "text": [
      "[(0.9179780636956748, 'prevalentStroke'), (0.6069078808235071, 'male'), (0.25571148695360807, 'prevalentHyp'), (0.22515783459489488, 'currentSmoker'), (0.07545821460351305, 'age'), (0.03208746128286356, 'diabetes'), (0.02291927400263549, 'BMI'), (0.015382550027196818, 'cigsPerDay'), (0.010354975969445042, 'sysBP'), (0.005091588066479851, 'glucose'), (0.004134184910213082, 'education'), (0.0019579700921387665, 'totChol'), (0.0016022099683349823, 'diaBP'), (0.001473417123766825, 'heartRate'), (0.0011481161680337948, 'BPMeds')]\n",
      "Train score: 0.684186046511628\n",
      "Test score: 0.6863207547169812\n"
     ]
    },
    {
     "data": {
      "text/plain": [
       "array([1, 0, 1, ..., 0, 1, 0])"
      ]
     },
     "execution_count": 22,
     "metadata": {},
     "output_type": "execute_result"
    }
   ],
   "source": [
    "train_model_with_logistic_regression(X_train, y_train, X_test, y_test, logreg_cv.best_params_)"
   ]
  },
  {
   "cell_type": "markdown",
   "metadata": {},
   "source": [
    "### Confusion Matrix при Logistic regression"
   ]
  },
  {
   "cell_type": "code",
   "execution_count": 23,
   "metadata": {},
   "outputs": [
    {
     "data": {
      "text/plain": [
       "<matplotlib.axes._subplots.AxesSubplot at 0x7f3482938208>"
      ]
     },
     "execution_count": 23,
     "metadata": {},
     "output_type": "execute_result"
    },
    {
     "data": {
      "image/png": "[encoded data removed]",
      "text/plain": [
       "<Figure size 576x360 with 2 Axes>"
      ]
     },
     "metadata": {
      "needs_background": "light"
     },
     "output_type": "display_data"
    }
   ],
   "source": [
    "cm=confusion_matrix(y_test,y_predicted)\n",
    "conf_matrix=pd.DataFrame(data=cm,columns=['Predicted:0','Predicted:1'],index=['Actual:0','Actual:1'])\n",
    "plt.figure(figsize = (8,5))\n",
    "sns.heatmap(conf_matrix, annot=True,fmt='d',cmap=\"YlGnBu\")"
   ]
  },
  {
   "cell_type": "code",
   "execution_count": 24,
   "metadata": {},
   "outputs": [
    {
     "name": "stdout",
     "output_type": "stream",
     "text": [
      "Recall0.9245107176141659\n"
     ]
    }
   ],
   "source": [
    "recall = cm[0, 0] / (cm[0, 0]+cm[1, 0])\n",
    "print(\"Recall\" + str(recall))"
   ]
  },
  {
   "cell_type": "markdown",
   "metadata": {},
   "source": [
    "Както се вижда от матрицата, моделът ни се справя добре при предсказване, че пациента няма шанс от сърдечно заболяване в близките 10 години, когато наистина е така. Проблемът е при предсказване, че пациентът има шанс за сърдечно заболяване. Само в 14 от случаите, моделът е познал, че пациентът има шанс за сърдечно заболяване в близките 10 години. В останалите 236 случаи е объркал, което е фатално в този случай (по-добре да предскажем на здрав човек, че е болен, отколкото обратното). Това се дължи на използването на логистична регресия. Както видяхме в heatmap-a, стойността, която предсказваме не е много зависима от останалите характеристики и за това в случая логистичната регресия не ни върши много добра работа. Приличният score се дължи на това, че доста голяма част от данните в dataset-a показват, че пациент няма шанс за сърдечни заболявания в близките 10 години."
   ]
  },
  {
   "cell_type": "markdown",
   "metadata": {},
   "source": [
    "## Decision Tree Classification"
   ]
  },
  {
   "cell_type": "markdown",
   "metadata": {},
   "source": [
    "При Decision Tree Classification отново ще направим hyperparameter optimization и ще обучим и тестваме модела."
   ]
  },
  {
   "cell_type": "code",
   "execution_count": 25,
   "metadata": {},
   "outputs": [
    {
     "name": "stdout",
     "output_type": "stream",
     "text": [
      "Optimized hpyerparameters: {'criterion': 'entropy', 'max_depth': 51, 'splitter': 'random'}\n",
      "Score with optimized parameters: 0.8425581395348837\n"
     ]
    }
   ],
   "source": [
    "parameters={\"criterion\":[\"gini\", \"entropy\"], \"splitter\":[\"best\",\"random\"], \"max_depth\": range(1, 110, 10)}\n",
    "dtree=DecisionTreeClassifier()\n",
    "dtree_cv=GridSearchCV(dtree,parameters,cv=10);\n",
    "dtree_cv.fit(X_train,y_train);\n",
    "\n",
    "print(\"Optimized hpyerparameters:\",dtree_cv.best_params_)\n",
    "print(\"Score with optimized parameters:\",dtree_cv.best_score_)"
   ]
  },
  {
   "cell_type": "code",
   "execution_count": 26,
   "metadata": {},
   "outputs": [],
   "source": [
    "def train_model_with_decision_tree(X_train, y_train, X_test, y_test, params={}):\n",
    "    model = DecisionTreeClassifier(**params).fit(X_train,y_train)\n",
    "    print(sorted(zip(map(lambda x: round(x, 4), model.feature_importances_), names), reverse=True))\n",
    "    plot_feature_importance(model.feature_importances_, names)\n",
    "    scores = cross_val_score(model, X_train, y_train, cv=5)\n",
    "    print(\"Train score: \" + str(scores.mean()))\n",
    "    scores = cross_val_score(model, X_test, y_test, cv=5)\n",
    "    print(\"Test score: \" + str(scores.mean()))\n",
    "    return model.predict(X_test)"
   ]
  },
  {
   "cell_type": "code",
   "execution_count": 27,
   "metadata": {},
   "outputs": [
    {
     "name": "stdout",
     "output_type": "stream",
     "text": [
      "[(0.1964, 'male'), (0.1869, 'age'), (0.0982, 'totChol'), (0.089, 'sysBP'), (0.0688, 'heartRate'), (0.0647, 'glucose'), (0.0629, 'prevalentHyp'), (0.0557, 'diaBP'), (0.0522, 'cigsPerDay'), (0.0511, 'BMI'), (0.0352, 'education'), (0.0282, 'currentSmoker'), (0.0047, 'diabetes'), (0.0033, 'prevalentStroke'), (0.0028, 'BPMeds')]\n"
     ]
    },
    {
     "data": {
      "image/png": "[encoded data removed]",
      "text/plain": [
       "<Figure size 432x288 with 1 Axes>"
      ]
     },
     "metadata": {
      "needs_background": "light"
     },
     "output_type": "display_data"
    },
    {
     "name": "stdout",
     "output_type": "stream",
     "text": [
      "Train score: 0.8293023255813953\n",
      "Test score: 0.7470518826999826\n"
     ]
    }
   ],
   "source": [
    "y_predicted = train_model_with_decision_tree(X_train, y_train, X_test, y_test)"
   ]
  },
  {
   "cell_type": "code",
   "execution_count": 28,
   "metadata": {
    "scrolled": false
   },
   "outputs": [
    {
     "name": "stdout",
     "output_type": "stream",
     "text": [
      "[(0.1638, 'BMI'), (0.1541, 'glucose'), (0.1439, 'sysBP'), (0.1232, 'diaBP'), (0.1216, 'totChol'), (0.0961, 'heartRate'), (0.0777, 'age'), (0.0464, 'cigsPerDay'), (0.0265, 'male'), (0.0202, 'education'), (0.0094, 'BPMeds'), (0.0074, 'prevalentHyp'), (0.0063, 'prevalentStroke'), (0.0019, 'currentSmoker'), (0.0015, 'diabetes')]\n"
     ]
    },
    {
     "data": {
      "image/png": "[encoded data removed]",
      "text/plain": [
       "<Figure size 432x288 with 1 Axes>"
      ]
     },
     "metadata": {
      "needs_background": "light"
     },
     "output_type": "display_data"
    },
    {
     "name": "stdout",
     "output_type": "stream",
     "text": [
      "Train score: 0.7579872176377309\n",
      "Test score: 0.7670928982187106\n"
     ]
    },
    {
     "data": {
      "text/plain": [
       "array([0, 1, 0, ..., 0, 1, 0])"
      ]
     },
     "execution_count": 28,
     "metadata": {},
     "output_type": "execute_result"
    }
   ],
   "source": [
    "train_model_with_decision_tree(X_train_e, y_train_e, X_test_e, y_test_e)"
   ]
  },
  {
   "cell_type": "code",
   "execution_count": 29,
   "metadata": {
    "scrolled": false
   },
   "outputs": [
    {
     "name": "stdout",
     "output_type": "stream",
     "text": [
      "[(0.1483, 'age'), (0.1327, 'male'), (0.1026, 'prevalentHyp'), (0.0834, 'education'), (0.0821, 'sysBP'), (0.0765, 'totChol'), (0.0686, 'currentSmoker'), (0.0639, 'diaBP'), (0.0636, 'heartRate'), (0.0577, 'BMI'), (0.0565, 'glucose'), (0.0458, 'cigsPerDay'), (0.009, 'diabetes'), (0.0082, 'BPMeds'), (0.001, 'prevalentStroke')]\n"
     ]
    },
    {
     "data": {
      "image/png": "[encoded data removed]",
      "text/plain": [
       "<Figure size 432x288 with 1 Axes>"
      ]
     },
     "metadata": {
      "needs_background": "light"
     },
     "output_type": "display_data"
    },
    {
     "name": "stdout",
     "output_type": "stream",
     "text": [
      "Train score: 0.8353488372093023\n",
      "Test score: 0.7665052923824397\n"
     ]
    }
   ],
   "source": [
    "y_predicted_opt = train_model_with_decision_tree(X_train, y_train, X_test, y_test, dtree_cv.best_params_)"
   ]
  },
  {
   "cell_type": "markdown",
   "metadata": {},
   "source": [
    "## Confusion matrix при Decision Tree Classification"
   ]
  },
  {
   "cell_type": "markdown",
   "metadata": {},
   "source": [
    "Нека погледнем confusion матриците, когато не използваме hyperparameter optimization и когато - да. "
   ]
  },
  {
   "cell_type": "code",
   "execution_count": 30,
   "metadata": {},
   "outputs": [
    {
     "data": {
      "text/plain": [
       "<matplotlib.axes._subplots.AxesSubplot at 0x7f34827ac978>"
      ]
     },
     "execution_count": 30,
     "metadata": {},
     "output_type": "execute_result"
    },
    {
     "data": {
      "image/png": "[encoded data removed]",
      "text/plain": [
       "<Figure size 576x360 with 2 Axes>"
      ]
     },
     "metadata": {
      "needs_background": "light"
     },
     "output_type": "display_data"
    }
   ],
   "source": [
    "cm=confusion_matrix(y_test, y_predicted)\n",
    "conf_matrix=pd.DataFrame(data=cm,columns=['Predicted:0','Predicted:1'],index=['Actual:0','Actual:1'])\n",
    "plt.figure(figsize = (8,5))\n",
    "sns.heatmap(conf_matrix, annot=True,fmt='d',cmap=\"YlGnBu\")"
   ]
  },
  {
   "cell_type": "code",
   "execution_count": 31,
   "metadata": {},
   "outputs": [
    {
     "data": {
      "text/plain": [
       "<matplotlib.axes._subplots.AxesSubplot at 0x7f34828d67f0>"
      ]
     },
     "execution_count": 31,
     "metadata": {},
     "output_type": "execute_result"
    },
    {
     "data": {
      "image/png": "[encoded data removed]",
      "text/plain": [
       "<Figure size 576x360 with 2 Axes>"
      ]
     },
     "metadata": {
      "needs_background": "light"
     },
     "output_type": "display_data"
    }
   ],
   "source": [
    "cm=confusion_matrix(y_test, y_predicted_opt)\n",
    "conf_matrix=pd.DataFrame(data=cm,columns=['Predicted:0','Predicted:1'],index=['Actual:0','Actual:1'])\n",
    "plt.figure(figsize = (8,5))\n",
    "sns.heatmap(conf_matrix, annot=True,fmt='d',cmap=\"YlGnBu\")"
   ]
  },
  {
   "cell_type": "markdown",
   "metadata": {},
   "source": [
    "В първия случай имаме подобрение в сравнение с използването на логистична регресия. Въпреки че моделът ни е определил за малко повече хора, че потенциално са застрашени от сърдечни заболявания, а това не е така, той е успял да предскаже за 70 човека, че имат шанс за сърдечно заболяване и е познал. Вече споменахме, че предпочитаме моделът ни да каже на здравия болен, отколкото на болния - здрав. За това, въпреки ниският score, имаме напредък. \n",
    "Странното тук е confusion матрицата при използване на hyperparameter optimization. С цел постигане на по-висок score, параметрите са така избрани, че моделът ни вече предсказва за всички, че нямат шанс от сърдечно заболяване."
   ]
  },
  {
   "cell_type": "markdown",
   "metadata": {},
   "source": [
    "## Random Forest Classification"
   ]
  },
  {
   "cell_type": "markdown",
   "metadata": {},
   "source": [
    "При Random Forest Classification, за оптимизиране на хиперпараметрите, ще използваме методът RandomizedSearch, тъй като всевъзможните комбинации на избраните параметри са много и времето за изпробване и сравняване на всички е доста. Този метод не дава гаранция, че ще намери най-добрите параметри."
   ]
  },
  {
   "cell_type": "code",
   "execution_count": 32,
   "metadata": {},
   "outputs": [
    {
     "name": "stdout",
     "output_type": "stream",
     "text": [
      "Optimized hpyerparameters: {'min_samples_split': 6, 'bootstrap': False, 'min_samples_leaf': 2, 'max_features': 'sqrt', 'max_depth': 61, 'n_estimators': 121}\n",
      "Score with optimized parameters: 0.9116279069767442\n"
     ]
    }
   ],
   "source": [
    "parameters={\"n_estimators\": range(1, 201, 10), \"max_features\":[\"auto\",\"sqrt\"], \"max_depth\":range(1, 101, 10), \"min_samples_split\":range(2,10,1), \"min_samples_leaf\":[1, 2, 4], \"bootstrap\":[True, False]}\n",
    "rforest=RandomForestClassifier()\n",
    "rforest_cv=RandomizedSearchCV(rforest,parameters,cv=10);\n",
    "rforest_cv.fit(X_train,y_train);\n",
    "\n",
    "print(\"Optimized hpyerparameters:\",rforest_cv.best_params_)\n",
    "print(\"Score with optimized parameters:\",rforest_cv.best_score_)"
   ]
  },
  {
   "cell_type": "code",
   "execution_count": 33,
   "metadata": {},
   "outputs": [],
   "source": [
    "def train_model_with_random_forest(X_train, y_train, X_test, y_test, params={}):\n",
    "    model = RandomForestClassifier(**params).fit(X_train,y_train);\n",
    "    print(sorted(zip(map(lambda x: round(x, 4), model.feature_importances_), names), reverse=True))\n",
    "    plot_feature_importance(model.feature_importances_, names)\n",
    "    scores = cross_val_score(model, X_train, y_train, cv=5)\n",
    "    print(\"Train score: \" + str(scores.mean()))\n",
    "    scores = cross_val_score(model, X_test, y_test, cv=5)\n",
    "    print(\"Test score: \" + str(scores.mean()))\n",
    "    return model.predict(X_test)"
   ]
  },
  {
   "cell_type": "code",
   "execution_count": 34,
   "metadata": {},
   "outputs": [
    {
     "name": "stdout",
     "output_type": "stream",
     "text": [
      "[(0.1579, 'age'), (0.1248, 'male'), (0.0911, 'prevalentHyp'), (0.0864, 'sysBP'), (0.0761, 'heartRate'), (0.0755, 'diaBP'), (0.0749, 'totChol'), (0.0727, 'education'), (0.0693, 'BMI'), (0.0678, 'glucose'), (0.0478, 'cigsPerDay'), (0.0392, 'currentSmoker'), (0.0079, 'BPMeds'), (0.0058, 'diabetes'), (0.0026, 'prevalentStroke')]\n"
     ]
    },
    {
     "data": {
      "image/png": "[encoded data removed]",
      "text/plain": [
       "<Figure size 432x288 with 1 Axes>"
      ]
     },
     "metadata": {
      "needs_background": "light"
     },
     "output_type": "display_data"
    },
    {
     "name": "stdout",
     "output_type": "stream",
     "text": [
      "Train score: 0.8811627906976744\n",
      "Test score: 0.8408051362137776\n"
     ]
    },
    {
     "data": {
      "text/plain": [
       "array([0, 0, 0, ..., 0, 0, 0])"
      ]
     },
     "execution_count": 34,
     "metadata": {},
     "output_type": "execute_result"
    }
   ],
   "source": [
    "train_model_with_random_forest(X_train, y_train, X_test, y_test)"
   ]
  },
  {
   "cell_type": "code",
   "execution_count": 35,
   "metadata": {},
   "outputs": [
    {
     "name": "stdout",
     "output_type": "stream",
     "text": [
      "[(0.1477, 'sysBP'), (0.1331, 'BMI'), (0.1261, 'diaBP'), (0.1185, 'totChol'), (0.1156, 'age'), (0.1139, 'glucose'), (0.0949, 'heartRate'), (0.0577, 'cigsPerDay'), (0.0323, 'education'), (0.0209, 'male'), (0.0144, 'prevalentHyp'), (0.009, 'currentSmoker'), (0.0085, 'BPMeds'), (0.0057, 'diabetes'), (0.0016, 'prevalentStroke')]\n"
     ]
    },
    {
     "data": {
      "image/png": "[encoded data removed]",
      "text/plain": [
       "<Figure size 432x288 with 1 Axes>"
      ]
     },
     "metadata": {
      "needs_background": "light"
     },
     "output_type": "display_data"
    },
    {
     "name": "stdout",
     "output_type": "stream",
     "text": [
      "Train score: 0.8482288371908305\n",
      "Test score: 0.8224157277105053\n"
     ]
    },
    {
     "data": {
      "text/plain": [
       "array([0, 0, 0, ..., 0, 0, 0])"
      ]
     },
     "execution_count": 35,
     "metadata": {},
     "output_type": "execute_result"
    }
   ],
   "source": [
    "train_model_with_random_forest(X_train_e, y_train_e, X_test_e, y_test_e)"
   ]
  },
  {
   "cell_type": "code",
   "execution_count": 36,
   "metadata": {},
   "outputs": [
    {
     "name": "stdout",
     "output_type": "stream",
     "text": [
      "[(0.1544, 'age'), (0.1491, 'male'), (0.0862, 'sysBP'), (0.0838, 'prevalentHyp'), (0.0833, 'education'), (0.0755, 'totChol'), (0.0671, 'diaBP'), (0.0643, 'glucose'), (0.0639, 'heartRate'), (0.059, 'BMI'), (0.052, 'cigsPerDay'), (0.0429, 'currentSmoker'), (0.0094, 'BPMeds'), (0.0073, 'diabetes'), (0.0019, 'prevalentStroke')]\n"
     ]
    },
    {
     "data": {
      "image/png": "[encoded data removed]",
      "text/plain": [
       "<Figure size 432x288 with 1 Axes>"
      ]
     },
     "metadata": {
      "needs_background": "light"
     },
     "output_type": "display_data"
    },
    {
     "name": "stdout",
     "output_type": "stream",
     "text": [
      "Train score: 0.8993023255813954\n",
      "Test score: 0.8413968419226098\n"
     ]
    }
   ],
   "source": [
    "y_predicted_opt = train_model_with_random_forest(X_train, y_train, X_test, y_test, rforest_cv.best_params_)"
   ]
  },
  {
   "cell_type": "code",
   "execution_count": 37,
   "metadata": {},
   "outputs": [
    {
     "data": {
      "text/plain": [
       "<matplotlib.axes._subplots.AxesSubplot at 0x7f3482a0c2b0>"
      ]
     },
     "execution_count": 37,
     "metadata": {},
     "output_type": "execute_result"
    },
    {
     "data": {
      "image/png": "[encoded data removed]",
      "text/plain": [
       "<Figure size 576x360 with 2 Axes>"
      ]
     },
     "metadata": {
      "needs_background": "light"
     },
     "output_type": "display_data"
    }
   ],
   "source": [
    "cm=confusion_matrix(y_test, y_predicted_opt)\n",
    "conf_matrix=pd.DataFrame(data=cm,columns=['Predicted:0','Predicted:1'],index=['Actual:0','Actual:1'])\n",
    "plt.figure(figsize = (8,5))\n",
    "sns.heatmap(conf_matrix, annot=True,fmt='d',cmap=\"YlGnBu\")"
   ]
  },
  {
   "cell_type": "markdown",
   "metadata": {},
   "source": [
    "## Extra Trees Classification"
   ]
  },
  {
   "cell_type": "code",
   "execution_count": 38,
   "metadata": {},
   "outputs": [
    {
     "name": "stdout",
     "output_type": "stream",
     "text": [
      "Optimized hpyerparameters: {'random_state': 43, 'min_samples_split': 5, 'bootstrap': False, 'min_samples_leaf': 1, 'max_features': 'auto', 'max_depth': 71, 'n_estimators': 51}\n",
      "Score with optimized parameters: 0.9204651162790698\n"
     ]
    }
   ],
   "source": [
    "parameters={\"n_estimators\": range(1, 201, 10), \"max_features\":[\"auto\",\"sqrt\"], \"max_depth\":range(1, 101, 10), \"min_samples_split\":range(2,10,1), \"min_samples_leaf\":[1, 2, 4], \"bootstrap\":[True, False], \"random_state\":[42,43,44]}\n",
    "extra_trees=ExtraTreesClassifier()\n",
    "extra_trees_cv=RandomizedSearchCV(extra_trees,parameters,cv=10);\n",
    "extra_trees_cv.fit(X_train,y_train);\n",
    "\n",
    "print(\"Optimized hpyerparameters:\",extra_trees_cv.best_params_)\n",
    "print(\"Score with optimized parameters:\",extra_trees_cv.best_score_)"
   ]
  },
  {
   "cell_type": "code",
   "execution_count": 39,
   "metadata": {},
   "outputs": [],
   "source": [
    "def train_model_with_extra_trees(X_train, y_train, X_test, y_test, params={}):\n",
    "    model = ExtraTreesClassifier(**params)\n",
    "    model.fit(X_train, y_train)\n",
    "    print(sorted(zip(map(lambda x: round(x, 4), model.feature_importances_), names), reverse=True))\n",
    "    scores = cross_val_score(model, X_train, y_train, cv=5)\n",
    "    print(\"Train score: \" + str(scores.mean()))\n",
    "    scores = cross_val_score(model, X_test, y_test, cv=5)\n",
    "    print(\"Test score: \" + str(scores.mean()))\n",
    "    return model.predict(X_test)"
   ]
  },
  {
   "cell_type": "code",
   "execution_count": 40,
   "metadata": {},
   "outputs": [
    {
     "name": "stdout",
     "output_type": "stream",
     "text": [
      "[(0.1352, 'male'), (0.1156, 'age'), (0.1139, 'prevalentHyp'), (0.0803, 'sysBP'), (0.0777, 'totChol'), (0.0731, 'education'), (0.0696, 'diaBP'), (0.0691, 'BMI'), (0.068, 'glucose'), (0.0655, 'heartRate'), (0.0537, 'currentSmoker'), (0.0496, 'cigsPerDay'), (0.012, 'BPMeds'), (0.0111, 'diabetes'), (0.0057, 'prevalentStroke')]\n",
      "Train score: 0.9090697674418605\n",
      "Test score: 0.8396269304181849\n"
     ]
    },
    {
     "data": {
      "text/plain": [
       "array([0, 0, 0, ..., 0, 0, 0])"
      ]
     },
     "execution_count": 40,
     "metadata": {},
     "output_type": "execute_result"
    }
   ],
   "source": [
    "train_model_with_extra_trees(X_train, y_train, X_test, y_test)"
   ]
  },
  {
   "cell_type": "code",
   "execution_count": 41,
   "metadata": {},
   "outputs": [
    {
     "name": "stdout",
     "output_type": "stream",
     "text": [
      "[(0.1252, 'sysBP'), (0.1187, 'diaBP'), (0.1119, 'BMI'), (0.111, 'age'), (0.1102, 'glucose'), (0.1055, 'heartRate'), (0.1051, 'totChol'), (0.0625, 'education'), (0.0608, 'cigsPerDay'), (0.0267, 'prevalentHyp'), (0.0241, 'male'), (0.0174, 'currentSmoker'), (0.0103, 'BPMeds'), (0.0077, 'diabetes'), (0.003, 'prevalentStroke')]\n",
      "Train score: 0.8482257025902296\n",
      "Test score: 0.8224040394595352\n"
     ]
    },
    {
     "data": {
      "text/plain": [
       "array([0, 0, 0, ..., 0, 0, 0])"
      ]
     },
     "execution_count": 41,
     "metadata": {},
     "output_type": "execute_result"
    }
   ],
   "source": [
    "train_model_with_extra_trees(X_train_e, y_train_e, X_test_e, y_test_e)"
   ]
  },
  {
   "cell_type": "code",
   "execution_count": 42,
   "metadata": {},
   "outputs": [
    {
     "name": "stdout",
     "output_type": "stream",
     "text": [
      "[(0.1518, 'male'), (0.1249, 'age'), (0.1232, 'prevalentHyp'), (0.0791, 'sysBP'), (0.0735, 'education'), (0.0678, 'totChol'), (0.0624, 'glucose'), (0.0597, 'diaBP'), (0.0578, 'heartRate'), (0.0578, 'currentSmoker'), (0.0574, 'BMI'), (0.0512, 'cigsPerDay'), (0.0143, 'BPMeds'), (0.0132, 'diabetes'), (0.006, 'prevalentStroke')]\n",
      "Train score: 0.9162790697674419\n",
      "Test score: 0.8455214298108624\n"
     ]
    }
   ],
   "source": [
    "y_predicted_opt = train_model_with_extra_trees(X_train, y_train, X_test, y_test, extra_trees_cv.best_params_)"
   ]
  },
  {
   "cell_type": "code",
   "execution_count": 43,
   "metadata": {},
   "outputs": [
    {
     "data": {
      "text/plain": [
       "<matplotlib.axes._subplots.AxesSubplot at 0x7f3482dedb70>"
      ]
     },
     "execution_count": 43,
     "metadata": {},
     "output_type": "execute_result"
    },
    {
     "data": {
      "image/png": "[encoded data removed]",
      "text/plain": [
       "<Figure size 576x360 with 2 Axes>"
      ]
     },
     "metadata": {
      "needs_background": "light"
     },
     "output_type": "display_data"
    }
   ],
   "source": [
    "cm=confusion_matrix(y_test, y_predicted_opt)\n",
    "conf_matrix=pd.DataFrame(data=cm,columns=['Predicted:0','Predicted:1'],index=['Actual:0','Actual:1'])\n",
    "plt.figure(figsize = (8,5))\n",
    "sns.heatmap(conf_matrix, annot=True,fmt='d',cmap=\"YlGnBu\")"
   ]
  },
  {
   "cell_type": "markdown",
   "metadata": {},
   "source": [
    "## KNeighbors Classification"
   ]
  },
  {
   "cell_type": "code",
   "execution_count": 44,
   "metadata": {},
   "outputs": [
    {
     "name": "stdout",
     "output_type": "stream",
     "text": [
      "Optimized hpyerparameters: {'n_neighbors': 1, 'algorithm': 'ball_tree', 'leaf_size': 51}\n",
      "Score with optimized parameters: 0.8872093023255814\n"
     ]
    }
   ],
   "source": [
    "parameters={\"n_neighbors\": range(1, 201, 10), \"algorithm\":[\"auto\", \"ball_tree\", \"kd_tree\", \"brute\"], \"leaf_size\":range(1, 101, 10)}\n",
    "knn=KNeighborsClassifier()\n",
    "knn_cv=RandomizedSearchCV(knn,parameters,cv=10);\n",
    "knn_cv.fit(X_train,y_train);\n",
    "\n",
    "print(\"Optimized hpyerparameters:\", knn_cv.best_params_)\n",
    "print(\"Score with optimized parameters:\", knn_cv.best_score_)"
   ]
  },
  {
   "cell_type": "code",
   "execution_count": 45,
   "metadata": {},
   "outputs": [],
   "source": [
    "def train_model_with_knn(X_train, y_train, X_test, y_test, params={}):\n",
    "    model = KNeighborsClassifier(**params)\n",
    "    model.fit(X_train, y_train)\n",
    "    scores = cross_val_score(model, X_train, y_train, cv=5)\n",
    "    print(\"Train score: \" + str(scores.mean()))\n",
    "    scores = cross_val_score(model, X_test, y_test, cv=5)\n",
    "    print(\"Test score: \" + str(scores.mean()))\n",
    "    return model.predict(X_test)"
   ]
  },
  {
   "cell_type": "code",
   "execution_count": 46,
   "metadata": {},
   "outputs": [
    {
     "name": "stdout",
     "output_type": "stream",
     "text": [
      "Train score: 0.8146511627906976\n",
      "Test score: 0.8331424605240327\n"
     ]
    }
   ],
   "source": [
    "y_predicted = train_model_with_knn(X_train, y_train, X_test, y_test)"
   ]
  },
  {
   "cell_type": "code",
   "execution_count": 47,
   "metadata": {},
   "outputs": [
    {
     "name": "stdout",
     "output_type": "stream",
     "text": [
      "Train score: 0.8797674418604652\n",
      "Test score: 0.7765452021516571\n"
     ]
    },
    {
     "data": {
      "text/plain": [
       "array([1, 1, 1, ..., 0, 0, 0])"
      ]
     },
     "execution_count": 47,
     "metadata": {},
     "output_type": "execute_result"
    }
   ],
   "source": [
    "train_model_with_knn(X_train, y_train, X_test, y_test, knn_cv.best_params_)"
   ]
  },
  {
   "cell_type": "code",
   "execution_count": 48,
   "metadata": {},
   "outputs": [
    {
     "data": {
      "text/plain": [
       "<matplotlib.axes._subplots.AxesSubplot at 0x7f3480292eb8>"
      ]
     },
     "execution_count": 48,
     "metadata": {},
     "output_type": "execute_result"
    },
    {
     "data": {
      "image/png": "[encoded data removed]",
      "text/plain": [
       "<Figure size 576x360 with 2 Axes>"
      ]
     },
     "metadata": {
      "needs_background": "light"
     },
     "output_type": "display_data"
    }
   ],
   "source": [
    "cm=confusion_matrix(y_test, y_predicted)\n",
    "conf_matrix=pd.DataFrame(data=cm,columns=['Predicted:0','Predicted:1'],index=['Actual:0','Actual:1'])\n",
    "plt.figure(figsize = (8,5))\n",
    "sns.heatmap(conf_matrix, annot=True,fmt='d',cmap=\"YlGnBu\")"
   ]
  },
  {
   "cell_type": "markdown",
   "metadata": {},
   "source": [
    "# Voting and Bagging Classification"
   ]
  },
  {
   "cell_type": "code",
   "execution_count": 49,
   "metadata": {},
   "outputs": [
    {
     "name": "stdout",
     "output_type": "stream",
     "text": [
      "Accuracy: 0.888 (+/- 0.11) [Random Forest]\n",
      "Accuracy: 0.656 (+/- 0.02) [Decision Tree]\n",
      "Accuracy: 0.679 (+/- 0.02) [Logistic Regression]\n",
      "Accuracy: 0.761 (+/- 0.04) [Ensemble]\n"
     ]
    }
   ],
   "source": [
    "clf1 = LogisticRegression()\n",
    "clf2 = RandomForestClassifier()\n",
    "clf3 = DecisionTreeClassifier(max_depth=1, splitter='best', criterion='gini')\n",
    "eclf1 = VotingClassifier(estimators=[('lr', clf1), ('rf', clf2), ('dt', clf3)], voting='hard')\n",
    "eclf1 = eclf1.fit(X_train, y_train)\n",
    "for clf, label in zip([clf2, clf3, clf1, eclf1], ['Random Forest', 'Decision Tree', 'Logistic Regression', 'Ensemble']):\n",
    "    scores = cross_val_score(clf, X_train, y_train, cv=10, scoring='accuracy')\n",
    "    print(\"Accuracy: %0.3f (+/- %0.2f) [%s]\" % (scores.mean(), scores.std(), label))"
   ]
  },
  {
   "cell_type": "code",
   "execution_count": 50,
   "metadata": {},
   "outputs": [
    {
     "name": "stdout",
     "output_type": "stream",
     "text": [
      "Mean of: 0.679, std: (+/-) 0.018 [LogisticRegression]\n",
      "Mean of: 0.675, std: (+/-) 0.018 [Bagging LogisticRegression]\n",
      "\n",
      "Mean of: 0.895, std: (+/-) 0.095 [RandomForestClassifier]\n",
      "Mean of: 0.877, std: (+/-) 0.103 [Bagging RandomForestClassifier]\n",
      "\n",
      "Mean of: 0.656, std: (+/-) 0.017 [DecisionTreeClassifier]\n",
      "Mean of: 0.687, std: (+/-) 0.031 [Bagging DecisionTreeClassifier]\n",
      "\n"
     ]
    }
   ],
   "source": [
    "for clf in [clf1, clf2, clf3]:\n",
    "    vanilla_scores = cross_val_score(clf, X_train, y_train, cv=10, n_jobs=-1)\n",
    "    bagging_clf = BaggingClassifier(clf, \n",
    "       max_samples=0.4, max_features=10, random_state=42)\n",
    "    bagging_scores = cross_val_score(bagging_clf, X_train, y_train, cv=10, \n",
    "       n_jobs=-1)\n",
    "    \n",
    "    print(\"Mean of: {1:.3f}, std: (+/-) {2:.3f} [{0}]\".format(clf.__class__.__name__, vanilla_scores.mean(), vanilla_scores.std()))\n",
    "    print(\"Mean of: {1:.3f}, std: (+/-) {2:.3f} [Bagging {0}]\\n\".format(clf.__class__.__name__, bagging_scores.mean(), bagging_scores.std()))"
   ]
  }
 ],
 "metadata": {
  "kernelspec": {
   "display_name": ".venv",
   "language": "python",
   "name": ".venv"
  },
  "language_info": {
   "codemirror_mode": {
    "name": "ipython",
    "version": 3
   },
   "file_extension": ".py",
   "mimetype": "text/x-python",
   "name": "python",
   "nbconvert_exporter": "python",
   "pygments_lexer": "ipython3",
   "version": "3.5.2"
  },
  "widgets": {
   "application/vnd.jupyter.widget-state+json": {
    "state": {},
    "version_major": 2,
    "version_minor": 0
   }
  }
 },
 "nbformat": 4,
 "nbformat_minor": 2
}

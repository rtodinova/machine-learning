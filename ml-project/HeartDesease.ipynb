{
 "cells": [
  {
   "cell_type": "markdown",
   "metadata": {},
   "source": [
    "Изготвил: Росица Динкова Тодинова, ф.н. 71624, специалност Информационни системи, 4 курс"
   ]
  },
  {
   "cell_type": "markdown",
   "metadata": {},
   "source": [
    "# Опсиание на проекта"
   ]
  },
  {
   "cell_type": "markdown",
   "metadata": {},
   "source": [
    "Целта на проекта е да предостави модел, който предсказва дали при даден пациент има риск от сърдечно заболяване в рамките на 10 години. Dataset-a, който е използван, съдържа данни, събрани от сърдечно-съдови изследвания. Той се състои от 15 атрибута и 4240 записа."
   ]
  },
  {
   "cell_type": "code",
   "execution_count": 1,
   "metadata": {},
   "outputs": [],
   "source": [
    "import pandas as pd\n",
    "import seaborn as sns\n",
    "import numpy as np\n",
    "import matplotlib.pyplot as plt\n",
    "\n",
    "from sklearn.model_selection import train_test_split\n",
    "from sklearn.linear_model import LinearRegression, LogisticRegression, Ridge\n",
    "from sklearn.tree import DecisionTreeClassifier\n",
    "from sklearn.neighbors import KNeighborsClassifier\n",
    "from sklearn.model_selection import cross_val_score\n",
    "from sklearn.ensemble import RandomForestClassifier, VotingClassifier, BaggingClassifier, ExtraTreesClassifier\n",
    "from sklearn.model_selection import GridSearchCV, RandomizedSearchCV\n",
    "from sklearn.svm import SVC\n",
    "from sklearn.metrics import confusion_matrix\n",
    "\n",
    "import warnings\n",
    "warnings.filterwarnings(\"ignore\")"
   ]
  },
  {
   "cell_type": "markdown",
   "metadata": {},
   "source": [
    "## Описание да dataset"
   ]
  },
  {
   "cell_type": "code",
   "execution_count": 2,
   "metadata": {},
   "outputs": [],
   "source": [
    "heart_disease_dataset=pd.read_csv(\"framingham.csv\")"
   ]
  },
  {
   "cell_type": "code",
   "execution_count": 3,
   "metadata": {},
   "outputs": [
    {
     "data": {
      "text/html": [
       "<div>\n",
       "<style scoped>\n",
       "    .dataframe tbody tr th:only-of-type {\n",
       "        vertical-align: middle;\n",
       "    }\n",
       "\n",
       "    .dataframe tbody tr th {\n",
       "        vertical-align: top;\n",
       "    }\n",
       "\n",
       "    .dataframe thead th {\n",
       "        text-align: right;\n",
       "    }\n",
       "</style>\n",
       "<table border=\"1\" class=\"dataframe\">\n",
       "  <thead>\n",
       "    <tr style=\"text-align: right;\">\n",
       "      <th></th>\n",
       "      <th>male</th>\n",
       "      <th>age</th>\n",
       "      <th>education</th>\n",
       "      <th>currentSmoker</th>\n",
       "      <th>cigsPerDay</th>\n",
       "      <th>BPMeds</th>\n",
       "      <th>prevalentStroke</th>\n",
       "      <th>prevalentHyp</th>\n",
       "      <th>diabetes</th>\n",
       "      <th>totChol</th>\n",
       "      <th>sysBP</th>\n",
       "      <th>diaBP</th>\n",
       "      <th>BMI</th>\n",
       "      <th>heartRate</th>\n",
       "      <th>glucose</th>\n",
       "      <th>TenYearCHD</th>\n",
       "    </tr>\n",
       "  </thead>\n",
       "  <tbody>\n",
       "    <tr>\n",
       "      <th>0</th>\n",
       "      <td>1</td>\n",
       "      <td>39</td>\n",
       "      <td>4.0</td>\n",
       "      <td>0</td>\n",
       "      <td>0.0</td>\n",
       "      <td>0.0</td>\n",
       "      <td>0</td>\n",
       "      <td>0</td>\n",
       "      <td>0</td>\n",
       "      <td>195.0</td>\n",
       "      <td>106.0</td>\n",
       "      <td>70.0</td>\n",
       "      <td>26.97</td>\n",
       "      <td>80.0</td>\n",
       "      <td>77.0</td>\n",
       "      <td>0</td>\n",
       "    </tr>\n",
       "    <tr>\n",
       "      <th>1</th>\n",
       "      <td>0</td>\n",
       "      <td>46</td>\n",
       "      <td>2.0</td>\n",
       "      <td>0</td>\n",
       "      <td>0.0</td>\n",
       "      <td>0.0</td>\n",
       "      <td>0</td>\n",
       "      <td>0</td>\n",
       "      <td>0</td>\n",
       "      <td>250.0</td>\n",
       "      <td>121.0</td>\n",
       "      <td>81.0</td>\n",
       "      <td>28.73</td>\n",
       "      <td>95.0</td>\n",
       "      <td>76.0</td>\n",
       "      <td>0</td>\n",
       "    </tr>\n",
       "    <tr>\n",
       "      <th>2</th>\n",
       "      <td>1</td>\n",
       "      <td>48</td>\n",
       "      <td>1.0</td>\n",
       "      <td>1</td>\n",
       "      <td>20.0</td>\n",
       "      <td>0.0</td>\n",
       "      <td>0</td>\n",
       "      <td>0</td>\n",
       "      <td>0</td>\n",
       "      <td>245.0</td>\n",
       "      <td>127.5</td>\n",
       "      <td>80.0</td>\n",
       "      <td>25.34</td>\n",
       "      <td>75.0</td>\n",
       "      <td>70.0</td>\n",
       "      <td>0</td>\n",
       "    </tr>\n",
       "    <tr>\n",
       "      <th>3</th>\n",
       "      <td>0</td>\n",
       "      <td>61</td>\n",
       "      <td>3.0</td>\n",
       "      <td>1</td>\n",
       "      <td>30.0</td>\n",
       "      <td>0.0</td>\n",
       "      <td>0</td>\n",
       "      <td>1</td>\n",
       "      <td>0</td>\n",
       "      <td>225.0</td>\n",
       "      <td>150.0</td>\n",
       "      <td>95.0</td>\n",
       "      <td>28.58</td>\n",
       "      <td>65.0</td>\n",
       "      <td>103.0</td>\n",
       "      <td>1</td>\n",
       "    </tr>\n",
       "    <tr>\n",
       "      <th>4</th>\n",
       "      <td>0</td>\n",
       "      <td>46</td>\n",
       "      <td>3.0</td>\n",
       "      <td>1</td>\n",
       "      <td>23.0</td>\n",
       "      <td>0.0</td>\n",
       "      <td>0</td>\n",
       "      <td>0</td>\n",
       "      <td>0</td>\n",
       "      <td>285.0</td>\n",
       "      <td>130.0</td>\n",
       "      <td>84.0</td>\n",
       "      <td>23.10</td>\n",
       "      <td>85.0</td>\n",
       "      <td>85.0</td>\n",
       "      <td>0</td>\n",
       "    </tr>\n",
       "  </tbody>\n",
       "</table>\n",
       "</div>"
      ],
      "text/plain": [
       "   male  age  education  currentSmoker  cigsPerDay  BPMeds  prevalentStroke  \\\n",
       "0     1   39        4.0              0         0.0     0.0                0   \n",
       "1     0   46        2.0              0         0.0     0.0                0   \n",
       "2     1   48        1.0              1        20.0     0.0                0   \n",
       "3     0   61        3.0              1        30.0     0.0                0   \n",
       "4     0   46        3.0              1        23.0     0.0                0   \n",
       "\n",
       "   prevalentHyp  diabetes  totChol  sysBP  diaBP    BMI  heartRate  glucose  \\\n",
       "0             0         0    195.0  106.0   70.0  26.97       80.0     77.0   \n",
       "1             0         0    250.0  121.0   81.0  28.73       95.0     76.0   \n",
       "2             0         0    245.0  127.5   80.0  25.34       75.0     70.0   \n",
       "3             1         0    225.0  150.0   95.0  28.58       65.0    103.0   \n",
       "4             0         0    285.0  130.0   84.0  23.10       85.0     85.0   \n",
       "\n",
       "   TenYearCHD  \n",
       "0           0  \n",
       "1           0  \n",
       "2           0  \n",
       "3           1  \n",
       "4           0  "
      ]
     },
     "execution_count": 3,
     "metadata": {},
     "output_type": "execute_result"
    }
   ],
   "source": [
    "heart_disease_dataset.head()"
   ]
  },
  {
   "cell_type": "markdown",
   "metadata": {},
   "source": [
    "Dataset-a съдържа следните колони:\n",
    "\n",
    "CATEGORICAL DATA:\n",
    "    - male (Пол): Приема стойност 0 за female и 1 за male.\n",
    "    - education (Образование): Приема стойности 1 за Some High School, 2 за High School или GED, 3 за Some College или Vocational School и 4 зая College\n",
    "    - currentSmoker (Пушач): Приема стойности 0 за непушач и 1 за пушач\n",
    "    - BPMeds (Лекарства за кръвно налягане): Приема стойност 0 в случай, че пациентът не приема лекарства за кръвно налягане и 1 - ако приема.\n",
    "    - prevalentStroke (Предишен сърдечен удар): Приема стойност 0, ако пациентът не е получавал сърдечен удар преди и 1 - ако е.\n",
    "    - prevalentHyp (Свръхчувствителност): Приема стойност 0, ако пациентът не е развивал свръхчувствителност преди и 1 - ако е.\n",
    "    - diabetes (Диабет): Приема стойност 0, ако пациентът няма диабет и 1 - ако има.\n",
    "NUMERICAL DATA:\n",
    "    - age (Години): Когато е правено изследването\n",
    "    - cigsPerDay (Брой цигари на ден): Средно\n",
    "    - totChol (Ниво на холестерол): Измерва се в mg/dL\n",
    "    - sysBP (Систолно кръвно налягане): Горна граница на кръвно налягане. Измерва се в mmHg.\n",
    "    - diaBP (Диастолно кръвно налягане): Долна граница на кръвно налягане. Измерва с в mmHg.\n",
    "    - BMI - Body Mass Index (Индекс на телесната маса): Пресмята се по следната формула - Weight (kg) / Height(meter-squared)\n",
    "    - heartRate (Сърдечен ритъм): Измерва се в Beats/Min\n",
    "    - glucose (Глюкоза): Измерва се в mg/dL.\n",
    "VALUE TO PREDICT:\n",
    "    - TenYearCHD () - Стойността, която трябва да се предскаже, приема стойност 0, ако няма шанс пациентът да развие сърдечно заболяване в близките 10 години и 1 - ако има."
   ]
  },
  {
   "cell_type": "markdown",
   "metadata": {},
   "source": [
    "# Data Exploration"
   ]
  },
  {
   "cell_type": "code",
   "execution_count": 4,
   "metadata": {},
   "outputs": [
    {
     "name": "stdout",
     "output_type": "stream",
     "text": [
      "<class 'pandas.core.frame.DataFrame'>\n",
      "RangeIndex: 4240 entries, 0 to 4239\n",
      "Data columns (total 16 columns):\n",
      "male               4240 non-null int64\n",
      "age                4240 non-null int64\n",
      "education          4135 non-null float64\n",
      "currentSmoker      4240 non-null int64\n",
      "cigsPerDay         4211 non-null float64\n",
      "BPMeds             4187 non-null float64\n",
      "prevalentStroke    4240 non-null int64\n",
      "prevalentHyp       4240 non-null int64\n",
      "diabetes           4240 non-null int64\n",
      "totChol            4190 non-null float64\n",
      "sysBP              4240 non-null float64\n",
      "diaBP              4240 non-null float64\n",
      "BMI                4221 non-null float64\n",
      "heartRate          4239 non-null float64\n",
      "glucose            3852 non-null float64\n",
      "TenYearCHD         4240 non-null int64\n",
      "dtypes: float64(9), int64(7)\n",
      "memory usage: 530.1 KB\n"
     ]
    }
   ],
   "source": [
    "heart_disease_dataset.info();"
   ]
  },
  {
   "cell_type": "code",
   "execution_count": 5,
   "metadata": {},
   "outputs": [
    {
     "data": {
      "text/plain": [
       "male                 0\n",
       "age                  0\n",
       "education          105\n",
       "currentSmoker        0\n",
       "cigsPerDay          29\n",
       "BPMeds              53\n",
       "prevalentStroke      0\n",
       "prevalentHyp         0\n",
       "diabetes             0\n",
       "totChol             50\n",
       "sysBP                0\n",
       "diaBP                0\n",
       "BMI                 19\n",
       "heartRate            1\n",
       "glucose            388\n",
       "TenYearCHD           0\n",
       "dtype: int64"
      ]
     },
     "execution_count": 5,
     "metadata": {},
     "output_type": "execute_result"
    }
   ],
   "source": [
    "heart_disease_dataset.isnull().sum()"
   ]
  },
  {
   "cell_type": "markdown",
   "metadata": {},
   "source": [
    "От тук виждаме, че има само една характеристика, която има доста липсващи стойности - glucose. Също така. всички характеристики са сведени до числа - int и float, включително и categorical данните."
   ]
  },
  {
   "cell_type": "code",
   "execution_count": 6,
   "metadata": {},
   "outputs": [
    {
     "data": {
      "image/png": "[encoded data removed]",
      "text/plain": [
       "<Figure size 1152x1440 with 16 Axes>"
      ]
     },
     "metadata": {
      "needs_background": "light"
     },
     "output_type": "display_data"
    }
   ],
   "source": [
    "heart_disease_dataset.hist(figsize=(16, 20), bins=50, xlabelsize=8, ylabelsize=8);"
   ]
  },
  {
   "cell_type": "code",
   "execution_count": 7,
   "metadata": {},
   "outputs": [
    {
     "data": {
      "image/png": "[encoded data removed]",
      "text/plain": [
       "<Figure size 720x576 with 2 Axes>"
      ]
     },
     "metadata": {
      "needs_background": "light"
     },
     "output_type": "display_data"
    }
   ],
   "source": [
    "f, ax = plt.subplots(figsize=(10, 8))\n",
    "corr = heart_disease_dataset.corr()\n",
    "sns.heatmap(corr, mask=np.zeros_like(corr, dtype=np.bool), cmap=sns.diverging_palette(220, 10, as_cmap=True),\n",
    "            square=True, ax=ax);"
   ]
  },
  {
   "cell_type": "code",
   "execution_count": 8,
   "metadata": {},
   "outputs": [
    {
     "name": "stdout",
     "output_type": "stream",
     "text": [
      "There are 0 strongly correlated values with TenYearCHD:\n",
      "Series([], Name: TenYearCHD, dtype: float64)\n"
     ]
    }
   ],
   "source": [
    "features_correlation = heart_disease_dataset.corr()['TenYearCHD'][:-1]\n",
    "golden_features_list = features_correlation[abs(features_correlation) > 0.5].sort_values(ascending=False)\n",
    "print(\"There are {} strongly correlated values with TenYearCHD:\\n{}\".format(len(golden_features_list), golden_features_list))"
   ]
  },
  {
   "cell_type": "code",
   "execution_count": 9,
   "metadata": {
    "scrolled": true
   },
   "outputs": [
    {
     "name": "stdout",
     "output_type": "stream",
     "text": [
      "There are 2 not very strong correlated values with TenYearCHD:\n",
      "age      0.225408\n",
      "sysBP    0.216374\n",
      "Name: TenYearCHD, dtype: float64\n"
     ]
    }
   ],
   "source": [
    "features_correlation = heart_disease_dataset.corr()['TenYearCHD'][:-1]\n",
    "golden_features_list = features_correlation[abs(features_correlation) > 0.2].sort_values(ascending=False)\n",
    "print(\"There are {} not very strong correlated values with TenYearCHD:\\n{}\".format(len(golden_features_list), golden_features_list))"
   ]
  },
  {
   "cell_type": "markdown",
   "metadata": {},
   "source": [
    "Както може да се види, няма линейна зависимост между стойността, която трябва да предвидим и останалите характеристики. Това автоматично означава, че няма нужда да опитваме Линейна регресия. Най-силна корелация имаме между currentSmoker и cigsPerDay. Това, дали пациентът е развивал свръхчувствителност зависи от неговите долна и горна граница на кръвно налягане. Също така, това дали пациентът има диабет, зависи от глюкозата в кръвта му."
   ]
  },
  {
   "cell_type": "markdown",
   "metadata": {},
   "source": [
    "# Data Preparation - functions"
   ]
  },
  {
   "cell_type": "markdown",
   "metadata": {},
   "source": [
    "На пръв поглед виждаме, че колоната Образование няма да допринесе много за обучаване на модела и може да бъде премахната."
   ]
  },
  {
   "cell_type": "code",
   "execution_count": 10,
   "metadata": {},
   "outputs": [],
   "source": [
    "def clean_unnecessary_attributes(heart_disease_dataset):\n",
    "    heart_disease_dataset.drop(['education'],axis=1,inplace=True)"
   ]
  },
  {
   "cell_type": "markdown",
   "metadata": {},
   "source": [
    "Ако пациент е непушач, то той изпушва по 0 цигари на ден средно. За това ще запълним всички празни cigsPerDay за непушачите с 0. За пушачите могат да бъдат запълнени със средния брой изпушени цигари на ден на всички пациенти."
   ]
  },
  {
   "cell_type": "code",
   "execution_count": 11,
   "metadata": {},
   "outputs": [],
   "source": [
    "def fill_empty_smoking_attributes(heart_disease_dataset):\n",
    "    heart_disease_dataset.loc[heart_disease_dataset['currentSmoker'] == 0, 'cigsPerDay'] = heart_disease_dataset.loc[heart_disease_dataset['currentSmoker'] == 0, 'cigsPerDay'].fillna(0)\n",
    "    heart_disease_dataset['cigsPerDay'].fillna(heart_disease_dataset['cigsPerDay'].mean(), inplace=True)"
   ]
  },
  {
   "cell_type": "markdown",
   "metadata": {},
   "source": [
    "Всички останали numerical характеристики с празни стойности също могат да бъдат запълнени със средното аритметично на стойностите в съответната колона."
   ]
  },
  {
   "cell_type": "code",
   "execution_count": 12,
   "metadata": {},
   "outputs": [],
   "source": [
    "def fill_null(heart_disease_dataset):\n",
    "    heart_disease_dataset['sysBP'].fillna(heart_disease_dataset['totChol'].mean(), inplace=True);\n",
    "    heart_disease_dataset['diaBP'].fillna(heart_disease_dataset['totChol'].mean(), inplace=True);\n",
    "    heart_disease_dataset['totChol'].fillna(heart_disease_dataset['totChol'].mean(), inplace=True);\n",
    "    heart_disease_dataset['BMI'].fillna(heart_disease_dataset['BMI'].mean(), inplace=True);\n",
    "    heart_disease_dataset['heartRate'].fillna(heart_disease_dataset['heartRate'].mean(), inplace=True);\n",
    "    heart_disease_dataset['glucose'].fillna(heart_disease_dataset['glucose'].mean(), inplace=True);\n",
    "    heart_disease_dataset.fillna(0, inplace=True);"
   ]
  },
  {
   "cell_type": "markdown",
   "metadata": {},
   "source": [
    "За да разберем дали това е правилно решение, ще опитаме и с премахване на всички features, които имат празни стойности. "
   ]
  },
  {
   "cell_type": "code",
   "execution_count": 13,
   "metadata": {},
   "outputs": [],
   "source": [
    "def clear_empty_data(heart_disease_dataset):\n",
    "    heart_disease_dataset.dropna(axis=0,inplace=True)"
   ]
  },
  {
   "cell_type": "code",
   "execution_count": 14,
   "metadata": {},
   "outputs": [],
   "source": [
    "clean_unnecessary_attributes(heart_disease_dataset)\n",
    "fill_empty_smoking_attributes(heart_disease_dataset)\n",
    "fill_null(heart_disease_dataset)"
   ]
  },
  {
   "cell_type": "markdown",
   "metadata": {},
   "source": [
    "Нека заредим още веднъж dataset-a и да премахнем редовете, които съдържат празни стойности, за да сравним с кой dataset моделите ще се държат по-добре."
   ]
  },
  {
   "cell_type": "code",
   "execution_count": 15,
   "metadata": {},
   "outputs": [],
   "source": [
    "hdd_no_empty=pd.read_csv(\"framingham.csv\")\n",
    "clear_empty_data(hdd_no_empty)"
   ]
  },
  {
   "cell_type": "code",
   "execution_count": 16,
   "metadata": {},
   "outputs": [],
   "source": [
    "X_train, X_test, y_train, y_test = train_test_split(heart_disease_dataset.iloc[:, :-1], heart_disease_dataset.iloc[:,-1], test_size=0.4, random_state=0)\n",
    "X_train_e, X_test_e, y_train_e, y_test_e = train_test_split(hdd_no_empty.iloc[:, :-1], hdd_no_empty.iloc[:,-1], test_size=0.4, random_state=0)"
   ]
  },
  {
   "cell_type": "markdown",
   "metadata": {},
   "source": [
    "# Model building"
   ]
  },
  {
   "cell_type": "markdown",
   "metadata": {},
   "source": [
    "Ще обучим няколко модела, като използваме Логистична регресия, DecisionTree класификатор, RandomForest класификатор, KNN. Както споменах по-горе, няма да изпробваме Линейна регресия заради липсата на линейна зависимост между данните. За да се извлече максималното от използваните алгоритми използваме hyperparameter optimization/tuning, като за целта използвам GridSearch - изпробват се всички комбинации с посочените параметри (време за кафе), както и RandomizedSearch - избират се произволни комбинации от параметри (ще я използвам за RandomForestClassifier); и се избира най-добрата на база оценка на модела."
   ]
  },
  {
   "cell_type": "markdown",
   "metadata": {},
   "source": [
    "## Logistic Regression"
   ]
  },
  {
   "cell_type": "markdown",
   "metadata": {},
   "source": [
    "Като за начало ще намерим параметрите, с които ще можем да изсмучем максималното от модела ни - hyperparameter optimization. Ще използваме GridSearchCV, за да тестваме различни комбинации със следните параметри: C, penalty, tol."
   ]
  },
  {
   "cell_type": "code",
   "execution_count": 17,
   "metadata": {},
   "outputs": [
    {
     "name": "stdout",
     "output_type": "stream",
     "text": [
      "Optimized hpyerparameters: {'penalty': 'l1', 'tol': 0.001, 'C': 10.0}\n",
      "Score with optimized parameters: 0.85062893081761\n"
     ]
    }
   ],
   "source": [
    "parameters={\"C\":np.logspace(-3,3,10), \"penalty\":[\"l1\",\"l2\"], \"tol\":np.logspace(-3,3,10)}\n",
    "logreg=LogisticRegression()\n",
    "logreg_cv=GridSearchCV(logreg,parameters,cv=10);\n",
    "logreg_cv.fit(X_train,y_train);\n",
    "\n",
    "print(\"Optimized hpyerparameters:\",logreg_cv.best_params_)\n",
    "print(\"Score with optimized parameters:\",logreg_cv.best_score_)"
   ]
  },
  {
   "cell_type": "code",
   "execution_count": 18,
   "metadata": {},
   "outputs": [],
   "source": [
    "def train_model_with_logistic_regression(X_train, y_train, X_test, y_test, params={}):\n",
    "    model = LogisticRegression(**params);\n",
    "    model.fit(X_train, y_train)\n",
    "    print(\"Train score: \" + str(model.score(X_train, y_train)))\n",
    "    print(\"Test score: \" + str(model.score(X_test, y_test)))\n",
    "    return model.predict(X_test)"
   ]
  },
  {
   "cell_type": "markdown",
   "metadata": {},
   "source": [
    "Да проверим какъв score ще получим върху двата dataset-a - единия със запълнените празни стойности и другия с премахнатите редове с празни стойности. Ще тестваме какъв score ще получим и с оптимизираните хиперпараметри, които получихме."
   ]
  },
  {
   "cell_type": "code",
   "execution_count": 19,
   "metadata": {},
   "outputs": [
    {
     "name": "stdout",
     "output_type": "stream",
     "text": [
      "Train score: 0.8502358490566038\n",
      "Test score: 0.8602594339622641\n"
     ]
    }
   ],
   "source": [
    "y_predicted = train_model_with_logistic_regression(X_train, y_train, X_test, y_test)"
   ]
  },
  {
   "cell_type": "code",
   "execution_count": 20,
   "metadata": {},
   "outputs": [
    {
     "name": "stdout",
     "output_type": "stream",
     "text": [
      "Train score: 0.8600729261622607\n",
      "Test score: 0.8394808743169399\n"
     ]
    },
    {
     "data": {
      "text/plain": [
       "array([0, 0, 0, ..., 0, 0, 0])"
      ]
     },
     "execution_count": 20,
     "metadata": {},
     "output_type": "execute_result"
    }
   ],
   "source": [
    "train_model_with_logistic_regression(X_train_e, y_train_e, X_test_e, y_test_e)"
   ]
  },
  {
   "cell_type": "markdown",
   "metadata": {},
   "source": [
    "Очевидно модела ни се справя по-добре с тестовите данни от първия dataset - този със запълнените празни стойности. При използването на dataset-a с премахнатите стойности виждаме и overfitting."
   ]
  },
  {
   "cell_type": "code",
   "execution_count": 21,
   "metadata": {},
   "outputs": [
    {
     "name": "stdout",
     "output_type": "stream",
     "text": [
      "Train score: 0.8525943396226415\n",
      "Test score: 0.8579009433962265\n"
     ]
    },
    {
     "data": {
      "text/plain": [
       "array([0, 0, 0, ..., 0, 0, 0])"
      ]
     },
     "execution_count": 21,
     "metadata": {},
     "output_type": "execute_result"
    }
   ],
   "source": [
    "train_model_with_logistic_regression(X_train, y_train, X_test, y_test, logreg_cv.best_params_)"
   ]
  },
  {
   "cell_type": "markdown",
   "metadata": {},
   "source": [
    "### Confusion Matrix при Logistic regression"
   ]
  },
  {
   "cell_type": "code",
   "execution_count": 22,
   "metadata": {},
   "outputs": [
    {
     "data": {
      "text/plain": [
       "<matplotlib.axes._subplots.AxesSubplot at 0x7faddb1a5780>"
      ]
     },
     "execution_count": 22,
     "metadata": {},
     "output_type": "execute_result"
    },
    {
     "data": {
      "image/png": "[encoded data removed]",
      "text/plain": [
       "<Figure size 576x360 with 2 Axes>"
      ]
     },
     "metadata": {
      "needs_background": "light"
     },
     "output_type": "display_data"
    }
   ],
   "source": [
    "cm=confusion_matrix(y_test,y_predicted)\n",
    "conf_matrix=pd.DataFrame(data=cm,columns=['Predicted:0','Predicted:1'],index=['Actual:0','Actual:1'])\n",
    "plt.figure(figsize = (8,5))\n",
    "sns.heatmap(conf_matrix, annot=True,fmt='d',cmap=\"YlGnBu\")"
   ]
  },
  {
   "cell_type": "code",
   "execution_count": 23,
   "metadata": {},
   "outputs": [
    {
     "name": "stdout",
     "output_type": "stream",
     "text": [
      "Recall0.8596073765615705\n"
     ]
    }
   ],
   "source": [
    "recall = cm[0, 0] / (cm[0, 0]+cm[1, 0])\n",
    "print(\"Recall\" + str(recall))"
   ]
  },
  {
   "cell_type": "markdown",
   "metadata": {},
   "source": [
    "Както се вижда от матрицата, моделът ни се справя добре при предсказване, че пациента няма шанс от сърдечно заболяване в близките 10 години, когато наистина е така. Проблемът е при предсказване, че пациентът има шанс за сърдечно заболяване. Само в 14 от случаите, моделът е познал, че пациентът има шанс за сърдечно заболяване в близките 10 години. В останалите 236 случаи е объркал, което е фатално в този случай (по-добре да предскажем на здрав човек, че е болен, отколкото обратното). Това се дължи на използването на логистична регресия. Както видяхме в heatmap-a, стойността, която предсказваме не е много зависима от останалите характеристики и за това в случая логистичната регресия не ни върши много добра работа. Приличният score се дължи на това, че доста голяма част от данните в dataset-a показват, че пациент няма шанс за сърдечни заболявания в близките 10 години."
   ]
  },
  {
   "cell_type": "markdown",
   "metadata": {},
   "source": [
    "## Decision Tree Classification"
   ]
  },
  {
   "cell_type": "markdown",
   "metadata": {},
   "source": [
    "При Decision Tree Classification отново ще направим hyperparameter optimization и ще обучим и тестваме модела."
   ]
  },
  {
   "cell_type": "code",
   "execution_count": 24,
   "metadata": {},
   "outputs": [
    {
     "name": "stdout",
     "output_type": "stream",
     "text": [
      "Optimized hpyerparameters: {'max_depth': 1, 'criterion': 'gini', 'splitter': 'best'}\n",
      "Score with optimized parameters: 0.845125786163522\n"
     ]
    }
   ],
   "source": [
    "parameters={\"criterion\":[\"gini\", \"entropy\"], \"splitter\":[\"best\",\"random\"], \"max_depth\": range(1, 110, 10)}\n",
    "dtree=DecisionTreeClassifier()\n",
    "dtree_cv=GridSearchCV(dtree,parameters,cv=10);\n",
    "dtree_cv.fit(X_train,y_train);\n",
    "\n",
    "print(\"Optimized hpyerparameters:\",dtree_cv.best_params_)\n",
    "print(\"Score with optimized parameters:\",dtree_cv.best_score_)"
   ]
  },
  {
   "cell_type": "code",
   "execution_count": 25,
   "metadata": {},
   "outputs": [],
   "source": [
    "def train_model_with_decision_tree(X_train, y_train, X_test, y_test, params={}):\n",
    "    model = DecisionTreeClassifier(**params).fit(X_train,y_train)\n",
    "    scores = cross_val_score(model, X_train, y_train, cv=5)\n",
    "    print(\"Train score: \" + str(scores.mean()))\n",
    "    scores = cross_val_score(model, X_test, y_test, cv=5)\n",
    "    print(\"Test score: \" + str(scores.mean()))\n",
    "    return model.predict(X_test)"
   ]
  },
  {
   "cell_type": "code",
   "execution_count": 26,
   "metadata": {},
   "outputs": [
    {
     "name": "stdout",
     "output_type": "stream",
     "text": [
      "Train score: 0.7405612363287595\n",
      "Test score: 0.7570761756029845\n"
     ]
    }
   ],
   "source": [
    "y_predicted = train_model_with_decision_tree(X_train, y_train, X_test, y_test)"
   ]
  },
  {
   "cell_type": "code",
   "execution_count": 27,
   "metadata": {},
   "outputs": [
    {
     "name": "stdout",
     "output_type": "stream",
     "text": [
      "Train score: 0.7593404526117418\n",
      "Test score: 0.7705035298517929\n"
     ]
    },
    {
     "data": {
      "text/plain": [
       "array([0, 1, 0, ..., 0, 1, 0])"
      ]
     },
     "execution_count": 27,
     "metadata": {},
     "output_type": "execute_result"
    }
   ],
   "source": [
    "train_model_with_decision_tree(X_train_e, y_train_e, X_test_e, y_test_e)"
   ]
  },
  {
   "cell_type": "code",
   "execution_count": 28,
   "metadata": {},
   "outputs": [
    {
     "name": "stdout",
     "output_type": "stream",
     "text": [
      "Train score: 0.845126309113129\n",
      "Test score: 0.8525941349991324\n"
     ]
    }
   ],
   "source": [
    "y_predicted_opt = train_model_with_decision_tree(X_train, y_train, X_test, y_test, dtree_cv.best_params_)"
   ]
  },
  {
   "cell_type": "markdown",
   "metadata": {},
   "source": [
    "## Confusion matrix при Decision Tree Classification"
   ]
  },
  {
   "cell_type": "markdown",
   "metadata": {},
   "source": [
    "Нека погледнем confusion матриците, когато не използваме hyperparameter optimization и когато - да. "
   ]
  },
  {
   "cell_type": "code",
   "execution_count": 29,
   "metadata": {},
   "outputs": [
    {
     "data": {
      "text/plain": [
       "<matplotlib.axes._subplots.AxesSubplot at 0x7faddb0cb320>"
      ]
     },
     "execution_count": 29,
     "metadata": {},
     "output_type": "execute_result"
    },
    {
     "data": {
      "image/png": "[encoded data removed]",
      "text/plain": [
       "<Figure size 576x360 with 2 Axes>"
      ]
     },
     "metadata": {
      "needs_background": "light"
     },
     "output_type": "display_data"
    }
   ],
   "source": [
    "cm=confusion_matrix(y_test, y_predicted)\n",
    "conf_matrix=pd.DataFrame(data=cm,columns=['Predicted:0','Predicted:1'],index=['Actual:0','Actual:1'])\n",
    "plt.figure(figsize = (8,5))\n",
    "sns.heatmap(conf_matrix, annot=True,fmt='d',cmap=\"YlGnBu\")"
   ]
  },
  {
   "cell_type": "code",
   "execution_count": 30,
   "metadata": {},
   "outputs": [
    {
     "data": {
      "text/plain": [
       "<matplotlib.axes._subplots.AxesSubplot at 0x7faddb117a90>"
      ]
     },
     "execution_count": 30,
     "metadata": {},
     "output_type": "execute_result"
    },
    {
     "data": {
      "image/png": "[encoded data removed]",
      "text/plain": [
       "<Figure size 576x360 with 2 Axes>"
      ]
     },
     "metadata": {
      "needs_background": "light"
     },
     "output_type": "display_data"
    }
   ],
   "source": [
    "cm=confusion_matrix(y_test, y_predicted_opt)\n",
    "conf_matrix=pd.DataFrame(data=cm,columns=['Predicted:0','Predicted:1'],index=['Actual:0','Actual:1'])\n",
    "plt.figure(figsize = (8,5))\n",
    "sns.heatmap(conf_matrix, annot=True,fmt='d',cmap=\"YlGnBu\")"
   ]
  },
  {
   "cell_type": "markdown",
   "metadata": {},
   "source": [
    "В първия случай имаме подобрение в сравнение с използването на логистична регресия. Въпреки че моделът ни е определил за малко повече хора, че потенциално са застрашени от сърдечни заболявания, а това не е така, той е успял да предскаже за 70 човека, че имат шанс за сърдечно заболяване и е познал. Вече споменахме, че предпочитаме моделът ни да каже на здравия болен, отколкото на болния - здрав. За това, въпреки ниският score, имаме напредък. \n",
    "Странното тук е confusion матрицата при използване на hyperparameter optimization. С цел постигане на по-висок score, параметрите са така избрани, че моделът ни вече предсказва за всички, че нямат шанс от сърдечно заболяване."
   ]
  },
  {
   "cell_type": "markdown",
   "metadata": {},
   "source": [
    "## Random Forest Classification"
   ]
  },
  {
   "cell_type": "markdown",
   "metadata": {},
   "source": [
    "При Random Forest Classification, за оптимизиране на хиперпараметрите, ще използваме методът RandomizedSearch, тъй като всевъзможните комбинации на избраните параметри са много и времето за изпробване и сравняване на всички е доста. Този метод не дава гаранция, че ще намери най-добрите параметри."
   ]
  },
  {
   "cell_type": "code",
   "execution_count": 31,
   "metadata": {},
   "outputs": [
    {
     "name": "stdout",
     "output_type": "stream",
     "text": [
      "Optimized hpyerparameters: {'max_features': 'sqrt', 'max_depth': 71, 'min_samples_split': 6, 'min_samples_leaf': 4, 'n_estimators': 121, 'bootstrap': True}\n",
      "Score with optimized parameters: 0.8470911949685535\n"
     ]
    }
   ],
   "source": [
    "parameters={\"n_estimators\": range(1, 201, 10), \"max_features\":[\"auto\",\"sqrt\"], \"max_depth\":range(1, 101, 10), \"min_samples_split\":range(2,10,1), \"min_samples_leaf\":[1, 2, 4], \"bootstrap\":[True, False]}\n",
    "rforest=RandomForestClassifier()\n",
    "rforest_cv=RandomizedSearchCV(rforest,parameters,cv=10);\n",
    "rforest_cv.fit(X_train,y_train);\n",
    "\n",
    "print(\"Optimized hpyerparameters:\",rforest_cv.best_params_)\n",
    "print(\"Score with optimized parameters:\",rforest_cv.best_score_)"
   ]
  },
  {
   "cell_type": "code",
   "execution_count": 32,
   "metadata": {},
   "outputs": [],
   "source": [
    "def train_model_with_random_forest(X_train, y_train, X_test, y_test):\n",
    "    model = RandomForestClassifier().fit(X_train,y_train);\n",
    "    scores = cross_val_score(model, X_train, y_train, cv=5)\n",
    "    print(\"Train score: \" + str(scores.mean()))\n",
    "    scores = cross_val_score(model, X_test, y_test, cv=5)\n",
    "    print(\"Test score: \" + str(scores.mean()))"
   ]
  },
  {
   "cell_type": "code",
   "execution_count": 33,
   "metadata": {},
   "outputs": [
    {
     "name": "stdout",
     "output_type": "stream",
     "text": [
      "Train score: 0.8388410191358695\n",
      "Test score: 0.834325871941697\n"
     ]
    }
   ],
   "source": [
    "train_model_with_random_forest(X_train, y_train, X_test, y_test)"
   ]
  },
  {
   "cell_type": "markdown",
   "metadata": {},
   "source": [
    "## Extra Trees Classification"
   ]
  },
  {
   "cell_type": "code",
   "execution_count": 34,
   "metadata": {},
   "outputs": [],
   "source": [
    "def train_model_with_extra_trees(X_train, y_train, X_test, y_test):\n",
    "    model = ExtraTreesClassifier(n_estimators=10, max_depth=None, min_samples_split=2, random_state=0)\n",
    "    model.fit(X_train, y_train)\n",
    "    scores = cross_val_score(model, X_train, y_train, cv=5)\n",
    "    print(\"Train score: \" + str(scores.mean()))\n",
    "    scores = cross_val_score(model, X_test, y_test, cv=5)\n",
    "    print(\"Test score: \" + str(scores.mean()))"
   ]
  },
  {
   "cell_type": "code",
   "execution_count": 35,
   "metadata": {},
   "outputs": [
    {
     "name": "stdout",
     "output_type": "stream",
     "text": [
      "Train score: 0.8360866605819656\n",
      "Test score: 0.8390352247093528\n"
     ]
    }
   ],
   "source": [
    "train_model_with_extra_trees(X_train, y_train, X_test, y_test)"
   ]
  },
  {
   "cell_type": "markdown",
   "metadata": {},
   "source": [
    "## KNeighbors Classification"
   ]
  },
  {
   "cell_type": "code",
   "execution_count": 36,
   "metadata": {},
   "outputs": [],
   "source": [
    "def train_model_with_knn(X_train, y_train, X_test, y_test):\n",
    "    model = KNeighborsClassifier(n_neighbors=20)\n",
    "    model.fit(X_train, y_train)\n",
    "    scores = cross_val_score(model, X_train, y_train, cv=5)\n",
    "    print(\"Train score: \" + str(scores.mean()))\n",
    "    scores = cross_val_score(model, X_test, y_test, cv=5)\n",
    "    print(\"Test score: \" + str(scores.mean()))"
   ]
  },
  {
   "cell_type": "code",
   "execution_count": 37,
   "metadata": {},
   "outputs": [
    {
     "name": "stdout",
     "output_type": "stream",
     "text": [
      "Train score: 0.845126309113129\n",
      "Test score: 0.8514176644108972\n"
     ]
    }
   ],
   "source": [
    "train_model_with_knn(X_train, y_train, X_test, y_test)"
   ]
  },
  {
   "cell_type": "code",
   "execution_count": 38,
   "metadata": {},
   "outputs": [
    {
     "name": "stdout",
     "output_type": "stream",
     "text": [
      "Accuracy: 0.837 (+/- 0.01) [Random Forest]\n",
      "Accuracy: 0.845 (+/- 0.00) [Decision Tree]\n",
      "Accuracy: 0.848 (+/- 0.01) [Logistic Regression]\n",
      "Accuracy: 0.846 (+/- 0.00) [Ensemble]\n"
     ]
    }
   ],
   "source": [
    "clf1 = LogisticRegression()\n",
    "clf2 = RandomForestClassifier()\n",
    "clf3 = DecisionTreeClassifier(max_depth=1, splitter='best', criterion='gini')\n",
    "eclf1 = VotingClassifier(estimators=[('lr', clf1), ('rf', clf2), ('dt', clf3)], voting='hard')\n",
    "eclf1 = eclf1.fit(X_train, y_train)\n",
    "for clf, label in zip([clf2, clf3, clf1, eclf1], ['Random Forest', 'Decision Tree', 'Logistic Regression', 'Ensemble']):\n",
    "    scores = cross_val_score(clf, X_train, y_train, cv=10, scoring='accuracy')\n",
    "    print(\"Accuracy: %0.3f (+/- %0.2f) [%s]\" % (scores.mean(), scores.std(), label))"
   ]
  },
  {
   "cell_type": "code",
   "execution_count": 39,
   "metadata": {},
   "outputs": [
    {
     "name": "stdout",
     "output_type": "stream",
     "text": [
      "Mean of: 0.848, std: (+/-) 0.008 [LogisticRegression]\n",
      "Mean of: 0.846, std: (+/-) 0.004 [Bagging LogisticRegression]\n",
      "\n",
      "Mean of: 0.838, std: (+/-) 0.009 [RandomForestClassifier]\n",
      "Mean of: 0.843, std: (+/-) 0.006 [Bagging RandomForestClassifier]\n",
      "\n",
      "Mean of: 0.845, std: (+/-) 0.002 [DecisionTreeClassifier]\n",
      "Mean of: 0.845, std: (+/-) 0.002 [Bagging DecisionTreeClassifier]\n",
      "\n"
     ]
    }
   ],
   "source": [
    "for clf in [clf1, clf2, clf3]:\n",
    "    vanilla_scores = cross_val_score(clf, X_train, y_train, cv=10, n_jobs=-1)\n",
    "    bagging_clf = BaggingClassifier(clf, \n",
    "       max_samples=0.4, max_features=10, random_state=42)\n",
    "    bagging_scores = cross_val_score(bagging_clf, X_train, y_train, cv=10, \n",
    "       n_jobs=-1)\n",
    "    \n",
    "    print(\"Mean of: {1:.3f}, std: (+/-) {2:.3f} [{0}]\".format(clf.__class__.__name__, vanilla_scores.mean(), vanilla_scores.std()))\n",
    "    print(\"Mean of: {1:.3f}, std: (+/-) {2:.3f} [Bagging {0}]\\n\".format(clf.__class__.__name__, bagging_scores.mean(), bagging_scores.std()))"
   ]
  },
  {
   "cell_type": "code",
   "execution_count": null,
   "metadata": {},
   "outputs": [],
   "source": []
  }
 ],
 "metadata": {
  "kernelspec": {
   "display_name": "Python 3",
   "language": "python",
   "name": "python3"
  },
  "language_info": {
   "codemirror_mode": {
    "name": "ipython",
    "version": 3
   },
   "file_extension": ".py",
   "mimetype": "text/x-python",
   "name": "python",
   "nbconvert_exporter": "python",
   "pygments_lexer": "ipython3",
   "version": "3.5.2"
  },
  "widgets": {
   "application/vnd.jupyter.widget-state+json": {
    "state": {},
    "version_major": 2,
    "version_minor": 0
   }
  }
 },
 "nbformat": 4,
 "nbformat_minor": 2
}

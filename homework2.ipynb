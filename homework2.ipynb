{
 "cells": [
  {
   "cell_type": "markdown",
   "metadata": {},
   "source": [
    "# Machine learning with Python - Homework 2"
   ]
  },
  {
   "cell_type": "markdown",
   "metadata": {},
   "source": [
    "Росица Тодинова, ф.н. 71624, спец. ИС, 4 курс"
   ]
  },
  {
   "cell_type": "markdown",
   "metadata": {},
   "source": [
    "1. Генериране на dataset с make_moons.\n",
    "2. Трениране на RandomForest класификатор.\n",
    "3. Predict на dataset.\n",
    "4. Визуализиране на decision boundary на класификатора с Interactive slide bar-ове за контролиране на следните 3 параметъра:\n",
    " - шум в dataset\n",
    " - брой дървета в RandomForest\n",
    " - Дълбочина на дърветата в RandomForest"
   ]
  },
  {
   "cell_type": "code",
   "execution_count": 1,
   "metadata": {},
   "outputs": [],
   "source": [
    "from sklearn.datasets import make_moons\n",
    "from sklearn.ensemble import RandomForestClassifier\n",
    "import matplotlib.pyplot as plt\n",
    "import numpy as np\n",
    "import ipywidgets as widgets"
   ]
  },
  {
   "cell_type": "markdown",
   "metadata": {},
   "source": [
    "Функция за визуализиране на decision boundary: http://scikit-learn.org/stable/auto_examples/ensemble/plot_voting_decision_regions.html"
   ]
  },
  {
   "cell_type": "code",
   "execution_count": 2,
   "metadata": {},
   "outputs": [],
   "source": [
    "def plot_boundary(clf, X, y):\n",
    "    x_min, x_max = X[:, 0].min() - 1, X[:, 0].max() + 1\n",
    "    y_min, y_max = X[:, 1].min() - 1, X[:, 1].max() + 1\n",
    "    xx, yy = np.meshgrid(np.arange(x_min, x_max, 0.1),\n",
    "                         np.arange(y_min, y_max, 0.1))\n",
    "\n",
    "    f, ax = plt.subplots(figsize=(10, 8))\n",
    "\n",
    "    Z = clf.predict(np.c_[xx.ravel(), yy.ravel()])\n",
    "    Z = Z.reshape(xx.shape)\n",
    "\n",
    "    ax.contourf(xx, yy, Z, alpha=0.4)\n",
    "    ax.scatter(X[:, 0], X[:, 1], c=y, s=20, edgecolor='k')"
   ]
  },
  {
   "cell_type": "markdown",
   "metadata": {},
   "source": [
    "Дефиниране на функцията plot, която ще използваме за интерактивно променяне на следните параметри: шум, брой дървета и дълбочина. За генериране на dataset ще използваме make_moons от sklearn със 100 на брой sample-a."
   ]
  },
  {
   "cell_type": "code",
   "execution_count": 3,
   "metadata": {},
   "outputs": [],
   "source": [
    "def plot(noise, depth, tree):\n",
    "    X, y = make_moons(n_samples=100, noise=noise, random_state=23)\n",
    "    classifier = RandomForestClassifier(n_estimators=tree, max_depth=depth, random_state=23).fit(X, y)\n",
    "    plot_boundary(classifier, X, y)"
   ]
  },
  {
   "cell_type": "markdown",
   "metadata": {},
   "source": [
    "Във функцията display_plot дефинираме трите slider-а, с които интерактивно ще променяме шумът в dataset-a, броя на дъветата и дълбочината. Тъй като броят на дърветата и дълбочината не могат да бъдат 0, минималната стойност на тези два параметъра е 1."
   ]
  },
  {
   "cell_type": "code",
   "execution_count": 4,
   "metadata": {},
   "outputs": [],
   "source": [
    "def display_plot():\n",
    "    noise_slider = widgets.IntSlider()\n",
    "    depth_slider = widgets.IntSlider(min=1)\n",
    "    tree_slider = widgets.IntSlider(min=1)\n",
    "    interactive_plot = widgets.HBox([noise_slider, depth_slider, tree_slider])\n",
    "    output = widgets.interactive_output(plot, {'noise' : noise_slider, 'depth' : depth_slider, 'tree' : tree_slider})\n",
    "    display(interactive_plot, output)"
   ]
  },
  {
   "cell_type": "code",
   "execution_count": 5,
   "metadata": {},
   "outputs": [
    {
     "data": {
      "application/vnd.jupyter.widget-view+json": {
       "model_id": "252faae574544f16887ccc62bd9170d4",
       "version_major": 2,
       "version_minor": 0
      },
      "text/plain": [
       "HBox(children=(IntSlider(value=0), IntSlider(value=1, min=1), IntSlider(value=1, min=1)))"
      ]
     },
     "metadata": {},
     "output_type": "display_data"
    },
    {
     "data": {
      "application/vnd.jupyter.widget-view+json": {
       "model_id": "6e71c00926cc4bca823597b474dbe876",
       "version_major": 2,
       "version_minor": 0
      },
      "text/plain": [
       "Output()"
      ]
     },
     "metadata": {},
     "output_type": "display_data"
    }
   ],
   "source": [
    "display_plot()"
   ]
  }
 ],
 "metadata": {
  "kernelspec": {
   "display_name": "Python 3",
   "language": "python",
   "name": "python3"
  },
  "language_info": {
   "codemirror_mode": {
    "name": "ipython",
    "version": 3
   },
   "file_extension": ".py",
   "mimetype": "text/x-python",
   "name": "python",
   "nbconvert_exporter": "python",
   "pygments_lexer": "ipython3",
   "version": "3.5.2"
  },
  "widgets": {
   "application/vnd.jupyter.widget-state+json": {
    "state": {
     "081f6b4adab04475adc80ba4f6a1d354": {
      "model_module": "@jupyter-widgets/base",
      "model_module_version": "1.1.0",
      "model_name": "LayoutModel",
      "state": {}
     },
     "08a97244cb7e4d2c90a4de4e053287c0": {
      "model_module": "@jupyter-widgets/controls",
      "model_module_version": "1.4.0",
      "model_name": "SliderStyleModel",
      "state": {
       "description_width": ""
      }
     },
     "0ee02450a51a4d29ad5c97b4ccfb435e": {
      "model_module": "@jupyter-widgets/base",
      "model_module_version": "1.1.0",
      "model_name": "LayoutModel",
      "state": {}
     },
     "0f149ea0f35b4c108ba947c6f699025b": {
      "model_module": "@jupyter-widgets/base",
      "model_module_version": "1.1.0",
      "model_name": "LayoutModel",
      "state": {}
     },
     "14d7c55448924bad9691870b6ffe4287": {
      "model_module": "@jupyter-widgets/controls",
      "model_module_version": "1.4.0",
      "model_name": "SliderStyleModel",
      "state": {
       "description_width": ""
      }
     },
     "152e09f385bc4ab9a4220ec7a81671d9": {
      "model_module": "@jupyter-widgets/controls",
      "model_module_version": "1.4.0",
      "model_name": "IntSliderModel",
      "state": {
       "layout": "IPY_MODEL_224a7c863bcd4e7c857350294acf4699",
       "style": "IPY_MODEL_a2cf17c969db468eac3de26a68df59b6",
       "value": 22
      }
     },
     "19edf295172a473eb83039ac04e0b6cd": {
      "model_module": "@jupyter-widgets/base",
      "model_module_version": "1.1.0",
      "model_name": "LayoutModel",
      "state": {}
     },
     "1c67b4870e6546dc9180837327a35fdf": {
      "model_module": "@jupyter-widgets/base",
      "model_module_version": "1.1.0",
      "model_name": "LayoutModel",
      "state": {}
     },
     "1ed84765f38f442f9f1fa4a2d7d0fca1": {
      "model_module": "@jupyter-widgets/controls",
      "model_module_version": "1.4.0",
      "model_name": "IntSliderModel",
      "state": {
       "layout": "IPY_MODEL_aec16ab0e14641c08feecdab364fae8a",
       "style": "IPY_MODEL_08a97244cb7e4d2c90a4de4e053287c0",
       "value": 1
      }
     },
     "2091e4e41ed24d58ae69cb938a4f702d": {
      "model_module": "@jupyter-widgets/controls",
      "model_module_version": "1.4.0",
      "model_name": "SliderStyleModel",
      "state": {
       "description_width": ""
      }
     },
     "21d1c0362247476eb19c01ec5f2a21df": {
      "model_module": "@jupyter-widgets/output",
      "model_module_version": "1.0.0",
      "model_name": "OutputModel",
      "state": {
       "layout": "IPY_MODEL_b3463096123a45f99d79e2348d1f66e0",
       "msg_id": "6eb08b929ed946c98dea0908d3dbefcd"
      }
     },
     "224a7c863bcd4e7c857350294acf4699": {
      "model_module": "@jupyter-widgets/base",
      "model_module_version": "1.1.0",
      "model_name": "LayoutModel",
      "state": {}
     },
     "2272531cc7b64af9a71f845865dbf49e": {
      "model_module": "@jupyter-widgets/base",
      "model_module_version": "1.1.0",
      "model_name": "LayoutModel",
      "state": {}
     },
     "227746f0dfef4156bbbe3de042051f2f": {
      "model_module": "@jupyter-widgets/controls",
      "model_module_version": "1.4.0",
      "model_name": "IntSliderModel",
      "state": {
       "layout": "IPY_MODEL_e6e91ac733bc4273a83c274e403e0b2d",
       "style": "IPY_MODEL_cbbd2c7e1c9b4536a70b8a13c8a32ab0"
      }
     },
     "24c456d02cee45ec81fd7ec55df3d56f": {
      "model_module": "@jupyter-widgets/controls",
      "model_module_version": "1.4.0",
      "model_name": "IntSliderModel",
      "state": {
       "layout": "IPY_MODEL_fa9365b4a2524e9c8bfe971acacc62da",
       "style": "IPY_MODEL_921592c9cceb4402bd4d8553bf68e62e",
       "value": 1
      }
     },
     "252faae574544f16887ccc62bd9170d4": {
      "model_module": "@jupyter-widgets/controls",
      "model_module_version": "1.4.0",
      "model_name": "HBoxModel",
      "state": {
       "children": [
        "IPY_MODEL_9f74ff5750bf400ab9a9c4876faf5721",
        "IPY_MODEL_90caf5d0cf3e4208a6ebaae36639ca92",
        "IPY_MODEL_d9fb744c3f1347efac36b6ba38e6c088"
       ],
       "layout": "IPY_MODEL_2272531cc7b64af9a71f845865dbf49e"
      }
     },
     "26cd0224abeb42c0b58f9dc50d4fe2a4": {
      "model_module": "@jupyter-widgets/base",
      "model_module_version": "1.1.0",
      "model_name": "LayoutModel",
      "state": {}
     },
     "2b9f5daf01af4a5ba7073c17f0c6688a": {
      "model_module": "@jupyter-widgets/base",
      "model_module_version": "1.1.0",
      "model_name": "LayoutModel",
      "state": {}
     },
     "2d58c0eb6363420ea3805d2414e0aef3": {
      "model_module": "@jupyter-widgets/controls",
      "model_module_version": "1.4.0",
      "model_name": "SliderStyleModel",
      "state": {
       "description_width": ""
      }
     },
     "2d82f370a6d24ecb85a006eb3a905d96": {
      "model_module": "@jupyter-widgets/controls",
      "model_module_version": "1.4.0",
      "model_name": "SliderStyleModel",
      "state": {
       "description_width": ""
      }
     },
     "2db38e3da89642b184c1868f564615ff": {
      "model_module": "@jupyter-widgets/controls",
      "model_module_version": "1.4.0",
      "model_name": "HBoxModel",
      "state": {
       "children": [
        "IPY_MODEL_5cf3ae9dd93a4240a43e0d0d9e528692",
        "IPY_MODEL_c725b6f3c74b4c5bb03fe6f875530fa5",
        "IPY_MODEL_3e432f47d3ca4f79b6a8795f76c110be"
       ],
       "layout": "IPY_MODEL_cdd039705a7f475cb7ad67be48bb8fba"
      }
     },
     "31ff5e2b46774cb7a6df55d99fb8deb7": {
      "model_module": "@jupyter-widgets/output",
      "model_module_version": "1.0.0",
      "model_name": "OutputModel",
      "state": {
       "layout": "IPY_MODEL_74465281bda9433db359f8729f9e3a4d",
       "outputs": [
        {
         "name": "stdout",
         "output_type": "stream",
         "text": "Score: 0.84\n"
        },
        {
         "data": {
          "image/png": "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\n",
          "text/plain": "<Figure size 720x576 with 1 Axes>"
         },
         "metadata": {
          "needs_background": "light"
         },
         "output_type": "display_data"
        }
       ]
      }
     },
     "383062db4ff84acc9867c47f5cc967df": {
      "model_module": "@jupyter-widgets/controls",
      "model_module_version": "1.4.0",
      "model_name": "SliderStyleModel",
      "state": {
       "description_width": ""
      }
     },
     "3c3160e8ea0545c3994e5970019beca7": {
      "model_module": "@jupyter-widgets/controls",
      "model_module_version": "1.4.0",
      "model_name": "SliderStyleModel",
      "state": {
       "description_width": ""
      }
     },
     "3d97308901ca40b1a30569bce16e633a": {
      "model_module": "@jupyter-widgets/base",
      "model_module_version": "1.1.0",
      "model_name": "LayoutModel",
      "state": {}
     },
     "3e432f47d3ca4f79b6a8795f76c110be": {
      "model_module": "@jupyter-widgets/controls",
      "model_module_version": "1.4.0",
      "model_name": "IntSliderModel",
      "state": {
       "layout": "IPY_MODEL_1c67b4870e6546dc9180837327a35fdf",
       "min": 1,
       "style": "IPY_MODEL_14d7c55448924bad9691870b6ffe4287",
       "value": 1
      }
     },
     "3e499b5d4bbd4915ab032cd7074f82a5": {
      "model_module": "@jupyter-widgets/controls",
      "model_module_version": "1.4.0",
      "model_name": "SliderStyleModel",
      "state": {
       "description_width": ""
      }
     },
     "3edf5c23d0374f8cb7c73edb72c1097a": {
      "model_module": "@jupyter-widgets/controls",
      "model_module_version": "1.4.0",
      "model_name": "SliderStyleModel",
      "state": {
       "description_width": ""
      }
     },
     "3fea505552d04600924a126b5fb88ab7": {
      "model_module": "@jupyter-widgets/controls",
      "model_module_version": "1.4.0",
      "model_name": "HBoxModel",
      "state": {
       "children": [
        "IPY_MODEL_a550e27d8405436abf510fcd53f37f87",
        "IPY_MODEL_24c456d02cee45ec81fd7ec55df3d56f",
        "IPY_MODEL_4b573c7f9db94f38aea21d815d17ae3f"
       ],
       "layout": "IPY_MODEL_b7d1f95a2b6a4574b84789ea4ee2254e"
      }
     },
     "4123fdf226f74b46aa80d27047ae5ece": {
      "model_module": "@jupyter-widgets/base",
      "model_module_version": "1.1.0",
      "model_name": "LayoutModel",
      "state": {}
     },
     "41c5c09275d047a5af5290da2a73b254": {
      "model_module": "@jupyter-widgets/controls",
      "model_module_version": "1.4.0",
      "model_name": "IntSliderModel",
      "state": {
       "layout": "IPY_MODEL_2b9f5daf01af4a5ba7073c17f0c6688a",
       "min": 1,
       "style": "IPY_MODEL_383062db4ff84acc9867c47f5cc967df",
       "value": 1
      }
     },
     "4b573c7f9db94f38aea21d815d17ae3f": {
      "model_module": "@jupyter-widgets/controls",
      "model_module_version": "1.4.0",
      "model_name": "IntSliderModel",
      "state": {
       "layout": "IPY_MODEL_f9dac5f1529a4c3db3f2db63bf7bd743",
       "style": "IPY_MODEL_ebd11f305eab4248af3af69ff860ca2b",
       "value": 1
      }
     },
     "4e0c28f70177432a8e25043816ebfd6b": {
      "model_module": "@jupyter-widgets/controls",
      "model_module_version": "1.4.0",
      "model_name": "IntSliderModel",
      "state": {
       "layout": "IPY_MODEL_94548fcef4c348d289c60529c8c145ba",
       "min": 1,
       "style": "IPY_MODEL_c09ae1903ae9448c8f3e2622a63217f8",
       "value": 1
      }
     },
     "4f7afeaa1c324b06ad771a2df3ab9e41": {
      "model_module": "@jupyter-widgets/base",
      "model_module_version": "1.1.0",
      "model_name": "LayoutModel",
      "state": {}
     },
     "57b9964335db483b8b9d50b6e880ad34": {
      "model_module": "@jupyter-widgets/base",
      "model_module_version": "1.1.0",
      "model_name": "LayoutModel",
      "state": {}
     },
     "584cbb80f680444e957c462df5d48478": {
      "model_module": "@jupyter-widgets/controls",
      "model_module_version": "1.4.0",
      "model_name": "IntSliderModel",
      "state": {
       "layout": "IPY_MODEL_b5bff1eb1dab40d5938aed110571d6c9",
       "style": "IPY_MODEL_3e499b5d4bbd4915ab032cd7074f82a5",
       "value": 14
      }
     },
     "5cf3ae9dd93a4240a43e0d0d9e528692": {
      "model_module": "@jupyter-widgets/controls",
      "model_module_version": "1.4.0",
      "model_name": "IntSliderModel",
      "state": {
       "layout": "IPY_MODEL_19edf295172a473eb83039ac04e0b6cd",
       "style": "IPY_MODEL_90ecfbbce2cf48b699f01a6bc432897a"
      }
     },
     "5f34fbdb065146598e67ba62a16540bd": {
      "model_module": "@jupyter-widgets/output",
      "model_module_version": "1.0.0",
      "model_name": "OutputModel",
      "state": {
       "layout": "IPY_MODEL_57b9964335db483b8b9d50b6e880ad34",
       "msg_id": "502db67d4b684e748a71eff5b1b2a98f"
      }
     },
     "606ba6913ba942b7abae9379821df87a": {
      "model_module": "@jupyter-widgets/base",
      "model_module_version": "1.1.0",
      "model_name": "LayoutModel",
      "state": {}
     },
     "64c99a06f4b44d0d892bd92712ee6e2b": {
      "model_module": "@jupyter-widgets/output",
      "model_module_version": "1.0.0",
      "model_name": "OutputModel",
      "state": {
       "layout": "IPY_MODEL_dbdae7419eab427d8c6e1cd9f72e9e50",
       "outputs": [
        {
         "data": {
          "image/png": "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\n",
          "text/plain": "<Figure size 720x576 with 1 Axes>"
         },
         "metadata": {
          "needs_background": "light"
         },
         "output_type": "display_data"
        }
       ]
      }
     },
     "66a56cdf9df34db98de51afaffe02095": {
      "model_module": "@jupyter-widgets/controls",
      "model_module_version": "1.4.0",
      "model_name": "HBoxModel",
      "state": {
       "children": [
        "IPY_MODEL_227746f0dfef4156bbbe3de042051f2f",
        "IPY_MODEL_8577b585248046a6b6d844e1a8ff8489",
        "IPY_MODEL_cb98a96343fc432d89e71cea54cf70e9"
       ],
       "layout": "IPY_MODEL_782886524df54942973ed26d4e44a841"
      }
     },
     "692100ffd5764d60a0bd0bda085d85f5": {
      "model_module": "@jupyter-widgets/base",
      "model_module_version": "1.1.0",
      "model_name": "LayoutModel",
      "state": {}
     },
     "69776060aecb493cbbcc5efd03c1bfea": {
      "model_module": "@jupyter-widgets/controls",
      "model_module_version": "1.4.0",
      "model_name": "HBoxModel",
      "state": {
       "children": [
        "IPY_MODEL_e0b32c71300e441ebf601149895655c1",
        "IPY_MODEL_cf17407ef8154fd1b9576ff45de2525d",
        "IPY_MODEL_4e0c28f70177432a8e25043816ebfd6b"
       ],
       "layout": "IPY_MODEL_bbf22f972aa74208903747d33e6d6cfd"
      }
     },
     "6e71c00926cc4bca823597b474dbe876": {
      "model_module": "@jupyter-widgets/output",
      "model_module_version": "1.0.0",
      "model_name": "OutputModel",
      "state": {
       "layout": "IPY_MODEL_7c8cd63364404a7da480faebe293d912",
       "outputs": [
        {
         "data": {
          "image/png": "iVBORw0KGgoAAAANSUhEUgAAAl8AAAHVCAYAAADPfJ4+AAAABHNCSVQICAgIfAhkiAAAAAlwSFlzAAALEgAACxIB0t1+/AAAADl0RVh0U29mdHdhcmUAbWF0cGxvdGxpYiB2ZXJzaW9uIDMuMC4yLCBodHRwOi8vbWF0cGxvdGxpYi5vcmcvOIA7rQAAIABJREFUeJzs3Xd4FOXCxuHf7KZseiUkAUIChA6hRKoFFAuCImIBu8d67L0dBAXFLmJDUVH0qGABQQEbgiig9CIthAABEkgjvWx2d74/4ofYDirJTspzXxeaLdl9YCebZ9955x3DNE1ERERExDtsVgcQERERaUpUvkRERES8SOVLRERExItUvkRERES8SOVLRERExItUvkRERES8SOVLRERExItUvkRERES8SOVLRERExIt8rA7wv4SFhJsxzWKtjiEiIiJyVOm7tueZptnsaPer1+UrplksUya8YXUMERERkaMadunxe/7K/bTbUURERMSLVL5EREREvEjlS0RERMSLVL5EREREvEjlS0RERMSLVL5EREREvEjlS0RERMSLVL5EREREvEjlS0RERMSLVL5EREREvEjlS0RERMSLVL5EREREvEjlS0RERMSLVL5EREREvEjlS0RERMSLVL5EREREvEjlS0RERMSLVL5EREREvEjlS0RERMSLVL5EREREvEjlS0RERMSLVL5EREREvEjlS0RERMSLVL5EREREvEjlS0RERMSLVL5EREREvEjlS0RERMSLVL5EREREvEjlS0RERMSLVL5EREREvEjlS0RERMSLVL5EREREvEjlS0RERMSLVL5EREREvEjlS0RERMSLVL5EREREvEjlS0RERMSLVL5EREREvEjlS0RERMSLVL5EREREvEjlS0RERMSLVL5EREREvEjlS0RERMSLVL5EREREvEjlS0RERMSLVL5EREREvKhWypdhGNMNw8gxDOOnP7l9kGEYRYZhrP/5z7jaeF4RERGRhsanlh7nLeBF4O3/cZ/vTNMcXkvPJyIiItIg1crIl2maS4GC2ngsERERkcbMm3O++huGscEwjIWGYXT5szsZhnGtYRirDcNYXVRc6MV4IiIiInXPW+VrLdDaNM0U4AXgkz+7o2ma00zTTDVNMzUsNNxL8URERES8wyvlyzTNYtM0S3/+egHgaxhGtDeeW0RERKQ+8Ur5Mgwj1jAM4+ev+/z8vPneeG4RERGR+qRWjnY0DON9YBAQbRjGPmA84AtgmuYrwHnAvw3DcAEVwGjTNM3aeG4RERGRhqRWypdpmmOOcvuL1CxFISIiItKkaYV7ERERES9S+RIRERHxIpUvERERES9S+RIRERHxIpUvERERES9S+RIRERHxIpUvERERES9S+RIRERHxIpUvERERES9S+RIRERHxIpUvERERES9S+RIRERHxIpUvERERES9S+RIRERHxIpUvERERES9S+RIRERHxIpUvERERES9S+RIRERHxIpUvERERES9S+RIRERHxIpUvERERES9S+RIRERHxIpUvERERES9S+RIRERHxIpUvERERES9S+RIRERHxIpUvERERES9S+RIRERHxIpUvERERES9S+RIRERHxIpUvERERES9S+RIRERHxIpUvERERES9S+RIRERHxIpUvERERES9S+RIRERHxIpUvERERES9S+RIRERHxIpUvERERES9S+RIRERHxIpUvERERES9S+RIRERHxIpUvERERES9S+RIRERHxIpUvERERES9S+RIRERHxIpUvERERES9S+RIRERHxIpUvERERES9S+RIRERHxIpUvERERES9S+RIRERHxIpUvERERES9S+RIRERHxIpUvERERES/yqY0HMQxjOjAcyDFNs+sf3G4AU4AzgXLgCtM019bGc4vIP+NyufDx+f1bwMp1y9i4ZR1Rkc0YevIIHP6Ow7dl7t/N4mVfYrPZOOWEM4hv3vJX32uaJm63+w8fV0REatTWO+RbwIvA239y+1Ag+ec/fYGpP/9fRLxs3aZVPPnSw5SUFdGyeWsevHMSLeISAPhw3n+ZPXcmzZwtKfctZtG3n/PshFfw8/Nnx65tPPDorcQ4W2Fi8ukXH/HkuJdJbNUGgK+/W8grb02mqrqS9omdGXvnJCLCIq38q4qI1Eu1stvRNM2lQMH/uMsI4G2zxg9AuGEYcbXx3CLye/O/msOF1wxl5JUn88TzD1FZVQlAXkEOk6aMpV1Zd07mXIJyIhj7+J14PB48Hg/vzp5Od+cAkoyOdK4+jrL8MlZtWAHAex+9SStne9rRlWS6EV/Vhg8+qfm8lZaxlVffmkKKcyCDzHOozHTx+JRxh/Ps3pvB9XddwtmXD+L6uy5hV2a69/9RRETqCW/N+WoB7D3i8r6fr/sdwzCuNQxjtWEYq4uKC70STqQhKiopZNH3C/nm+88pKS0+fP3qjT/w9szX6FrZj/6uM9ixPo1XZzwHwI5d2wm3RRNpxGAYBi1pS0lJMYXFBbg9btweN37U7GY0DAM/00FFZQUAFRXlOMyAw8/jbzooLy8DYEvaJpp54gk2wrAZNpLcHdm68ycAKisr+M+k2wjOieJEz3BCcqIZ+9jtVFSWH36sXZnpfL54HivXLcPj8dTtP5yIiMXq3cQM0zSnAdMAktt0NC2OI1IvHczN5o5x1xFUHYqJyXS/qUyeOI1mUc1Zu2Elsc4Ego0wABKrO7J240oAIsIiKPUU4TZd2A0fys1SXGY1wYEh+Pr4ktKxFzt2bKCVK5liDnGIHLp36gnAiQNP4d3MN/GvCsDEZK/fDq4eeBMA4WERlNuLMV0mhmFQzCFCg2qef9+BTGxuOy1IAgPiSeSgO5O9WXto36YTi5d9ycvTnyGaOEqNIpI7dmDsHZOw2XQ8kIg0Tt56d9sPtDricsufrxOR/6GsvJSV65axZuOPOJ1Vh6+fMfNVosrj6eRMpbPzOCLKmvPOB68DEBYaToVP2eH7llJMSFAoAB3adiG1dz/W+X9Hmu96Nvgt4+qLbsLPzx+A+2+bSGLPRLaGrKK8RQET7nuGmOhYAIaePIKRIy5gd/hm9kRsZfQFl3Py8acDcPxxg4ltHccGx/ek+a1nq99qbrn2XgBCgkKpcJVRbToBcJnVlLvKCA0OwzRNXpz+FN2dA2hf3YMeVSewY/t21v608nD+vIJclq/+lp+2b8A09XlMRBo+b418zQNuMgxjJjUT7YtM08z20nOLNEg5eQe4c/z1+FU7cJkugiICefrhqQQGBJFfkEewJxSMmvsGe8LIL8gFYNiQkXy1ZAGbS1bi53aQa9vP+CufAGp2Jd5x/X9Yu2klufkHaZvYnuSkjoefMygwmPtuefgP8xiGwXlnXcx5Z138u9t8fHx49IHJ/LhuGSWlxXRu351W8a0BaN4sjlMHDWPp0kWEu5tRaM9jyAlDiY2Jp8pZRbXLSRA15dBm2AgyQzlUWDOFdNPWdUx45j7CbdGUeUro0qU79986QaNiItKg1dZSE+8Dg4BowzD2AeMBXwDTNF8BFlCzzEQ6NUtNXFkbzyvSmL3y1hQiS+NINDtgmibbc9fxwdx3uGL09fRMOY7PMz8j3BkNQJb/Ls7qPhKA4KAQnp/0Bt/9uJjKqnJ6d+9Hy5+PZoSaEtW7e+0fbGy3+zAg9aQ/vO3aS2+hd0ofMvfvplV8Iqkp/QDw9/OnVWwiew5sp7WnA8UcIt88QMd2XQB4+qWJtK/qQbQRh8d0s2HzMn5Y+92fPo+ISENQK+XLNM0xR7ndBG6sjecSaWx+XPs9c+d/CMCIYefTt9fxABzMySLa0wqMmsIU6ook+0DN3vrzz7qYnNwDfP39AgBOH3AWI4eNPvyYgQFBnD5ouJf/Jn/OMAxSU/qTmtL/d7eNv/sJJj7zAN/sn0OgfxC3X/fA4VGzgpJ8ujEQAJthJ9gTTk7eQQCqXdW89/GbbNq8juioGP518b8P7yIVEanP6t2Ee5GmZOX65Tzz0qMkOTsD8MzuR7nrprH06TmQTh26sTFvA6HVkXhwk+u/j+M7XgjUjDLdcs293HjVXTWXbXbL/g7HKiY6lhcem/6Hi762adGOffvTSfC0p4oK8o0DJCd1AODZqY+yff024p2JZGUe4I7t1zH1qXcOz28TEamvNHFCxELzP59DorMjsUYrYo1WJDo7Mv+LTwC46uIbaNY2iu995rPMvoCU1F4MP+3cX32/3WZv0MXrSH+0Kv4Dtz9CeXQRy3wX8qP9a0aPupwuHVKornaybPViOjtTiTJiSfJ0wlEdxPqfVlmQXETk79HIl4gX5OQdYObsGRSVFNHvuIEMOeFMDMPAsBmY/HIEn4mJYauZRR/gCOTR/zxHSWkxdrudwIAgq+JbpnmzOF59+l0Kiw8RFBB0+KhMDAP4g387o+bzZHlFGe/PeYv9+/fSPrkT5w2/WKc8EpF6Q+9GInWsoDCfW8deTXRFPAGeIN7aOo2CgnwuPOcyRg67kEe2P4DHWbOwaKbfdsYOm/Sr7w8Jbtq70QzD+N1pinx9fBkycChrf6xZ06zEXognoJpe3fpQ7armnodvojrHTXh1NF9uW0B6xnbG3jHpT55BRMS7tNtRpI599+MiwpxRtDE7E2e0plNVKnMWzAQgpUtvxt75GJE9Q4noGcKDdz1GSpfeFiduGG68+i7OGjkS/y42Op3QkWcnTiMwIIjt6Zspyi+kQ3VPYo0EOjv7sG7TKgoK862OLCICaORLpFa5PW6Kig8RHBhyeBeZx+PBMI3D97Fhw2P+cgqdlM69SOncy+tZGzq7zc6o4RcxavhFv7re7fFgM+wYRs2/uYGBYRi/Om1RSVkxmBpVFBFrqHyJ1JI9+zIY98RdlJWV4TZd/PvyOzht0DD69z6R92e/xV53OoFmCHv90jj1pGFWx220OrTtjE+gjZ3On4hwx3DQdy9tE9sTFRFNdbWTx59/iLWbfgSgV7e+3HfLQ/j6+lmcWkSaEu12FKkFpmny8FP30qyoFQNdQ+ntGsRr77zA7r0ZxMbE88SDLxLSxUFZ63zOPGsE/7roBqsjN1oOfwdPPTSVhN6tKG6VQ4/je/DQPU9iGAbvz5nB7i27GOg+k4HuM9m9ZRfvzX7L6sgi0sRo5EukFlRUVpBfmEdXcwAYEGSEEGVrTsaeNBJbtSEpoR0P3/u01TGbjMjwKO65efzvrt+6bRPNna2wGzXLczR3tmLb9p+8HU9EmjiNfIn8A9WuaopLig6f6DnAEYCfrx/F1JyT0GVWU2Tma8X1eiYurgWF9rzDl4vs+TRvHn/4stvtoqikUCfwFpE6pZEvkb9p4TfzmPbOcxjYiIpoxsT7niE2Jp67bxzHUy9OINweTYmnkOP7D6ZLhxSr48oRLr/wWu7c8m82lC4DwB5k48ox1wHw7YqvmfLa42BCaHAYE+57moQWSVbGFZFGyqjPn/CS23Q0p0x4w+oYIoftyNjGfx69jRTnQAIIJtO2A1dcOS8+/hZQs5jqzj07iIqIpn2bTtaGlT9UWVXJ5u0bMDHp2qEHDn8H+7MzuW3sNXRz9ifECGc/u8gP38/0KR8ePmpSRORohl16/BrTNFOPdj+NfIn8DWkZW4kmjkAjBIBWnnYs3j8Ht8eN3WYnJjpWuxrrOYe/g97d+/7quvTdaUTaYggxwgFoQRI7i3+itLxE54oUkVqnOV8if0OzqBiKjUO4TTcAReQTGhTeaM6v2FQ1i4qh2DyEy6wGoMQsxGa3NclTOolI3dPIl8ifyM0/yCcLP6CsrJTj+w0iNaU/x/UYQNdu3Vm76VuCbaEccudy3w0TrI4qx6hTcjcG9juJZT98S4gtnEPuXG679n7sNjvVrmrmfv4BezJ30SapHWedep7OEykix0RzvkT+QF5BLjc/cCWRFbH4eRxk+WVwzeU3M+TEoZimyebtGzhUVED7Np1o3izO6rhSC0zTZFv6ZvIKcmib2J745i3xeDyMe/xOsnZmE+FsRoFfDkmdknjwzsc0F0xEfkdzvkSOwdffLSC8Mpp2ZlcwINQZznsfv8mQE4diGAZdO/awOqLUMsMw6JTc9VfXZe7fRXpGGsc5T8Fm2Ih3JvLj1q84kJNFXPMWFiUVkYZOc75E/oDT6cTu+eWziS9+uFzVFiYSKzirnfgavhj8/3kibfgYvjirqyxOJiINmcqXyB8Y2GcQB333csDcS6GZzw6/DQw+/jSrY4mXJbVqiyPYwS77VorNAjJ8NhMWEU7LuASro4lIA6bdjtLk5RXk8vasaeTl55LStRfnnXURbVsnM/bOx5jx/qsUV+Rwar8zGXPuFVZHFS/z9fXj8XEv8vL0Z9m7P53EhLbccOUd2O0+f7jd2O16SxWRo9OEe2nSSsqKufHeywktiSbEE06232569u3NrdfeZ3U0qcdKy0q44d7LfrXd9OjTi9uuu9/qaCJiob864V67HaVJW7txJX5VAbQ1uxBjtKCLsw+Lli3E5XJZHU3qsbWbfr/dfLP8c203IvKXqHxJk2ZiogUD5O+qz3sMRKT+U/mSJq13975U+pWTYWwh18xii98qBvU/TYtoyv/Uq3sfqrTdiMg/pPIlTUr2wf18tXQ+K1YvxeVyERIUyuSJ02jdpxWe5ApOG34mt15zr9UxpZ777XZz6rChh7eb/EN5LPp+Id/9uIjKygqLk4pIfaQJ99JkrN+8mkef/Q9RRiwVlBLTsjmTxk7B18fX6mjSSOzeu5N7J95MuCeKasOJT6idyROnERQYbHU0EfECTbgX+Y3npz1Je2dPOjh7klJ1PPn78lmy/EurY0kjMvXN52hV2Y6Ozt50reyHUeDD7AUzrY4lIvWMypc0GUWlhwglAqg5lUxAdQiHCgssTiWNyaFD+YSYv2xjQa5Q8vNzLU4lIvWNypc0GZ3admOPfTse00O5WUKez346d+hudSxpRLp36ck+33Tcppsqs5Ic/71079rL6lgiUs+ofEmTcfdNDxKU6GCJMZfVPku4bMy1dO2QYnUsaUSuvuQmWnVuxVLbPFbYv+C004YzeIBOSyUiv6bjoqVRqnJW8d7H08nYnU7rVklcfN6/CAuN4KmHXqbaVY2P3QfD0ApfUrscjgDG3fU4LpcLm82GzVbz+TZjzw4+nPtfKiorOPnE0zmx3ykWJxURK6l8SaNjmibjn7ib/F35RFXHsWrHSjZv28DTD0/FbvfR0Y1S545c7ytz/y7unXgTLZxt8TMdTN0+mYrKck4fdJaFCUXEStrtKI1O1sF97NqdTsfq3jQ3WtKhuic5Bw+SkZludTRpgr5cMp/mVQm0pj1xRgLJzhRmf6ojIEWaMpUvaXRM08QwwDjixEEGBtTfJe2kEavZHn+9Ldbn9RVFpO6pfEmjE9+8JfHxrdjuu4488wA7fDYSFhlOUkI7q6NJE3TKCWdwwHcP+80McswsdvhvZPjp51odS0QspPIljY7NZuOR+yeTcnwPqpKK6DSgI4+Pe0Hn3RNLtGmdzMT7nyGoqz+eduVcfsk1nHXaKKtjiYiFdHohafA8Hg+fL57Hlq0biY2NZ9TwiwhwBFodS+R/2pWZzvyv5uBxezh18DA6JXe1OpKIHKO/enohDQVIg/fym8+wcsUPNKtqQZrvDn5YvYzJE1/F19fP6mgif2jn7jTue+Rm4pyJ2Ew74368k7F3PkZKZy3IKtIUaLejNGgVleV89d0CulX1o6XRho7VvSjJL2bj1nVWRxP5U7M/m0kLZ1uS6ERroz1Jzs7Mmj3D6lgi4iUqX9KguVwubNiwYQdqzqfnY/hR7aq2OJnIn3M6q/Axf1lvzgdfqqu1zYo0FSpf0qAFB4XQsV0X0nzXU2QWsMdIo9JeRheds1HqsVNPHsZevzTyzGwKzIPs8tvKqScPszqWiHiJypc0aIZh8OCdj9Opb2cOxGQQ2imQpx+aSkhQqNXRRP5Unx4DuPGauyhtlceh+ANcdvE1nHaSypdIU6EJ99LgeDwe9mVn4na7SGiRSGBAILddd5/VsUT+lhP7nfK7czyWlpWQfXA/UZHNiAyPsiiZiNQ1lS9pUKqrnTz05D3s3JWGDTsRUZE8NvZ5QkPCrI4mckzWbVrFpCkPEmALpMxVwhWjr9d6YCKNlHY7SoPy0WfvcSDjIMdVDSG16mTMHDvT3nnB6lgix6TaVc1jzz9Ip6re9Kw8kd7Vg3h71jT2ZWdaHU1E6oDKlzQou3anE+lsjs2wYRgG0a44du/ZaXUskWNSWFQAHogwmgEQYAQRbo9iv8qXSKOk8iUNSmJCGw755uAxPZimSb5PNq1bJVkdS+SYhIdFYhomh8xcACrMMgrd+bSIS7A4mYjUBZUvaVDOO+timrWJZpX/ItY4FuNpVs21l99idSyRY+Lr48t9t0xgq/8a1ju+Y43vEi45/2paqnyJNEqacC8Nip+fP48+8Bx7s3bjcrtp3SJJJ8yWRqF3975Mn/IBWQf2ER0ZQ1REtNWRRKSO6LeW1Ht7s/awct0yfH39GNT/VEJDwmjdso3VsURqXUhQKB3adj58eUfGNtZtXkVIUAiDB5yOwxFgYToRqS0qX1KvbUnbyPgn76aZqwUuWzUfzv0vz0+aTkRYpNXRROrU9ysXM+XVJ4hxt6DSXs68hR8zeeI0FTCRRkBzvqRee+O/L5NU1YVkT3c6uXoTUhbBJwtmWR1LpM5Nm/E8nZ2ptPN0o4uzD84CF4uXf2F1LBGpBSpfUq+VlBYTSPDhy/7uIEpKii1MJOId5ZVlh7d9wzBwuAMpLS+1OJWI1AaVL6nX+vYeyB6/bVSa5ZSYhWT77aJP6kCrY4nUuZ5d+7DTdzNOs5JCM48c+z56dE61OpaI1AKVL6nXLr/wOnoP6MNa/6VsC1rDJaOvol+v462OJVLnbr/+ARK7tWaV3zfsCt3Mbdc/QHKbjlbHEpFaYJimeewPYhhnAFMAO/C6aZqP/+b2K4CngP0/X/WiaZqvH+1xk9t0NKdMeOOY84nIP1NUfIiP5r9FYfFBOrZNZejJ52Kz6TObiBV27tnBwm9m4nI7OaHPcHp372t1JPmNYZcev8Y0zaMOUR/zu6hhGHbgJWAo0BkYYxhG5z+46yzTNHv8/OeoxUuaruKSIj776mPmLJzJ/gN7rY7TZJVXlHPfpKuJbb6Eyy7YwcoN05k+c7LVsZq01RtW8MGn77Bs1RJq44OzNBy7MtMZ/9QNDBq4hnOHbealtx5k+epvrY4l/1BtLDXRB0g3TTMDwDCMmcAIYEstPLY0MYeKCrj1P1fhKA/Gx/ThvY/fZOJ9z9CxXVerozU5azauILlNNS9MigJg2JAg4lPmceWFt2K3a5Uab3tr5it8+fV8IlzNKfbJZ/nKpdx1w4MYhmF1NPGCL7/9mDtvCOKuGyIAiI2xM+HptxmQepLFyeSfqI39By2AI4cn9v183W+NMgxjo2EYHxmG0erPHswwjGsNw1htGMbqouLCWognDcknC2YRXBpOJ1dvkt0pJFV15vV3XrI6VpPkdrsJcPzyi93hX/O1RyMuXldUfIi5X3xIStXxtPN0JaVqIGvW/sCuzHSro4mXuD0uAh2/XA5wGLg9LusCyTHx1uSNT4FE0zS7A18BM/7sjqZpTjNNM9U0zdSw0HAvxZP6oqi4EIc76PDlQEIoKdXSElbo2a0PK9e5eOKFQhYvK+e8q/M5qd8J+Pr4Wh2tySktK8FhD8DP8AfAbvgQYA+mpKzE4mTiLSf1G86jz5Xx/pwSFiwq44Z7ixjUf5TVseQfqo3ytR84ciSrJb9MrAfANM180zSrfr74OtC7Fp5XGqE+vQeQ7bebUrOIKrOCPX7b6dNrgNWxmqSwkHAm3TeNLxe3567xgYSHnMFNV46zOlaT1LxZPI5AB3uNHVSbTrLNTCqMMtq0bmd1NPGSLh1SuP2aSbzwegwPPRnG2afdzOmDzrY6lvxDx3y0o2EYPkAacAo1pWsVcJFpmpuPuE+caZrZP389ErjXNM1+R3tsHe3YNM39/APenzMDl6uaE/udwr+vvEOjLdLkZR3cxxPPP0Rm1i6aR8Vy903jaZvY3upYInKEv3q04zHPmjVN02UYxk3AF9QsNTHdNM3NhmFMAFabpjkPuMUwjLMBF1AAXHGszyuN14gzLmDEGRdYHUOkXolv3pIpj+pAcZHGoFYOWTJNcwGw4DfXjTvi6/uB+2vjuaRxqqyqZH92JqEhYTSLam51HDnC2k0rydizg7jmLRiQepKOrqsn3G4Xe7P24OPjS4vYVnpdmoC9WXtYvWEFDn8HJ/YbQlBg8NG/SeolHS8ultuVmc7Yx27H5vahwlXG0FNGcNXFN1odS4D3P5nGslWzOft0fz77upo1G5Zw81Xj9YveYsUlRdz/yC0cyi/AbbpIbtuR8Xc/ga+vn9XRpI5s2rqOJ16+hwtHBJKZZXLXxHd4cuybhASFWh1N/gGVL7Hc41PGE1/WlngSqTadLFr8OT27H0evbn2sjtakFZcUMWfhTNJ/bEFMtA8VFR46DlxBxp4dmmtksWlvT8HMsZPqOhkTky07V/Hx/PcZfc7lVkeTOvLOx8/x6lNhjBoeAsAVt+SzYNEcLjxbr3lDpPOEiOWy8vbR3Kw5YNbX8CPc04zM/butDSWUlZcSEeZLTHTNZ7SAABsJLf0pLi2yOJnszsygmSsewzCwGTYinc3ZtVtrfjVmpWXFdEr+ZWSzc3uD0tJDFiaSY6HyJZaLi4onx6hZnaTadFJoy6NlfILFqSQmujk2WzDPvlJEcYmbWXNLSNtZTdvWGvWyWkLLJPLs2Zimicf0cMg3h9YJbayOJXWoR5d+3D+phNw8Fxu3VPHS9EpSuh510QCpp1S+xHL33jqBfYE7WO/4jpW+izjphFPo3U0njLWa3e7DuNufZ8asMOK77+XBx+2MvXUyoSFhVkdr8q67/BbczapY41jCKv9FRCdFc97wi6yOJXXo8gtuo9rZm3b9sjj1gkOMHHo9qd1VvhqqY17nqy5pna+mo7yinL1ZuwkNDiOu+R+dnUpEjlTtqmbPvgx87L4ktEjEZtNnaRGreW2dL5HaEBgQSIe2na2OIdJg+Pr40i6xg9UxROQfUPkSS5imyfxNPy5RAAAgAElEQVSv5/DDyu8IDQ3j4vP+RYs4zfOqj0zTZPvOLRSXFpGc1JGIsEirI8lvfLviaxZ9+zn+fv5ccM6lJLfpaHUkqWVuj5utO36isqqCDm07a4mJBk7j1GKJ92a/ycxZb+PaZidr9UHuGH89ufkHrY4lv+HxeHjutXG8MP1Olv7wBLeMHc2WtI1Wx5IjfPntfKa+PpmqzSb564p4YNKtZOzZYXUsqUXV1U4mPHsz02fez9ffTeLWsRexN2uP1bHkGNTvkS+7DXdkkNUppA58+tVsulX1JdAIAROqqiv4dtP3jDz3MqujyRFWLP+Gg/lr2by0OQ6HjXlflHLruAm8OHWh1dHkZ3MWfkiyM4VIIwaAaqeTz1d8wXU9e1icTGrLZ3PnEhmRyfL5MdjtBi+8UcRrHzzJ+AlvWR1N/iGNfIk1TBP4ZZV08/B/pD7JOZjFCX19cThq3iqGnBBIdnauxankV35z0JSBQX0+kEr+vtycTIac6IPdXvOeeeqJARw8sN/iVHIs6vXIl8duUBWuftgYnXb+hXwz6xNaVbajwlZKgV8Oxw07Xa93PdOqR2def6yC+24OoUWcD1NnFJPcqa1ep3pk6CUX897zz5NY2ZFqqshy7OG68x/Ua9SIJHTvzn9nL+RfY9yEhdqYOqOUpE5d9Ro3YPW6fEnjdeE1NxASFs7qJUuICm/ODdc9TLPYOKtjyW906ZnK4HP+RYeBrxAc7EtgcDh3PzHZ6lhyhCEjRuHn78+STz8lOCCMsVdMJal9J6tjSS064bRh7N6+gVa95+DwtxPXsjV3PPaQ1bHkGNTrdb7adOliPjrrfatjiDR5FWVllJeUEtEsGpvdbnUckSaprLgYZ2Ul4c2a6eT29dRF3VIa/jpfht3EN8RpdQypZaZp4vF4sOuXeIPhG+JLaGwE4P75j9RnbrdbP1+NUHiIA3AA1VZHkWOkHcbiVd9+PJ8rupzMRckDGHfutRTl68SwDUVhbj47N26htKjY6ijyJzYtX8U1vc5gTLv+3D74QrIytBxBY+B2u8ncns7etJ14PB6r40gtqNe7HTv1aG++uehlq2NILdm8dhu3jrifrhX9CCKUDN+fiD4uiBfmPWl1NDmKeW9/xssTXiGhpYN9WU4efHks/Yf0sTqWHCE3O48xfa+mfXkvImhGlrGLwtgsPlo/Q6NgDVhZSRl3j76bggNZmB5o3jqBJ959goCgAKujyR/oH33qX9rtqJEv8ZoNKzbRzN2CECMcm2EjsboTG1ZttjqWHMX+3dm8+uirrFwQy/qvYpj3VhQTb3iEyooqq6PJEbZvTCfcJ5Ioozk2w0ZL2lJyqJT8gwVWR5Nj8Ppjr9M1MZ/05XGkr4gjqdkB3nrmbatjyTGq13O+/G0ukv216nlj0SnOxoe+RZhOE8MwKKGQyPBgvcb13N69P5HSOYB2SX4ADDgugJAgg+CC7SS1aW5xOvl/JfEeylxFuE0XdsOHCrMMl9tJj5hygvQz1mDlpG/n9n85sNlqJtifP8zBGx9t0ftmA6eRL/Gac0b1I6FTGJuDvmdnwDq2B6xk8stXWh1LjiKpTXM2bSknY0/NJN8VqysoKfUQGxdhcTI5Us/ebThteAobg5ay07GeTQHfMW7ihQQFOayOJsegXfsEPp5fgcdj4nabzF5YSftOra2OJceoXs/56tGrjblo6USrY0gtqq52sXD+WgoKShgwoCPtO7awOpL8BTOmf80j498jMcHBnn1OXnz1Rk47o6fVseQ3TNNk0VcbyczMJSUlkd7HtbM6khyj4qJyRo+aRH5OLh7TJL5FHO9+dD/BwSrV9VF0yCV/ac6XypeI/CUHDhwia18BSW2aExEZbHUckSbD7fawbes+DMOgQ8cW2O3aaVVf/dXyVa/nfEnjkptbRFlpFa0SovXm0QDFxkYQG6tdjQ1FWVklB7ILiYuPIDDQ3+o4cgzsdhtduiZYHUNqkcqX1DnTNLn39rd5752l+Pn4EhMbxpzP7yNOc4YaHI/HQ9r2LFwuNx06tsDXV28h9dHC+Wu4/spX8LX54sLFG+/cyCmnplgdS/6BrP35HMgupG27WMLCg6yOI7VE75xS5+Z8/APz3l9LX+fp+Dh92Z25hZuunsbH8++1Opr8DRUVTi4b/QQZ6Xvx8zUICYtg1pyx2gVZz+TlFvPvf71C54r+hBmRFJp5XH3pS2zY/hyhYYFWx5O/4YXn5vHCs5/UrK+XXc30d+5kwPEdrY4ltUD7fqTObVy3m7DyWHwNPwzDINaVyOZNmVbHkr/phclzCQ84SNqyeLZ+F0fflHImjvuv1bHkNzJ2HiDYJ4QwIxKAcCMahy2A3btzLE4mf8eG9bt47eVP2fBNC9Z82Zy3n4/gmisma4X7RkLlS+pcm3axlAXm4zFr3jTyjQO0ToyxOJX8XelpeznnDH98fAwMw+C84QHs2L7X6ljyG60Soil2FlNhlgFQZpZQVl1GixZRFieTvyN9Rzb9UwOJj63ZQXX64CAqyp0UFZZbnExqg8qX1LmLLj2RLv1iWRe0iM0h35MXkcEL0662Opb8TckdEpizsAqXy8Q0TT78tILkDq2sjiW/ERcfyfhHRrPesYStIcvZGLCUx565lKjoEKujyd+Q3D6e5avKyDrgAuDzb8oICPQjLFy7jhsDLTUhXuHxeFi/bhdlZVWkpCRq7kkDVFnp5LLRT7Jj+x78/WyERUQyc/Z/NOerntqzO4ddGQdp2y6OVgnRVseRf+DFKfOY8nTNnK+sgy6mv3MH/Qdqzld9pnW+RKTWeTwedqRlHz7a0cdHJ2wWqUvZWQUcOFBI27ax+tDaAGidL6k3ysur2L8vn9i4CEJCAqyOI8fAZrPRQWclaFCysw9RVVlNQutobDbNNGlo4uIjiYuPtDqG1DKVL6lTS5f8xOVjnscHX6pcVUyZejUjz+tndSw5RlVV1Xy7+CcqKpwMOL4jzZqFWR1JfsPt9nD9lVP5YsE6fGw+tG4Tzcfz7yUySnO/6juPx8P3S7eQm1tM6nHtdIBSI6TyJXWmrKySy8c8T3JpKpFGDCVmIbfd8AZ9+ycTryOvGqyyskpGDZ+AD4VER9l54G4nH80bS6fOmnxfn0x//WuWf5FB36ozsGFn546N3H3rDN74701WR5P/wePxcM3lk9mxbQcd2/nxwN3lTH39Fk4e0t3qaFKLNAYtdSZrXwG++BFp1HxqCzHCCfMNJ31HtsXJ5Fi88eqXJMYV8/28GOa+Fc34O4J48N7pVseS31i/ajcR5fHYDR8MwyDGmcDGdXusjiVH8fn8tezdlc6aL2L58LUoPpgWxR03vWJ1LKllKl9SZ2LjwqlwVVBqFgFQaZZT5CwkobWG0BuyrP25DEit+YUOMOA4B9nZBRankt9K7hhLsSOX/z+o6pDPAdomx1qcSo4mK6uA1BQ//Px+/vlKDSD7QAn1+eA4+ftUvqTOhIQG8txLV7Ep4Hu2hCxjnWMx9z54LolJKl8NWWrfTrw5q5LcPBcul8nkaSX0Pq691bHkN66/6QwSUoJZF7SIn4KXUt7sIE+/cLnVseQoeqW25dMvy9iR4cQ0TZ6eWkjv1ITDH3akcdCcL6lToy4YQL8BHUjfkU1C62YktWludSQ5RqPO78/2rXtonfo5NhsMGNie12dcaXUs+Q2Hw4+5XzzA+rUZVFZV06NnEkFBDqtjyVH06t2We/5zEb1Pewcwads2hrdn3m51LKllWudLRP6RqqpqnE6Xlg8RqQMul5vysiqt7dXA/NV1vrTbUeqUx+OhuKhc8xUaIX9/XxWvBsLt9lBSUmF1DPkbfHzsKl6NmMqX1JmF89eQFHcdHRNvpGfHO9i2dZ/VkaSWeTweXpv6Odde8SwP3v82+XklVkeS33jrjUUkxFxN+4R/c0LqA2Ttz7c6kvwB0zSZ+d+lXHflZO65/XX2ZuZZHUnqkMqX1Ik9u3P495Wv0rm8Pye6RxCancAFZz+Fx+OxOprUogfufpN5H85lxKD9ULqas88YR2lppdWx5GdrVqXz8P0f0Ns5mBNdI6hOD+Hy0S9YHUv+wAuT5/HSc+8y/IR9xARuYtipD3LwYKHVsaSOaMK91ImfNu4h0jeasMqa02LEk8TuQ1vIyyshJkaroTcGVVXVvDNjKdkbWxMWaueS8+CU83P59ptNDDv7OKvjCbBm9U6iPfEEGjWr2rdyt2fpprmYpqmj5+qZV19ewJKPo2nf1g+A/QfymDv7R6799+kWJ5O6oJEvqROxcREUuwpxmdUAlJnFePAQHh5kcTKpLR5PzTw+f79ffokHOgxcbo1u1hexcRGU+RTiMWtekyLyiY4MU/Gqh1wuDw7/X16XAIeBy+W2MJHUJZUvqRO9Utty9vmpbAhawo6g1WwK+J6nnrsCPz8NtjYWAQF+DBvek9HX5/HN9+VMmnKIjVvdnHhSF6ujyc+GnZVK934t2Bj8LTuCVpMWuJoXX7vW6ljyB0ZffCIX35jPou/KefmtQmYvqGDYWUc9aE4aKC01IXXGNE1+WL6dvXvz6J6SSMdOLa2OJLWsstLJk5M+YNUPW4mNi2Lsw5foJMD1jMfj4dvFm8nPLyH1uHZa5Liecrs9vDB5Lt98tYaIyBDufmA0Xbu1tjqW/E1/dakJlS8RERGRWqB1vkTE6yoqnOzYnkVRYZnVUUQaBJfLzc70A+TkFFkdRbxI5UvqRFFhGZdf+DztW93AwJ738cPy7VZHkjr244o0ene9iUvOf5ienW/i3bcXWx1JqNn9/8zjn9ClzS10bXsrLz+/QIse1xP79uYxuP/dXDBiHAN63c7Ye9/Sa9NEqHxJnbhyzIv89HU+nQoH4p/eitEjn2HP7hyrY0kdcbncXHXZs7z+TDhpy+NZ+Xk8E8f/lx1pWVZHa/Jem/oVr01eTFJubxJyevDcowuY9d73VscS4I6bpzL6bA87f4gnY2VLln/7A/M+WWl1LPEClS+pddXVLpYt30xbZwoBRhAxRguijViWfbfV6mhSR3Jzi/G4qxk2pGYpkeQ2fvTpGUTatv0WJ5O5H66kRXkHgo0wQo0I4svbM/fDVVbHEmDzT3u5/IJgDMMgLNTOOUP92Lxxj9WxxAtUvqTW+fjY8fX1oZJyoGa3R5VRTrDOA9hoRUWFUO0y+GFNzfkDD+S4WLuxnMQ2zS1OJqHhgVQZ5YcvV9rKCYvQOQPrgzZtmjP/65rXpqrKw9dLXSS1jbU4lXiDypfUOsMwGDv+AjYHLieDLWwN+JHoxABOH9rT6mhSR/z8fHhp2o2cdVkeJ47MJeWULK6+fhhduiZYHa3Ju/+hc9kfmEa6bSPp9g3kBu3izvvPtjqWAE8/fz2PvVDJwLNy6HRiNs1bJnPBmOOtjiVeoKUmpM588/VGln+/jdi4cC6+bBABAX5WR5I6dvBgIWnbs2jRIpI2+gRfb6TvyGbOxz9gsxmcd8EArcVWj5QUl7Nx4x5CQgLo1r21zj7QwGmdLxEREREv0jpfImIZ0zR5fvI8+qTcTN8eN/PqSwt1CL0IsH3bfs4+/UFSOlzPxec/Rnb2IasjiQVqpXwZhnGGYRjbDcNINwzjvj+43d8wjFk/3/6jYRiJtfG8Un8VFZZxz20zOOe0x3joPzOpqHBaHUm8aMb0Rcx+fwEfTQth5svBvP3GJ3zw3ndWx2qy0rbt56qLX2TU0Cd4641FKsIWKSos44IRj3DJiDKWfhJNrw4HuGjUJNw6GX2Tc8zlyzAMO/ASMBToDIwxDKPzb+52FXDINM12wGTgiWN9Xqm/nE4Xw4c8yqJ3MiheEcYn0zYyZuQzesNvQj6fv4IJ94SQ0sWfXt0djL8zhIXzV1gdq0nK3JPL0JMnsOWzcgq+D+KxB+by7JPzrI7VJK1ft4uk1nauuyyMxFa+TLw3gvy8Qvbvy7c6mnhZbYx89QHSTdPMME3TCcwERvzmPiOAGT9//RFwiqFZhY3WxvW7yd1fSjtnD2KMeNpXprJ+7W72ZuZZHU28JDg4kL1ZrsOXM/e7CA4JsjBR0/XJxz8QXhlPa7M9zY2WJJf35rWXv7I6VpMUHOzgwMFqqqtrPogWFnkoKXERFOSwOJl4m08tPEYLYO8Rl/cBff/sPqZpugzDKAKigN/9NjYM41rgWoCWraJqIZ54W80I1++7tUa+mo5b7zqP886eyJ59btxuk3dnVzJ34UirYzVJNT93v/zsGRign0VL9Ozdhg6d23L66N2ccrwvH82v4tIrBhEVHWJ1NPGyejfh3jTNaaZpppqmmRoVHWp1HPkHUnomER0fyE6/DeSaWexwrKF7SgIJrZtZHU28pFv31sz/aiI+4SfhiB7MwkWP0KFjC6tjNUnnjOrHIf9sMkkjx9xPWuAarrp+iNWxmiSbzcYb79zJOWPOJ9/Vj1vuuYKHJ11mdSyxQG2MfO0HWh1xueXP1/3RffYZhuEDhAHayd1I+fn58NnXY5k47gPStmTRP7UzD4w/T+vXNDHtkuO454FRVsdo8lonxrBw8Tgee+hjCguKuWjUcK66VuXLKj4+di69YrDVMcRix7zO189lKg04hZqStQq4yDTNzUfc50agm2ma1xuGMRo41zTNC4722FrnS6RxqKhwMu7+GXzz1XrCIwIZ+/BlDD6lm9WxROrcoYJS7r3jNVav3EFsfASTnrqaHj2TrI4ldcRr63yZpukCbgK+ALYCH5imudkwjAmGYfz/OSzeAKIMw0gH7gB+txyFiDRe993xOgVZG/ji/XAm3An/vnoKm3/KtDqWSJ27+rJniA7axdcfRHDDxZWMGaW1vaR2djtimuYCYMFvrht3xNeVwPm18Vwi0vAsmL+Wn5bEERvjQ3IbPy4aWcWirzbq3I/SqJWWVrJyZQZfvZuE3W7QNtGPOZ9X88Py7Ywc1c/qeGKhejfhXkQan+AgP/YdsfTE/mwPwcH+FiYSqXv+/j6YJuTkuQHweEyysl0EBWnbb+pqZeRLROR/uW/sGEb+622uuzSQtAw3m9J8eOqVgVbHEqlTvr4+3HH3CE45/wsuHeVgxVoXPo5ozXcUlS8RqXsXXnwCcS0jWbJoA227hTBh8smEhgVaHUukzt1xz7l07JTAqpVpDBwSxWVXDsbXV796m7pjPtqxLuloR5HGy+PxsG9vPj4+NuLiI7UUiTQaJSUVHMg+RHyLSK1e38T81aMdVb9FxOtKisu59MInSN+xH5fLZMDxnXn1zVs1IiAN3mdzV3L7Ta8SEe5DYbGbV964hZOHdLc6ltQzmnAvIl73yEPv0bZlAZlrWpK5piXOkgxefv4zq2OJHJODBwu545ZpfDkrhh0r4pn9RjTXX/U8JcXlVkeTekblS0S8bsumXVx2fiB2u4G/v40xIx1s3pRhdSyRY5KRfoD2bRz06l6zq/GEfgHERPuQmfm70xhLE6fyJSJe17pNHAsWVWKaJh6PycLFTpLa6NyP0rC1SogmbWcFuzKrAdia5uTAQSfx8ZEWJ5P6RhMsRMTrHpxwCaOGT2DxshwqqzyEhEfz+EsjrI4lckxatormvgcvpN+Zs+jUIYDN2yqY9NSVREQGWx1N6hkd7SgilqisdLJuTQY+PnZ69m6Dj4/d6kgitWLP7hx278qhXXIcLVpGWR1HvEhHO4pIveZw+NF/YMfDl4sKy3j04ffYsX0vyR0S+M/4MYSFB1mYUOToPnj/ez6e9Q2+vj5ce9MITjypC60TY2idGGN1NKnHNOdLRCzncrm5cOSj2Co38Z8bKzEqNjD63EdxudxWRxP5UzP/u5SnJ73NjZeUMPrMfK69YjIrf0izOpY0ABr5EhHLbdu6j8KCfF55Mg7DMDjlhEA6DMwmbXsWnbu0sjqeyB96d8YXvDgpnNMH14zQ5he4mfXuYvr0a29xMqnvNPIlIpaz22243CYeT81ljwdcbhO7XW9RUn/Z7Dac1b/Mm66qNjG0zcpfoJEvEbFch44tSGjdgktuzGXkmQ4+/qySpLYtSW4fZ3U0kT911XXDueHe18krcFNS4uGZV8r44JMhVseSBkDlS0QsZ7PZ+O+H9zHl6Tm8+9keOnRKZPJdI7HZNIog9dfZI/viCPDj41mL8fXzZebsYaT0SLI6ljQAWmpCROqtwkNlPPvUx+zdc4Aevdpzwy3Ddf5HscyKZdt4580vME2Ti684jeNP6Gx1JKln/upSE/pYKSL1UmWlk5HDHqKqYBVjzszhhyVfcfP1L1sdS5qoZd9v5cpLnuaknrsZ3DuTay5/lm8X/2R1LGmg9BFSROqlH1ek4fAp49WnYjAMg7NPCyKu+zoK8kuIjAqxOp40MW+9tpBH7g3lmkvCAHA4DN6cNp+TBne1OJk0RBr5EpF6ye324OdnYBgGAHa7gd0O7v8/JFLEi9xuN35+xuHLfr4Gbre2RflnNPIlIvVS3/7tOZjvw/2PFjB4oD9vvFdOvwEdiI4OtTqaNEFjLj2VO256EYe/gc0G90ws4vFnx1gdSxoojXyJSL0UFOTgk4UPsa+wPY9NdRDXpi/T3rr98EiYiDedenoPnppyA2/ODuf1D8N4/JnrOHN4b6tjSQOlox1FpEHJzirghqunsHLlbuLiQnj2hes5cZDm3UjtKSos49Z/v8SiRVsID3fw0COXMeqCAVbHkgZARzuKSKN0xUVPcdJxheRuSeSVxwO55ornyNyTa3UsaURuv2kqzUL3krUhgU+mRzDu/umsWZVudSxpRDTnS0QajJKSCrZuzebHTxMxDINTTwpi0IAqVq3cQULrZlbHk0Zi6ZKtbPs+ntAQO6k97Fx0biDfL91C7+PaWR1NGgmNfIlIgxEQ4AdAxp5qAKqrTdJ2VhEZqaUnpPZERAayJc0JgGmabE1zE6FtTGqRRr5EpMHw8bHz8KMXM3jUB4wcGsiq9U5aJSVx0uAuVkeTRmTCY1dwwXVTOf+sCnZkuCksC+P80QOtjiWNiCbci0iDs/KHNFavSicuPpKzz+mD3W5jz+4cXpoyj5LiUoac3kcTpOUv+f/tpriolFPP+GW7+WnTHr77dgsREUGcM6ofDoefxUmlIfirE+418iUiDU6ffu3p06/94cvZWQUMO/VBrhrjYGBXHx6ftIX8vCKuvWGohSmlvvuj7SYvt4jrbhxK126t6dqttdURpZFS+RKRBu/DWcs5+1Q/JtwTCUDPrv6M/NdnKl/yP330wXLOGvLLdtOrmz8jrviU627UdiN1SxPuRaTBc7vcOBy/LL4a4DBwudwWJpKGwO1yE+D45XLNdqNTBknd08iXiDR4Z53Th2GnfkqnZB/atPblwSeKGX3xIKtjST131jl9OXPIp3RMLqJtorYb8R6VLxFp8NolxzFz9gM8+8QHFBeVMXTkUG68ZTgA33y9kdemzsPtcnPBRUM470IdtdYU7dubxyMPvUv2/jxS+3bi7vvPo227WGbN+Q/PPD6L4nm/3m5E6pKOdhSRRuu7pVu47spnefahcAIcBnc8VMj9465QAWtiigrLGDzgHq640JeBx/nzwvQyfIPa8tqM262OJo2MjnYUkSZv1ruLGHd7CGNG1iyQabfDs298qfLVxHz37RY6JtsYf2cEAMf3cRDVaT1lZZUEBTmO8t0itU8T7kWk0bLb7FRV/TK6X+U0sdv1ttfU2Ow2nEdsB85qE9MEm03bglhDI18i0mhdfvXpjBm1FrvdwOEweOjpYp5+/iIAPB4P69ZkUFpaSY+eSYSFB1mcVmqDaZpsWL+bwkOldE9JJDIqhJMGd+HRh3y5+YF8Bhznx6vvlDPm4oGHT1cl4m2a8yUijdra1TuZ/tpC3C4XF1x0CoNP6YbL5eZflzxN2tYMmsf4sjvTzYdzx9K+Ywur48ox8Hg83HTdS/y4fBOtW/qxfWc17354Hz16JpGfV8Lkp2eTvT+X1D6duPaGoRoFlVqnOV8iIkCv1Lb0Sr3pV9e9+/a3lBfu4aclcfj6GkydUcQ9t7/KJwsnWJRSasOnc1exc9sWNi+JIyDAxsxPSrjthpdYsuJpoqJDeOTxy62OKAJozpeINEG7dx1gyAm++PrWLMx6xuBAdu/KtTiVHKvdGQc5qb8vAQE1v9pqXtd8i1OJ/J7Kl4g0Od1SkvjwsyoK/6+9e4/zcs4bP/76zLmTDqYDnUuhu+RQyTqsVZHDLrLROizaFVattZZ0x977s3ZpubE3biTWnXVaNiF2OyCR81KkhNKZDjOZTWNmmvl+fn/MbBtKaXJ95/B6/mOua675Xu+6HsbL9b2+11VUQYyRCfdvoFfvfz/H7+NVhbwwaz7Ll61L45T6OsXFpbw8+z3eenMxqVTlXel79e7EE1NLWLOuHIAJD2yg137t0jmmtFW+7Sip3jn5lP68+fpCOvV5nsaNM2nZqgX3P3o+AH/9y2zGXHYP+3ZvwHvvf86YX/+Ic34yMM0Ta0vLl63jlO9fTYum5az/tILOe3Vg4kOjOWrgfgw5bRDd+j9Fs2bZNGzUiAceHZXucaWv8IJ7SfVWwboNbNxYQtt2u5OZmUHRpxs5qOconp/chp775LJ46Sb6H/cxz87+A23b7Z7ucVXlx8PG0b/nx4z9RXPKyyMnnbOWQwYcz89GHQfA+sLPKCoqpl373cnKykzztKpPdvSCe992lFRv7Z7fhA4dW27+1NuqVYW0bpVDz31yAejSMZtuXRuwdInXg9UkHy36hBMGNQQgKysw+Hs5LF60YvP3m7doTKfOrQwv1VjGlyRVadc+n7UF5cx+7XMA5swr5f1Fn9Nlr9YAvPXmYi4YfjPnnD6Oxye9ks5R64WVKwr45cg7OOvUa/nfW6ZsvrarR88OTHxkIzFGiotTPDKllB7/0TnN00o7zviSpCpNmjTg9gmjOOncdex96CoG/HA11990Hm3aNGfeO0sZNuT3HLH/UoYdu5arr7qbh/48K90j11mFBT419WMAABETSURBVBs4YdBVtG22gOGnFPL3yU/z6zETAbjmD8N5/rUGdO63ik59l9O2cw/OHj4gzRNLO85rviTpSz77rISVKwrYY4/m7Na08u2tsZffy55N3uLKS1oA8MwLxYwZB1NnjkvnqHXWQ/fPYsaTj/DXCfkAFBRW0OGgpSxb/ScyMjKoqEix5KM1NGiQzZ5tvR5PNYM3WZWkndS4cR57b+Vu91veED0jo/JRNv8y89l3eGLSbPIa5DJ8xGD26rZHEqPWeps2lTPhjmksmL+YLl3bccHI48jLq3zsT0b493aVf9//Xs7MzKDrXm0SnlbaNXzbUZJ2wKmnf5eb7trI+PuK+OuUDYz41XrOOncwAE9Ofo1R5/+Rg7otpFXDOXz/mP9i8aJP0jxxzRdj5MKf/A/PT53CEb0X885rMzjz1HFUVKQYdMwBvPpmOb+9cT1Tpn/GkJ+s44yzDvdh2KoTPPMlSTug9/6d+fPDo7n9lscpLSnlsrEnMXTYYQDc9sdJTPjvFgw+qvLh3GVlBUz80zP85pozNv98aekmsrMz63U8fP55GXl52YRQeUpr+bJ1vPTiu3z0Wjvy8jI4d1ikxxEreOftpex/QGeenHY1f/j9w7zwViHfPfpQRv7iB2n+E0i7hvElSTuo78Hd6Hvwr76yvrR0E013y9683LxpoKhwE1B5z6kR597E7Bc/ICsrg/+86lQuGHlcYjPXBB8sXMXwM2/gw0XraNo0j1vvvIiBR/emtHQTubkZ5OZWxlhWVqBxoww2lVXeob5Dx5bceufIr3tpqVaqv/8LJkm7yA+HHclFYz7l+ZeKeXTKBm4cv5GTTjkUgF9dfCfd269lw6IuzJvZjgm3T+bZGW+neeLkpFIpzjxtHKPOhc+XdmHS3S24aMQtrFi+ji5d29C6TUsuvrKQV98sYey1hZRsyvvCo56kusj4kqRq+tmoExh6xvcZfV3g1okNuW38z+l7cDcAXn3lfcaM2o2srEDH9tmc+cM8Xn3pPQBKSsq45KLb6dp2OD27nc89d01P5x+jWhZ9+AnHDvhPOrQ+hyMP+RVz53wEwNq1/6To0884/8dNCSFwaL8GHHxgQ96es4TMzAweeHQMhaXd+dnYcj5Y1YlHn/z15gvupbrKtx0lqZpCCFww8nguGHn8V77XqtVuvD6nlPZts0mlIv+YW8H3jm8OwDX/9QAFH8/jvdltWbOughPPfoR27fM5evABABR9upEZ0+dSUZFiwMDe7J7fJNE/15fFGHn+uXmsWF5A7wM602u/yjNUZWXlDBvyO34+PItz/tyBKdM3csbQ65j9+o00bdqQkpIUHywuo1uXHDYWp5i/sITWbZoB0GL3Jtxyh28tqn7xzJckfYuuveE8Lhi9ntN/VsARJ61hfXELTj/ruwDMfHYO14xuSqv8LHruk8tF5zZk5jNzAFi9+lMGHH4Fjz/4IFMfe5ijDr2cpUvWbH7dVCrFC7PmM3nSKyxftm6XzVtWVs6MaXN58vHXWLu2aPP6GCOXXHQHV11+G/+Y9RjDTv4t9098DqByrljGz3/ajN2aZHL6kN3o3CGbefOWkZeXwzXjfsx3T17Nj0cV0ueYTzhyYB8O7NN1l80s1TbVOvMVQmgBPAx0ApYAp8YY129luwrgnarFZTFGP7IiqV44+JDuzJh1HS+9uIAmTRow8Jj9ycmp/NXbrHlj3vuwhN7/UfksyQUfVNCyU1MAbhz3KEOOzeD6X1fe1PV3N6/n2t8+yB13X0wqleK8s2/i/QUf0L1rDqN/Wcxd9/6CI47sCVTeHf6qMfcy/50ldOzchmvGnUu79pU3K02lUtxy0xM8OXk2DRrkcsnlp3LUwP0AKC4uZeiJvyVVWkjL/EyuuLSMR5+4kn17tOf1Vz/g5RfnMGdGGxo2zOD9RY3pe8xEhg47nGbNG1FYWMa6ggryd89kY3GKZStKad68MQBnnv099j+wC2/PWcIp5+Rz+BE9Nn/iUaqPqvu24xXAMzHG60IIV1Qtj97Kdp/HGPev5r4kqVZq3yGf004//Cvrr/zNWZx9+vW88GoZq9dG5i7I4G+/HwTAmtWFDDju35+g7NM7hxkvFwDw9JP/YMWSD3lzWhtycgLTn8/j/JF38I95t5JKpThj6LX06/UZd9/QiL89u5IhJ1zNcy/9gUaN8rj5hslMnzKdW65uyuq1pVw44n+476Er6NNvL+65azp7tFjPI3e1IiMjMP6+IsZedjeTnvoNa1YXsW/3XBo2rHzDpHvXHHJyAkVFG2nZsik/vWAwh534LMcPzOW52WUcNfBA9u3RbvP8PXt1pGcvL6SXoPrxdSJwZNXX/wfMZOvxJUn6kv7f2Zsp065mxrS5dOmdw/W396dps0ZV3+vFLXc/waAjGpKdHbhp/Eb6H9oXgJUrC+h3QGX8ABzWrwGrVn1CjJHly9axcsVabp7cloyMwEG983jqmTXMfWsJ3zlsHyY9Mov7/tiMA/fLA2D+wjKefPwV+vTbi1Ur1nJo32wyMv71unn89/hCAHof0JlLLy5m9msN+U7fPG77UxH5LXcjP383AMZcdRr9+u/Du/OWc8kVrTn+B308uyVtQ3Xjq3WM8eOqrz8BWm9ju7wQwhtAOXBdjHHytl4whDACGAHQrr3P65JUt3Xrvifduu/5lfXnXXgMy5Z+QrsDZhJjZOiph3DJZScDcOBBXbnt5mJ+eX4TOnfI4sY7izioTwdCCOTkZlNSUkFJSaRhw0BFRaTonxXk5lb+us/Nzabw09Tm/RR8miK36h5lB/Xbm1tveJWzflhOi+aZ3HzXBg7sU/mpzfYd8rn1zpGc8tP/Zf36z9l779ZMfOjSLwTWgEG9GTCo97f2dyXVFdt9sHYIYQawtQdojQX+L8bYbItt18cYm2/lNdrGGFeGELoAzwIDYoyLtjecD9aWVN9VVKSIMZKVlfmF9ffcNY3fXPkAWZmBjp3yue/h0Zuv6xp5/q2s/Gg+p52Yy7SZZRSVtOYvk68kMzODxye9wpWjJ3DZhY35eG2KiY+U8vdnf0f7DvnEGPnd/3uQO26bSmZmoE/fLtxz36Wbz8ZB5YX3ZWXl5OZmI+mLdvTB2tuNr6/94RAWAkfGGD8OIewBzIwx7r2dn7kXmBJjfHR7r298SdK2bdpUzmcbSmjWvNEXzkBVVKS4d8IM3n1nMZ26tmXEhcd84d5Zzz83j6eeeIUGDfMYft7RdOzU6guvW1JSRmnJpi9El6TtSyq+rgcKtrjgvkWM8fIvbdMcKI4xloYQ8oGXgRNjjPO39/rGlyRJqi12NL6qe5+v64BBIYQPgIFVy4QQ+oQQJlRtsy/wRghhLvAcldd8bTe8JEmS6qJqXXAfYywABmxl/RvAT6u+fgnoVZ39SJIk1RXe4V6SJClBxpckSVKCjC9JkqQEGV+SJEkJMr4kSZISZHxJkiQlyPiSJElKkPElSZKUIONLkiQpQcaXJElSgowvSZKkBBlfkiRJCTK+JEmSEmR8SZIkJcj4kiRJSpDxJUmSlCDjS5IkKUHGlyRJUoKML0mSpAQZX5IkSQkyviRJkhJkfEmSJCXI+JIkSUqQ8SVJkpQg40uSJClBxpckSVKCjC9JkqQEGV+SJEkJMr4kSZISZHxJkiQlyPiSJElKkPElSZKUIONLkiQpQcaXJElSgowvSZKkBBlfkiRJCTK+JEmSEmR8SZIkJcj4kiRJSpDxJUmSlCDjS5IkKUHGlyRJUoKML0mSpAQZX5IkSQkyviRJkhJkfEmSJCXI+JIkSUqQ8SVJkpQg40uSJClBxpckSVKCjC9JkqQEGV+SJEkJMr4kSZISZHxJkiQlyPiSJElKULXiK4QwNITwbgghFULo8zXbDQ4hLAwhfBhCuKI6+5QkSarNqnvmax4wBJi1rQ1CCJnAbcCxQA/gRyGEHtXcryRJUq2UVZ0fjjEuAAghfN1m/YAPY4yLq7Z9CDgRmF+dfUuSJNVGSVzz1RZYvsXyiqp1WxVCGBFCeCOE8EbBun9+68NJkiQlabtnvkIIM4A2W/nW2Bjj47t6oBjjeGA8wP4Hdom7+vUlSZLSabvxFWMcWM19rATab7HcrmqdJElSvZPE246vA91CCJ1DCDnAMOCJBPYrSZJU41T3VhMnhxBWAIcAT4UQplat3zOE8DRAjLEcGAlMBRYAf4kxvlu9sSVJkmqn6n7a8THgsa2sXwUct8Xy08DT1dmXJElSXeAd7iVJkhJkfEmSJCXI+JIkSUqQ8SVJkpQg40uSJClBxpckSVKCjC9JkqQEGV+SJEkJMr4kSZISZHxJkiQlyPiSJElKkPElSZKUIONLkiQpQcaXJElSgowvSZKkBBlfkiRJCTK+JEmSEmR8SZIkJcj4kiRJSpDxJUmSlCDjS5IkKUHGlyRJUoKML0mSpAQZX5IkSQkyviRJkhJkfEmSJCXI+JIkSUqQ8SVJkpQg40uSJClBxpckSVKCjC9JkqQEGV+SJEkJMr4kSZISZHxJkiQlyPiSJElKkPElSZKUIONLkiQpQcaXJElSgowvSZKkBBlfkiRJCTK+JEmSEmR8SZIkJcj4kiRJSpDxJUmSlCDjS5IkKUHGlyRJUoKML0mSpAQZX5IkSQkyviRJkhJkfEmSJCXI+JIkSUqQ8SVJkpQg40uSJClBxpckSVKCjC9JkqQEVSu+QghDQwjvhhBSIYQ+X7PdkhDCOyGEOSGEN6qzT0mSpNosq5o/Pw8YAty5A9t+L8a4rpr7kyRJqtWqFV8xxgUAIYRdM40kSVIdV90zXzsqAtNCCBG4M8Y4flsbhhBGACOqFkvzm5w5L4kB9a3JBzzjWft5HOsGj2Pd4HGsuTruyEbbja8QwgygzVa+NTbG+PgODnNYjHFlCKEVMD2E8F6McdbWNqwKs/FV+34jxrjNa8lU83kM6waPY93gcawbPI6133bjK8Y4sLo7iTGurPrnmhDCY0A/YKvxJUmSVJd967eaCCE0CiE0+dfXwNFUXqgvSZJU71T3VhMnhxBWAIcAT4UQplat3zOE8HTVZq2BF0MIc4HXgKdijH/fwV1s89ow1Roew7rB41g3eBzrBo9jLRdijOmeQZIkqd7wDveSJEkJMr4kSZISVKPjK4RwfQjhvRDC2yGEx0IIzdI9k765HX0MlWqmEMLgEMLCEMKHIYQr0j2PvrkQwj0hhDUhBD/sVIuFENqHEJ4LIcyv+p16cbpn0s6p0fEFTAd6xhj3A94HxqR5Hu2cfz2GytuL1DIhhEzgNuBYoAfwoxBCj/ROpZ1wLzA43UOo2sqBS2OMPYD+wEX++1g71ej4ijFOizGWVy2+ArRL5zzaOTHGBTHGhemeQzulH/BhjHFxjLEMeAg4Mc0z6Ruquql1YbrnUPXEGD+OMb5Z9fUGYAHQNr1TaWfU6Pj6kuHA39I9hFTPtAWWb7G8An/ZS2kXQugEHAC8mt5JtDOSerbjNu3I44tCCGOpPN16f5KzacftosdQSZK2I4TQGPgr8IsY4z/TPY++ubTH1/YeXxRCOAc4ARgQvSlZjbUrHkOlGmkl0H6L5XZV6ySlQQghm8rwuj/GOCnd82jn1Oi3HUMIg4HLgR/EGIvTPY9UD70OdAshdA4h5ADDgCfSPJNUL4UQAnA3sCDGeGO659HOq9HxBdwKNAGmhxDmhBDuSPdA+ua29Rgq1XxVH3gZCUyl8uLev8QY303vVPqmQggPAi8De4cQVoQQfpLumbRTDgXOAo6q+m/inBDCcekeSt+cjxeSJElKUE0/8yVJklSnGF+SJEkJMr4kSZISZHxJkiQlyPiSJElKkPElSZKUIONLkiQpQf8f8bJlAEO8+NwAAAAASUVORK5CYII=\n",
          "text/plain": "<Figure size 720x576 with 1 Axes>"
         },
         "metadata": {
          "needs_background": "light"
         },
         "output_type": "display_data"
        }
       ]
      }
     },
     "6f2ca3679d01431bb07fbb4e3d510d94": {
      "model_module": "@jupyter-widgets/controls",
      "model_module_version": "1.4.0",
      "model_name": "SliderStyleModel",
      "state": {
       "description_width": ""
      }
     },
     "70d9039842e94ff79d50c34f66a852b9": {
      "model_module": "@jupyter-widgets/controls",
      "model_module_version": "1.4.0",
      "model_name": "SliderStyleModel",
      "state": {
       "description_width": ""
      }
     },
     "71a51b646dd34888b2630136197e3e88": {
      "model_module": "@jupyter-widgets/controls",
      "model_module_version": "1.4.0",
      "model_name": "SliderStyleModel",
      "state": {
       "description_width": ""
      }
     },
     "73b866c413454a20be9a79929d0a5a44": {
      "model_module": "@jupyter-widgets/controls",
      "model_module_version": "1.4.0",
      "model_name": "SliderStyleModel",
      "state": {
       "description_width": ""
      }
     },
     "74465281bda9433db359f8729f9e3a4d": {
      "model_module": "@jupyter-widgets/base",
      "model_module_version": "1.1.0",
      "model_name": "LayoutModel",
      "state": {}
     },
     "782886524df54942973ed26d4e44a841": {
      "model_module": "@jupyter-widgets/base",
      "model_module_version": "1.1.0",
      "model_name": "LayoutModel",
      "state": {}
     },
     "7bb63d40eaee477e892bbf04ef79b29f": {
      "model_module": "@jupyter-widgets/output",
      "model_module_version": "1.0.0",
      "model_name": "OutputModel",
      "state": {
       "layout": "IPY_MODEL_f4fda8f323d446f195534e6a20338ddc",
       "outputs": [
        {
         "data": {
          "image/png": "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\n",
          "text/plain": "<Figure size 720x576 with 1 Axes>"
         },
         "metadata": {
          "needs_background": "light"
         },
         "output_type": "display_data"
        }
       ]
      }
     },
     "7c8cd63364404a7da480faebe293d912": {
      "model_module": "@jupyter-widgets/base",
      "model_module_version": "1.1.0",
      "model_name": "LayoutModel",
      "state": {}
     },
     "7d56a793c19345db870202964d2fb155": {
      "model_module": "@jupyter-widgets/controls",
      "model_module_version": "1.4.0",
      "model_name": "SliderStyleModel",
      "state": {
       "description_width": ""
      }
     },
     "7e8b006a23734ba1b00c544d392c4a4d": {
      "model_module": "@jupyter-widgets/controls",
      "model_module_version": "1.4.0",
      "model_name": "SliderStyleModel",
      "state": {
       "description_width": ""
      }
     },
     "83835e11bccd4caca2ff764020fa2054": {
      "model_module": "@jupyter-widgets/base",
      "model_module_version": "1.1.0",
      "model_name": "LayoutModel",
      "state": {}
     },
     "8577b585248046a6b6d844e1a8ff8489": {
      "model_module": "@jupyter-widgets/controls",
      "model_module_version": "1.4.0",
      "model_name": "IntSliderModel",
      "state": {
       "layout": "IPY_MODEL_c39efdceb099467daf35f0c87709b090",
       "min": 1,
       "style": "IPY_MODEL_eef7c7b4863d4b8fa3e57f47bf52153e",
       "value": 1
      }
     },
     "8ea1b230e2504868b28a505c43753c60": {
      "model_module": "@jupyter-widgets/base",
      "model_module_version": "1.1.0",
      "model_name": "LayoutModel",
      "state": {}
     },
     "90caf5d0cf3e4208a6ebaae36639ca92": {
      "model_module": "@jupyter-widgets/controls",
      "model_module_version": "1.4.0",
      "model_name": "IntSliderModel",
      "state": {
       "layout": "IPY_MODEL_692100ffd5764d60a0bd0bda085d85f5",
       "min": 1,
       "style": "IPY_MODEL_3c3160e8ea0545c3994e5970019beca7",
       "value": 1
      }
     },
     "90ecfbbce2cf48b699f01a6bc432897a": {
      "model_module": "@jupyter-widgets/controls",
      "model_module_version": "1.4.0",
      "model_name": "SliderStyleModel",
      "state": {
       "description_width": ""
      }
     },
     "921592c9cceb4402bd4d8553bf68e62e": {
      "model_module": "@jupyter-widgets/controls",
      "model_module_version": "1.4.0",
      "model_name": "SliderStyleModel",
      "state": {
       "description_width": ""
      }
     },
     "94548fcef4c348d289c60529c8c145ba": {
      "model_module": "@jupyter-widgets/base",
      "model_module_version": "1.1.0",
      "model_name": "LayoutModel",
      "state": {}
     },
     "965f440ef5b546718c9a5baaa5c040b3": {
      "model_module": "@jupyter-widgets/base",
      "model_module_version": "1.1.0",
      "model_name": "LayoutModel",
      "state": {}
     },
     "972017ff4e6849c1bd6822821c883055": {
      "model_module": "@jupyter-widgets/controls",
      "model_module_version": "1.4.0",
      "model_name": "IntSliderModel",
      "state": {
       "layout": "IPY_MODEL_83835e11bccd4caca2ff764020fa2054",
       "style": "IPY_MODEL_2091e4e41ed24d58ae69cb938a4f702d",
       "value": 31
      }
     },
     "9949822a41be43b496843f84d1cf71ef": {
      "model_module": "@jupyter-widgets/base",
      "model_module_version": "1.1.0",
      "model_name": "LayoutModel",
      "state": {}
     },
     "9a90d2b7c0434dc58d023e0e3940ead1": {
      "model_module": "@jupyter-widgets/controls",
      "model_module_version": "1.4.0",
      "model_name": "SliderStyleModel",
      "state": {
       "description_width": ""
      }
     },
     "9f74ff5750bf400ab9a9c4876faf5721": {
      "model_module": "@jupyter-widgets/controls",
      "model_module_version": "1.4.0",
      "model_name": "IntSliderModel",
      "state": {
       "layout": "IPY_MODEL_965f440ef5b546718c9a5baaa5c040b3",
       "style": "IPY_MODEL_2d82f370a6d24ecb85a006eb3a905d96"
      }
     },
     "a22765e89bb149a18d0fc63c379ac3e4": {
      "model_module": "@jupyter-widgets/base",
      "model_module_version": "1.1.0",
      "model_name": "LayoutModel",
      "state": {}
     },
     "a2cf17c969db468eac3de26a68df59b6": {
      "model_module": "@jupyter-widgets/controls",
      "model_module_version": "1.4.0",
      "model_name": "SliderStyleModel",
      "state": {
       "description_width": ""
      }
     },
     "a550e27d8405436abf510fcd53f37f87": {
      "model_module": "@jupyter-widgets/controls",
      "model_module_version": "1.4.0",
      "model_name": "IntSliderModel",
      "state": {
       "layout": "IPY_MODEL_4123fdf226f74b46aa80d27047ae5ece",
       "style": "IPY_MODEL_7e8b006a23734ba1b00c544d392c4a4d",
       "value": 86
      }
     },
     "a95ef754a7404eca817e7f0073f8ea4f": {
      "model_module": "@jupyter-widgets/output",
      "model_module_version": "1.0.0",
      "model_name": "OutputModel",
      "state": {
       "layout": "IPY_MODEL_9949822a41be43b496843f84d1cf71ef",
       "outputs": [
        {
         "ename": "ValueError",
         "evalue": "max_depth must be greater than zero. ",
         "output_type": "error",
         "traceback": [
          "\u001b[0;31m---------------------------------------------------------------------------\u001b[0m",
          "\u001b[0;31mValueError\u001b[0m                                Traceback (most recent call last)",
          "\u001b[0;32m/usr/local/lib/python3.5/dist-packages/ipywidgets/widgets/interaction.py\u001b[0m in \u001b[0;36mobserver\u001b[0;34m(change)\u001b[0m\n\u001b[1;32m     72\u001b[0m         \u001b[0;32mwith\u001b[0m \u001b[0mout\u001b[0m\u001b[0;34m:\u001b[0m\u001b[0;34m\u001b[0m\u001b[0m\n\u001b[1;32m     73\u001b[0m             \u001b[0mclear_output\u001b[0m\u001b[0;34m(\u001b[0m\u001b[0mwait\u001b[0m\u001b[0;34m=\u001b[0m\u001b[0;32mTrue\u001b[0m\u001b[0;34m)\u001b[0m\u001b[0;34m\u001b[0m\u001b[0m\n\u001b[0;32m---> 74\u001b[0;31m             \u001b[0mf\u001b[0m\u001b[0;34m(\u001b[0m\u001b[0;34m**\u001b[0m\u001b[0mkwargs\u001b[0m\u001b[0;34m)\u001b[0m\u001b[0;34m\u001b[0m\u001b[0m\n\u001b[0m\u001b[1;32m     75\u001b[0m             \u001b[0mshow_inline_matplotlib_plots\u001b[0m\u001b[0;34m(\u001b[0m\u001b[0;34m)\u001b[0m\u001b[0;34m\u001b[0m\u001b[0m\n\u001b[1;32m     76\u001b[0m     \u001b[0;32mfor\u001b[0m \u001b[0mk\u001b[0m\u001b[0;34m,\u001b[0m\u001b[0mw\u001b[0m \u001b[0;32min\u001b[0m \u001b[0mcontrols\u001b[0m\u001b[0;34m.\u001b[0m\u001b[0mitems\u001b[0m\u001b[0;34m(\u001b[0m\u001b[0;34m)\u001b[0m\u001b[0;34m:\u001b[0m\u001b[0;34m\u001b[0m\u001b[0m\n",
          "\u001b[0;32m<ipython-input-3-9aac79b9ab20>\u001b[0m in \u001b[0;36mplot\u001b[0;34m(noise, depth, tree)\u001b[0m\n\u001b[1;32m      1\u001b[0m \u001b[0;32mdef\u001b[0m \u001b[0mplot\u001b[0m\u001b[0;34m(\u001b[0m\u001b[0mnoise\u001b[0m\u001b[0;34m,\u001b[0m \u001b[0mdepth\u001b[0m\u001b[0;34m,\u001b[0m \u001b[0mtree\u001b[0m\u001b[0;34m)\u001b[0m\u001b[0;34m:\u001b[0m\u001b[0;34m\u001b[0m\u001b[0m\n\u001b[1;32m      2\u001b[0m     \u001b[0mX\u001b[0m\u001b[0;34m,\u001b[0m \u001b[0my\u001b[0m \u001b[0;34m=\u001b[0m \u001b[0mmake_moons\u001b[0m\u001b[0;34m(\u001b[0m\u001b[0mn_samples\u001b[0m\u001b[0;34m=\u001b[0m\u001b[0;36m100\u001b[0m\u001b[0;34m,\u001b[0m \u001b[0mnoise\u001b[0m\u001b[0;34m=\u001b[0m\u001b[0mnoise\u001b[0m\u001b[0;34m,\u001b[0m \u001b[0mrandom_state\u001b[0m\u001b[0;34m=\u001b[0m\u001b[0;36m23\u001b[0m\u001b[0;34m)\u001b[0m\u001b[0;34m\u001b[0m\u001b[0m\n\u001b[0;32m----> 3\u001b[0;31m     \u001b[0mclassifier\u001b[0m \u001b[0;34m=\u001b[0m \u001b[0mRandomForestClassifier\u001b[0m\u001b[0;34m(\u001b[0m\u001b[0mn_estimators\u001b[0m\u001b[0;34m=\u001b[0m\u001b[0mtree\u001b[0m\u001b[0;34m,\u001b[0m \u001b[0mmax_depth\u001b[0m\u001b[0;34m=\u001b[0m\u001b[0mdepth\u001b[0m\u001b[0;34m,\u001b[0m \u001b[0mrandom_state\u001b[0m\u001b[0;34m=\u001b[0m\u001b[0;36m23\u001b[0m\u001b[0;34m)\u001b[0m\u001b[0;34m.\u001b[0m\u001b[0mfit\u001b[0m\u001b[0;34m(\u001b[0m\u001b[0mX\u001b[0m\u001b[0;34m,\u001b[0m \u001b[0my\u001b[0m\u001b[0;34m)\u001b[0m\u001b[0;34m\u001b[0m\u001b[0m\n\u001b[0m\u001b[1;32m      4\u001b[0m     \u001b[0mplot_boundary\u001b[0m\u001b[0;34m(\u001b[0m\u001b[0mclassifier\u001b[0m\u001b[0;34m,\u001b[0m \u001b[0mX\u001b[0m\u001b[0;34m,\u001b[0m \u001b[0my\u001b[0m\u001b[0;34m)\u001b[0m\u001b[0;34m\u001b[0m\u001b[0m\n",
          "\u001b[0;32m/usr/local/lib/python3.5/dist-packages/sklearn/ensemble/forest.py\u001b[0m in \u001b[0;36mfit\u001b[0;34m(self, X, y, sample_weight)\u001b[0m\n\u001b[1;32m    333\u001b[0m                     \u001b[0mt\u001b[0m\u001b[0;34m,\u001b[0m \u001b[0mself\u001b[0m\u001b[0;34m,\u001b[0m \u001b[0mX\u001b[0m\u001b[0;34m,\u001b[0m \u001b[0my\u001b[0m\u001b[0;34m,\u001b[0m \u001b[0msample_weight\u001b[0m\u001b[0;34m,\u001b[0m \u001b[0mi\u001b[0m\u001b[0;34m,\u001b[0m \u001b[0mlen\u001b[0m\u001b[0;34m(\u001b[0m\u001b[0mtrees\u001b[0m\u001b[0;34m)\u001b[0m\u001b[0;34m,\u001b[0m\u001b[0;34m\u001b[0m\u001b[0m\n\u001b[1;32m    334\u001b[0m                     verbose=self.verbose, class_weight=self.class_weight)\n\u001b[0;32m--> 335\u001b[0;31m                 for i, t in enumerate(trees))\n\u001b[0m\u001b[1;32m    336\u001b[0m \u001b[0;34m\u001b[0m\u001b[0m\n\u001b[1;32m    337\u001b[0m             \u001b[0;31m# Collect newly grown trees\u001b[0m\u001b[0;34m\u001b[0m\u001b[0;34m\u001b[0m\u001b[0m\n",
          "\u001b[0;32m/usr/local/lib/python3.5/dist-packages/sklearn/externals/joblib/parallel.py\u001b[0m in \u001b[0;36m__call__\u001b[0;34m(self, iterable)\u001b[0m\n\u001b[1;32m    981\u001b[0m             \u001b[0;31m# remaining jobs.\u001b[0m\u001b[0;34m\u001b[0m\u001b[0;34m\u001b[0m\u001b[0m\n\u001b[1;32m    982\u001b[0m             \u001b[0mself\u001b[0m\u001b[0;34m.\u001b[0m\u001b[0m_iterating\u001b[0m \u001b[0;34m=\u001b[0m \u001b[0;32mFalse\u001b[0m\u001b[0;34m\u001b[0m\u001b[0m\n\u001b[0;32m--> 983\u001b[0;31m             \u001b[0;32mif\u001b[0m \u001b[0mself\u001b[0m\u001b[0;34m.\u001b[0m\u001b[0mdispatch_one_batch\u001b[0m\u001b[0;34m(\u001b[0m\u001b[0miterator\u001b[0m\u001b[0;34m)\u001b[0m\u001b[0;34m:\u001b[0m\u001b[0;34m\u001b[0m\u001b[0m\n\u001b[0m\u001b[1;32m    984\u001b[0m                 \u001b[0mself\u001b[0m\u001b[0;34m.\u001b[0m\u001b[0m_iterating\u001b[0m \u001b[0;34m=\u001b[0m \u001b[0mself\u001b[0m\u001b[0;34m.\u001b[0m\u001b[0m_original_iterator\u001b[0m \u001b[0;32mis\u001b[0m \u001b[0;32mnot\u001b[0m \u001b[0;32mNone\u001b[0m\u001b[0;34m\u001b[0m\u001b[0m\n\u001b[1;32m    985\u001b[0m \u001b[0;34m\u001b[0m\u001b[0m\n",
          "\u001b[0;32m/usr/local/lib/python3.5/dist-packages/sklearn/externals/joblib/parallel.py\u001b[0m in \u001b[0;36mdispatch_one_batch\u001b[0;34m(self, iterator)\u001b[0m\n\u001b[1;32m    823\u001b[0m                 \u001b[0;32mreturn\u001b[0m \u001b[0;32mFalse\u001b[0m\u001b[0;34m\u001b[0m\u001b[0m\n\u001b[1;32m    824\u001b[0m             \u001b[0;32melse\u001b[0m\u001b[0;34m:\u001b[0m\u001b[0;34m\u001b[0m\u001b[0m\n\u001b[0;32m--> 825\u001b[0;31m                 \u001b[0mself\u001b[0m\u001b[0;34m.\u001b[0m\u001b[0m_dispatch\u001b[0m\u001b[0;34m(\u001b[0m\u001b[0mtasks\u001b[0m\u001b[0;34m)\u001b[0m\u001b[0;34m\u001b[0m\u001b[0m\n\u001b[0m\u001b[1;32m    826\u001b[0m                 \u001b[0;32mreturn\u001b[0m \u001b[0;32mTrue\u001b[0m\u001b[0;34m\u001b[0m\u001b[0m\n\u001b[1;32m    827\u001b[0m \u001b[0;34m\u001b[0m\u001b[0m\n",
          "\u001b[0;32m/usr/local/lib/python3.5/dist-packages/sklearn/externals/joblib/parallel.py\u001b[0m in \u001b[0;36m_dispatch\u001b[0;34m(self, batch)\u001b[0m\n\u001b[1;32m    780\u001b[0m         \u001b[0;32mwith\u001b[0m \u001b[0mself\u001b[0m\u001b[0;34m.\u001b[0m\u001b[0m_lock\u001b[0m\u001b[0;34m:\u001b[0m\u001b[0;34m\u001b[0m\u001b[0m\n\u001b[1;32m    781\u001b[0m             \u001b[0mjob_idx\u001b[0m \u001b[0;34m=\u001b[0m \u001b[0mlen\u001b[0m\u001b[0;34m(\u001b[0m\u001b[0mself\u001b[0m\u001b[0;34m.\u001b[0m\u001b[0m_jobs\u001b[0m\u001b[0;34m)\u001b[0m\u001b[0;34m\u001b[0m\u001b[0m\n\u001b[0;32m--> 782\u001b[0;31m             \u001b[0mjob\u001b[0m \u001b[0;34m=\u001b[0m \u001b[0mself\u001b[0m\u001b[0;34m.\u001b[0m\u001b[0m_backend\u001b[0m\u001b[0;34m.\u001b[0m\u001b[0mapply_async\u001b[0m\u001b[0;34m(\u001b[0m\u001b[0mbatch\u001b[0m\u001b[0;34m,\u001b[0m \u001b[0mcallback\u001b[0m\u001b[0;34m=\u001b[0m\u001b[0mcb\u001b[0m\u001b[0;34m)\u001b[0m\u001b[0;34m\u001b[0m\u001b[0m\n\u001b[0m\u001b[1;32m    783\u001b[0m             \u001b[0;31m# A job can complete so quickly than its callback is\u001b[0m\u001b[0;34m\u001b[0m\u001b[0;34m\u001b[0m\u001b[0m\n\u001b[1;32m    784\u001b[0m             \u001b[0;31m# called before we get here, causing self._jobs to\u001b[0m\u001b[0;34m\u001b[0m\u001b[0;34m\u001b[0m\u001b[0m\n",
          "\u001b[0;32m/usr/local/lib/python3.5/dist-packages/sklearn/externals/joblib/_parallel_backends.py\u001b[0m in \u001b[0;36mapply_async\u001b[0;34m(self, func, callback)\u001b[0m\n\u001b[1;32m    180\u001b[0m     \u001b[0;32mdef\u001b[0m \u001b[0mapply_async\u001b[0m\u001b[0;34m(\u001b[0m\u001b[0mself\u001b[0m\u001b[0;34m,\u001b[0m \u001b[0mfunc\u001b[0m\u001b[0;34m,\u001b[0m \u001b[0mcallback\u001b[0m\u001b[0;34m=\u001b[0m\u001b[0;32mNone\u001b[0m\u001b[0;34m)\u001b[0m\u001b[0;34m:\u001b[0m\u001b[0;34m\u001b[0m\u001b[0m\n\u001b[1;32m    181\u001b[0m         \u001b[0;34m\"\"\"Schedule a func to be run\"\"\"\u001b[0m\u001b[0;34m\u001b[0m\u001b[0m\n\u001b[0;32m--> 182\u001b[0;31m         \u001b[0mresult\u001b[0m \u001b[0;34m=\u001b[0m \u001b[0mImmediateResult\u001b[0m\u001b[0;34m(\u001b[0m\u001b[0mfunc\u001b[0m\u001b[0;34m)\u001b[0m\u001b[0;34m\u001b[0m\u001b[0m\n\u001b[0m\u001b[1;32m    183\u001b[0m         \u001b[0;32mif\u001b[0m \u001b[0mcallback\u001b[0m\u001b[0;34m:\u001b[0m\u001b[0;34m\u001b[0m\u001b[0m\n\u001b[1;32m    184\u001b[0m             \u001b[0mcallback\u001b[0m\u001b[0;34m(\u001b[0m\u001b[0mresult\u001b[0m\u001b[0;34m)\u001b[0m\u001b[0;34m\u001b[0m\u001b[0m\n",
          "\u001b[0;32m/usr/local/lib/python3.5/dist-packages/sklearn/externals/joblib/_parallel_backends.py\u001b[0m in \u001b[0;36m__init__\u001b[0;34m(self, batch)\u001b[0m\n\u001b[1;32m    543\u001b[0m         \u001b[0;31m# Don't delay the application, to avoid keeping the input\u001b[0m\u001b[0;34m\u001b[0m\u001b[0;34m\u001b[0m\u001b[0m\n\u001b[1;32m    544\u001b[0m         \u001b[0;31m# arguments in memory\u001b[0m\u001b[0;34m\u001b[0m\u001b[0;34m\u001b[0m\u001b[0m\n\u001b[0;32m--> 545\u001b[0;31m         \u001b[0mself\u001b[0m\u001b[0;34m.\u001b[0m\u001b[0mresults\u001b[0m \u001b[0;34m=\u001b[0m \u001b[0mbatch\u001b[0m\u001b[0;34m(\u001b[0m\u001b[0;34m)\u001b[0m\u001b[0;34m\u001b[0m\u001b[0m\n\u001b[0m\u001b[1;32m    546\u001b[0m \u001b[0;34m\u001b[0m\u001b[0m\n\u001b[1;32m    547\u001b[0m     \u001b[0;32mdef\u001b[0m \u001b[0mget\u001b[0m\u001b[0;34m(\u001b[0m\u001b[0mself\u001b[0m\u001b[0;34m)\u001b[0m\u001b[0;34m:\u001b[0m\u001b[0;34m\u001b[0m\u001b[0m\n",
          "\u001b[0;32m/usr/local/lib/python3.5/dist-packages/sklearn/externals/joblib/parallel.py\u001b[0m in \u001b[0;36m__call__\u001b[0;34m(self)\u001b[0m\n\u001b[1;32m    259\u001b[0m         \u001b[0;32mwith\u001b[0m \u001b[0mparallel_backend\u001b[0m\u001b[0;34m(\u001b[0m\u001b[0mself\u001b[0m\u001b[0;34m.\u001b[0m\u001b[0m_backend\u001b[0m\u001b[0;34m)\u001b[0m\u001b[0;34m:\u001b[0m\u001b[0;34m\u001b[0m\u001b[0m\n\u001b[1;32m    260\u001b[0m             return [func(*args, **kwargs)\n\u001b[0;32m--> 261\u001b[0;31m                     for func, args, kwargs in self.items]\n\u001b[0m\u001b[1;32m    262\u001b[0m \u001b[0;34m\u001b[0m\u001b[0m\n\u001b[1;32m    263\u001b[0m     \u001b[0;32mdef\u001b[0m \u001b[0m__len__\u001b[0m\u001b[0;34m(\u001b[0m\u001b[0mself\u001b[0m\u001b[0;34m)\u001b[0m\u001b[0;34m:\u001b[0m\u001b[0;34m\u001b[0m\u001b[0m\n",
          "\u001b[0;32m/usr/local/lib/python3.5/dist-packages/sklearn/externals/joblib/parallel.py\u001b[0m in \u001b[0;36m<listcomp>\u001b[0;34m(.0)\u001b[0m\n\u001b[1;32m    259\u001b[0m         \u001b[0;32mwith\u001b[0m \u001b[0mparallel_backend\u001b[0m\u001b[0;34m(\u001b[0m\u001b[0mself\u001b[0m\u001b[0;34m.\u001b[0m\u001b[0m_backend\u001b[0m\u001b[0;34m)\u001b[0m\u001b[0;34m:\u001b[0m\u001b[0;34m\u001b[0m\u001b[0m\n\u001b[1;32m    260\u001b[0m             return [func(*args, **kwargs)\n\u001b[0;32m--> 261\u001b[0;31m                     for func, args, kwargs in self.items]\n\u001b[0m\u001b[1;32m    262\u001b[0m \u001b[0;34m\u001b[0m\u001b[0m\n\u001b[1;32m    263\u001b[0m     \u001b[0;32mdef\u001b[0m \u001b[0m__len__\u001b[0m\u001b[0;34m(\u001b[0m\u001b[0mself\u001b[0m\u001b[0;34m)\u001b[0m\u001b[0;34m:\u001b[0m\u001b[0;34m\u001b[0m\u001b[0m\n",
          "\u001b[0;32m/usr/local/lib/python3.5/dist-packages/sklearn/ensemble/forest.py\u001b[0m in \u001b[0;36m_parallel_build_trees\u001b[0;34m(tree, forest, X, y, sample_weight, tree_idx, n_trees, verbose, class_weight)\u001b[0m\n\u001b[1;32m    119\u001b[0m             \u001b[0mcurr_sample_weight\u001b[0m \u001b[0;34m*=\u001b[0m \u001b[0mcompute_sample_weight\u001b[0m\u001b[0;34m(\u001b[0m\u001b[0;34m'balanced'\u001b[0m\u001b[0;34m,\u001b[0m \u001b[0my\u001b[0m\u001b[0;34m,\u001b[0m \u001b[0mindices\u001b[0m\u001b[0;34m)\u001b[0m\u001b[0;34m\u001b[0m\u001b[0m\n\u001b[1;32m    120\u001b[0m \u001b[0;34m\u001b[0m\u001b[0m\n\u001b[0;32m--> 121\u001b[0;31m         \u001b[0mtree\u001b[0m\u001b[0;34m.\u001b[0m\u001b[0mfit\u001b[0m\u001b[0;34m(\u001b[0m\u001b[0mX\u001b[0m\u001b[0;34m,\u001b[0m \u001b[0my\u001b[0m\u001b[0;34m,\u001b[0m \u001b[0msample_weight\u001b[0m\u001b[0;34m=\u001b[0m\u001b[0mcurr_sample_weight\u001b[0m\u001b[0;34m,\u001b[0m \u001b[0mcheck_input\u001b[0m\u001b[0;34m=\u001b[0m\u001b[0;32mFalse\u001b[0m\u001b[0;34m)\u001b[0m\u001b[0;34m\u001b[0m\u001b[0m\n\u001b[0m\u001b[1;32m    122\u001b[0m     \u001b[0;32melse\u001b[0m\u001b[0;34m:\u001b[0m\u001b[0;34m\u001b[0m\u001b[0m\n\u001b[1;32m    123\u001b[0m         \u001b[0mtree\u001b[0m\u001b[0;34m.\u001b[0m\u001b[0mfit\u001b[0m\u001b[0;34m(\u001b[0m\u001b[0mX\u001b[0m\u001b[0;34m,\u001b[0m \u001b[0my\u001b[0m\u001b[0;34m,\u001b[0m \u001b[0msample_weight\u001b[0m\u001b[0;34m=\u001b[0m\u001b[0msample_weight\u001b[0m\u001b[0;34m,\u001b[0m \u001b[0mcheck_input\u001b[0m\u001b[0;34m=\u001b[0m\u001b[0;32mFalse\u001b[0m\u001b[0;34m)\u001b[0m\u001b[0;34m\u001b[0m\u001b[0m\n",
          "\u001b[0;32m/usr/local/lib/python3.5/dist-packages/sklearn/tree/tree.py\u001b[0m in \u001b[0;36mfit\u001b[0;34m(self, X, y, sample_weight, check_input, X_idx_sorted)\u001b[0m\n\u001b[1;32m    797\u001b[0m             \u001b[0msample_weight\u001b[0m\u001b[0;34m=\u001b[0m\u001b[0msample_weight\u001b[0m\u001b[0;34m,\u001b[0m\u001b[0;34m\u001b[0m\u001b[0m\n\u001b[1;32m    798\u001b[0m             \u001b[0mcheck_input\u001b[0m\u001b[0;34m=\u001b[0m\u001b[0mcheck_input\u001b[0m\u001b[0;34m,\u001b[0m\u001b[0;34m\u001b[0m\u001b[0m\n\u001b[0;32m--> 799\u001b[0;31m             X_idx_sorted=X_idx_sorted)\n\u001b[0m\u001b[1;32m    800\u001b[0m         \u001b[0;32mreturn\u001b[0m \u001b[0mself\u001b[0m\u001b[0;34m\u001b[0m\u001b[0m\n\u001b[1;32m    801\u001b[0m \u001b[0;34m\u001b[0m\u001b[0m\n",
          "\u001b[0;32m/usr/local/lib/python3.5/dist-packages/sklearn/tree/tree.py\u001b[0m in \u001b[0;36mfit\u001b[0;34m(self, X, y, sample_weight, check_input, X_idx_sorted)\u001b[0m\n\u001b[1;32m    238\u001b[0m             \u001b[0;32mraise\u001b[0m \u001b[0mValueError\u001b[0m\u001b[0;34m(\u001b[0m\u001b[0;34m\"min_weight_fraction_leaf must in [0, 0.5]\"\u001b[0m\u001b[0;34m)\u001b[0m\u001b[0;34m\u001b[0m\u001b[0m\n\u001b[1;32m    239\u001b[0m         \u001b[0;32mif\u001b[0m \u001b[0mmax_depth\u001b[0m \u001b[0;34m<=\u001b[0m \u001b[0;36m0\u001b[0m\u001b[0;34m:\u001b[0m\u001b[0;34m\u001b[0m\u001b[0m\n\u001b[0;32m--> 240\u001b[0;31m             \u001b[0;32mraise\u001b[0m \u001b[0mValueError\u001b[0m\u001b[0;34m(\u001b[0m\u001b[0;34m\"max_depth must be greater than zero. \"\u001b[0m\u001b[0;34m)\u001b[0m\u001b[0;34m\u001b[0m\u001b[0m\n\u001b[0m\u001b[1;32m    241\u001b[0m         \u001b[0;32mif\u001b[0m \u001b[0;32mnot\u001b[0m \u001b[0;34m(\u001b[0m\u001b[0;36m0\u001b[0m \u001b[0;34m<\u001b[0m \u001b[0mmax_features\u001b[0m \u001b[0;34m<=\u001b[0m \u001b[0mself\u001b[0m\u001b[0;34m.\u001b[0m\u001b[0mn_features_\u001b[0m\u001b[0;34m)\u001b[0m\u001b[0;34m:\u001b[0m\u001b[0;34m\u001b[0m\u001b[0m\n\u001b[1;32m    242\u001b[0m             \u001b[0;32mraise\u001b[0m \u001b[0mValueError\u001b[0m\u001b[0;34m(\u001b[0m\u001b[0;34m\"max_features must be in (0, n_features]\"\u001b[0m\u001b[0;34m)\u001b[0m\u001b[0;34m\u001b[0m\u001b[0m\n",
          "\u001b[0;31mValueError\u001b[0m: max_depth must be greater than zero. "
         ]
        }
       ]
      }
     },
     "aec16ab0e14641c08feecdab364fae8a": {
      "model_module": "@jupyter-widgets/base",
      "model_module_version": "1.1.0",
      "model_name": "LayoutModel",
      "state": {}
     },
     "b3463096123a45f99d79e2348d1f66e0": {
      "model_module": "@jupyter-widgets/base",
      "model_module_version": "1.1.0",
      "model_name": "LayoutModel",
      "state": {}
     },
     "b513c5b766c54cf8ba8242e775e95870": {
      "model_module": "@jupyter-widgets/controls",
      "model_module_version": "1.4.0",
      "model_name": "SliderStyleModel",
      "state": {
       "description_width": ""
      }
     },
     "b5bff1eb1dab40d5938aed110571d6c9": {
      "model_module": "@jupyter-widgets/base",
      "model_module_version": "1.1.0",
      "model_name": "LayoutModel",
      "state": {}
     },
     "b66143f8a4504604bd0ac3886556e7c4": {
      "model_module": "@jupyter-widgets/controls",
      "model_module_version": "1.4.0",
      "model_name": "IntSliderModel",
      "state": {
       "layout": "IPY_MODEL_b7042255ea5f4eba9d0d5a7992289a83",
       "style": "IPY_MODEL_70d9039842e94ff79d50c34f66a852b9",
       "value": 1
      }
     },
     "b7042255ea5f4eba9d0d5a7992289a83": {
      "model_module": "@jupyter-widgets/base",
      "model_module_version": "1.1.0",
      "model_name": "LayoutModel",
      "state": {}
     },
     "b7d1f95a2b6a4574b84789ea4ee2254e": {
      "model_module": "@jupyter-widgets/base",
      "model_module_version": "1.1.0",
      "model_name": "LayoutModel",
      "state": {}
     },
     "bbf22f972aa74208903747d33e6d6cfd": {
      "model_module": "@jupyter-widgets/base",
      "model_module_version": "1.1.0",
      "model_name": "LayoutModel",
      "state": {}
     },
     "c09ae1903ae9448c8f3e2622a63217f8": {
      "model_module": "@jupyter-widgets/controls",
      "model_module_version": "1.4.0",
      "model_name": "SliderStyleModel",
      "state": {
       "description_width": ""
      }
     },
     "c39efdceb099467daf35f0c87709b090": {
      "model_module": "@jupyter-widgets/base",
      "model_module_version": "1.1.0",
      "model_name": "LayoutModel",
      "state": {}
     },
     "c443f825c9e24221a966f2a013b61601": {
      "model_module": "@jupyter-widgets/base",
      "model_module_version": "1.1.0",
      "model_name": "LayoutModel",
      "state": {}
     },
     "c725b6f3c74b4c5bb03fe6f875530fa5": {
      "model_module": "@jupyter-widgets/controls",
      "model_module_version": "1.4.0",
      "model_name": "IntSliderModel",
      "state": {
       "layout": "IPY_MODEL_e5fefbbc557741f78ecf4cd84da62086",
       "min": 1,
       "style": "IPY_MODEL_7d56a793c19345db870202964d2fb155",
       "value": 1
      }
     },
     "c7ae76fbfaf44f0987005f723d1d7555": {
      "model_module": "@jupyter-widgets/output",
      "model_module_version": "1.0.0",
      "model_name": "OutputModel",
      "state": {
       "layout": "IPY_MODEL_4f7afeaa1c324b06ad771a2df3ab9e41",
       "outputs": [
        {
         "ename": "ValueError",
         "evalue": "n_estimators must be greater than zero, got 0.",
         "output_type": "error",
         "traceback": [
          "\u001b[0;31m---------------------------------------------------------------------------\u001b[0m",
          "\u001b[0;31mValueError\u001b[0m                                Traceback (most recent call last)",
          "\u001b[0;32m/usr/local/lib/python3.5/dist-packages/ipywidgets/widgets/interaction.py\u001b[0m in \u001b[0;36mobserver\u001b[0;34m(change)\u001b[0m\n\u001b[1;32m     72\u001b[0m         \u001b[0;32mwith\u001b[0m \u001b[0mout\u001b[0m\u001b[0;34m:\u001b[0m\u001b[0;34m\u001b[0m\u001b[0m\n\u001b[1;32m     73\u001b[0m             \u001b[0mclear_output\u001b[0m\u001b[0;34m(\u001b[0m\u001b[0mwait\u001b[0m\u001b[0;34m=\u001b[0m\u001b[0;32mTrue\u001b[0m\u001b[0;34m)\u001b[0m\u001b[0;34m\u001b[0m\u001b[0m\n\u001b[0;32m---> 74\u001b[0;31m             \u001b[0mf\u001b[0m\u001b[0;34m(\u001b[0m\u001b[0;34m**\u001b[0m\u001b[0mkwargs\u001b[0m\u001b[0;34m)\u001b[0m\u001b[0;34m\u001b[0m\u001b[0m\n\u001b[0m\u001b[1;32m     75\u001b[0m             \u001b[0mshow_inline_matplotlib_plots\u001b[0m\u001b[0;34m(\u001b[0m\u001b[0;34m)\u001b[0m\u001b[0;34m\u001b[0m\u001b[0m\n\u001b[1;32m     76\u001b[0m     \u001b[0;32mfor\u001b[0m \u001b[0mk\u001b[0m\u001b[0;34m,\u001b[0m\u001b[0mw\u001b[0m \u001b[0;32min\u001b[0m \u001b[0mcontrols\u001b[0m\u001b[0;34m.\u001b[0m\u001b[0mitems\u001b[0m\u001b[0;34m(\u001b[0m\u001b[0;34m)\u001b[0m\u001b[0;34m:\u001b[0m\u001b[0;34m\u001b[0m\u001b[0m\n",
          "\u001b[0;32m<ipython-input-3-9aac79b9ab20>\u001b[0m in \u001b[0;36mplot\u001b[0;34m(noise, depth, tree)\u001b[0m\n\u001b[1;32m      1\u001b[0m \u001b[0;32mdef\u001b[0m \u001b[0mplot\u001b[0m\u001b[0;34m(\u001b[0m\u001b[0mnoise\u001b[0m\u001b[0;34m,\u001b[0m \u001b[0mdepth\u001b[0m\u001b[0;34m,\u001b[0m \u001b[0mtree\u001b[0m\u001b[0;34m)\u001b[0m\u001b[0;34m:\u001b[0m\u001b[0;34m\u001b[0m\u001b[0m\n\u001b[1;32m      2\u001b[0m     \u001b[0mX\u001b[0m\u001b[0;34m,\u001b[0m \u001b[0my\u001b[0m \u001b[0;34m=\u001b[0m \u001b[0mmake_moons\u001b[0m\u001b[0;34m(\u001b[0m\u001b[0mn_samples\u001b[0m\u001b[0;34m=\u001b[0m\u001b[0;36m100\u001b[0m\u001b[0;34m,\u001b[0m \u001b[0mnoise\u001b[0m\u001b[0;34m=\u001b[0m\u001b[0mnoise\u001b[0m\u001b[0;34m,\u001b[0m \u001b[0mrandom_state\u001b[0m\u001b[0;34m=\u001b[0m\u001b[0;36m23\u001b[0m\u001b[0;34m)\u001b[0m\u001b[0;34m\u001b[0m\u001b[0m\n\u001b[0;32m----> 3\u001b[0;31m     \u001b[0mclassifier\u001b[0m \u001b[0;34m=\u001b[0m \u001b[0mRandomForestClassifier\u001b[0m\u001b[0;34m(\u001b[0m\u001b[0mn_estimators\u001b[0m\u001b[0;34m=\u001b[0m\u001b[0mtree\u001b[0m\u001b[0;34m,\u001b[0m \u001b[0mmax_depth\u001b[0m\u001b[0;34m=\u001b[0m\u001b[0mdepth\u001b[0m\u001b[0;34m,\u001b[0m \u001b[0mrandom_state\u001b[0m\u001b[0;34m=\u001b[0m\u001b[0;36m23\u001b[0m\u001b[0;34m)\u001b[0m\u001b[0;34m.\u001b[0m\u001b[0mfit\u001b[0m\u001b[0;34m(\u001b[0m\u001b[0mX\u001b[0m\u001b[0;34m,\u001b[0m \u001b[0my\u001b[0m\u001b[0;34m)\u001b[0m\u001b[0;34m\u001b[0m\u001b[0m\n\u001b[0m\u001b[1;32m      4\u001b[0m     \u001b[0mplot_boundary\u001b[0m\u001b[0;34m(\u001b[0m\u001b[0mclassifier\u001b[0m\u001b[0;34m,\u001b[0m \u001b[0mX\u001b[0m\u001b[0;34m,\u001b[0m \u001b[0my\u001b[0m\u001b[0;34m)\u001b[0m\u001b[0;34m\u001b[0m\u001b[0m\n",
          "\u001b[0;32m/usr/local/lib/python3.5/dist-packages/sklearn/ensemble/forest.py\u001b[0m in \u001b[0;36mfit\u001b[0;34m(self, X, y, sample_weight)\u001b[0m\n\u001b[1;32m    288\u001b[0m \u001b[0;34m\u001b[0m\u001b[0m\n\u001b[1;32m    289\u001b[0m         \u001b[0;31m# Check parameters\u001b[0m\u001b[0;34m\u001b[0m\u001b[0;34m\u001b[0m\u001b[0m\n\u001b[0;32m--> 290\u001b[0;31m         \u001b[0mself\u001b[0m\u001b[0;34m.\u001b[0m\u001b[0m_validate_estimator\u001b[0m\u001b[0;34m(\u001b[0m\u001b[0;34m)\u001b[0m\u001b[0;34m\u001b[0m\u001b[0m\n\u001b[0m\u001b[1;32m    291\u001b[0m \u001b[0;34m\u001b[0m\u001b[0m\n\u001b[1;32m    292\u001b[0m         \u001b[0;32mif\u001b[0m \u001b[0;32mnot\u001b[0m \u001b[0mself\u001b[0m\u001b[0;34m.\u001b[0m\u001b[0mbootstrap\u001b[0m \u001b[0;32mand\u001b[0m \u001b[0mself\u001b[0m\u001b[0;34m.\u001b[0m\u001b[0moob_score\u001b[0m\u001b[0;34m:\u001b[0m\u001b[0;34m\u001b[0m\u001b[0m\n",
          "\u001b[0;32m/usr/local/lib/python3.5/dist-packages/sklearn/ensemble/base.py\u001b[0m in \u001b[0;36m_validate_estimator\u001b[0;34m(self, default)\u001b[0m\n\u001b[1;32m    108\u001b[0m         \u001b[0;32mif\u001b[0m \u001b[0mself\u001b[0m\u001b[0;34m.\u001b[0m\u001b[0mn_estimators\u001b[0m \u001b[0;34m<=\u001b[0m \u001b[0;36m0\u001b[0m\u001b[0;34m:\u001b[0m\u001b[0;34m\u001b[0m\u001b[0m\n\u001b[1;32m    109\u001b[0m             raise ValueError(\"n_estimators must be greater than zero, \"\n\u001b[0;32m--> 110\u001b[0;31m                              \"got {0}.\".format(self.n_estimators))\n\u001b[0m\u001b[1;32m    111\u001b[0m \u001b[0;34m\u001b[0m\u001b[0m\n\u001b[1;32m    112\u001b[0m         \u001b[0;32mif\u001b[0m \u001b[0mself\u001b[0m\u001b[0;34m.\u001b[0m\u001b[0mbase_estimator\u001b[0m \u001b[0;32mis\u001b[0m \u001b[0;32mnot\u001b[0m \u001b[0;32mNone\u001b[0m\u001b[0;34m:\u001b[0m\u001b[0;34m\u001b[0m\u001b[0m\n",
          "\u001b[0;31mValueError\u001b[0m: n_estimators must be greater than zero, got 0."
         ]
        }
       ]
      }
     },
     "cb98a96343fc432d89e71cea54cf70e9": {
      "model_module": "@jupyter-widgets/controls",
      "model_module_version": "1.4.0",
      "model_name": "IntSliderModel",
      "state": {
       "layout": "IPY_MODEL_26cd0224abeb42c0b58f9dc50d4fe2a4",
       "style": "IPY_MODEL_9a90d2b7c0434dc58d023e0e3940ead1"
      }
     },
     "cbbd2c7e1c9b4536a70b8a13c8a32ab0": {
      "model_module": "@jupyter-widgets/controls",
      "model_module_version": "1.4.0",
      "model_name": "SliderStyleModel",
      "state": {
       "description_width": ""
      }
     },
     "cdd039705a7f475cb7ad67be48bb8fba": {
      "model_module": "@jupyter-widgets/base",
      "model_module_version": "1.1.0",
      "model_name": "LayoutModel",
      "state": {}
     },
     "cf17407ef8154fd1b9576ff45de2525d": {
      "model_module": "@jupyter-widgets/controls",
      "model_module_version": "1.4.0",
      "model_name": "IntSliderModel",
      "state": {
       "layout": "IPY_MODEL_606ba6913ba942b7abae9379821df87a",
       "min": 1,
       "style": "IPY_MODEL_71a51b646dd34888b2630136197e3e88",
       "value": 1
      }
     },
     "d286773d9f5d4339b6a8e7a083055f31": {
      "model_module": "@jupyter-widgets/controls",
      "model_module_version": "1.4.0",
      "model_name": "HBoxModel",
      "state": {
       "children": [
        "IPY_MODEL_e5571ce6ae724b8693a379f621bbfd72",
        "IPY_MODEL_1ed84765f38f442f9f1fa4a2d7d0fca1",
        "IPY_MODEL_b66143f8a4504604bd0ac3886556e7c4"
       ],
       "layout": "IPY_MODEL_3d97308901ca40b1a30569bce16e633a"
      }
     },
     "d9fb744c3f1347efac36b6ba38e6c088": {
      "model_module": "@jupyter-widgets/controls",
      "model_module_version": "1.4.0",
      "model_name": "IntSliderModel",
      "state": {
       "layout": "IPY_MODEL_8ea1b230e2504868b28a505c43753c60",
       "min": 1,
       "style": "IPY_MODEL_b513c5b766c54cf8ba8242e775e95870",
       "value": 1
      }
     },
     "db506a40c96c4a5e8617c1677dc9ef39": {
      "model_module": "@jupyter-widgets/controls",
      "model_module_version": "1.4.0",
      "model_name": "HBoxModel",
      "state": {
       "children": [
        "IPY_MODEL_972017ff4e6849c1bd6822821c883055",
        "IPY_MODEL_584cbb80f680444e957c462df5d48478",
        "IPY_MODEL_152e09f385bc4ab9a4220ec7a81671d9"
       ],
       "layout": "IPY_MODEL_0ee02450a51a4d29ad5c97b4ccfb435e"
      }
     },
     "dbdae7419eab427d8c6e1cd9f72e9e50": {
      "model_module": "@jupyter-widgets/base",
      "model_module_version": "1.1.0",
      "model_name": "LayoutModel",
      "state": {}
     },
     "e0b32c71300e441ebf601149895655c1": {
      "model_module": "@jupyter-widgets/controls",
      "model_module_version": "1.4.0",
      "model_name": "IntSliderModel",
      "state": {
       "layout": "IPY_MODEL_e1dcde568bf74b509091054a74c65b11",
       "style": "IPY_MODEL_2d58c0eb6363420ea3805d2414e0aef3"
      }
     },
     "e1dcde568bf74b509091054a74c65b11": {
      "model_module": "@jupyter-widgets/base",
      "model_module_version": "1.1.0",
      "model_name": "LayoutModel",
      "state": {}
     },
     "e39c1b634a244f9785f82e95e963ef04": {
      "model_module": "@jupyter-widgets/controls",
      "model_module_version": "1.4.0",
      "model_name": "IntSliderModel",
      "state": {
       "layout": "IPY_MODEL_c443f825c9e24221a966f2a013b61601",
       "style": "IPY_MODEL_3edf5c23d0374f8cb7c73edb72c1097a"
      }
     },
     "e5571ce6ae724b8693a379f621bbfd72": {
      "model_module": "@jupyter-widgets/controls",
      "model_module_version": "1.4.0",
      "model_name": "IntSliderModel",
      "state": {
       "layout": "IPY_MODEL_a22765e89bb149a18d0fc63c379ac3e4",
       "style": "IPY_MODEL_73b866c413454a20be9a79929d0a5a44"
      }
     },
     "e5fefbbc557741f78ecf4cd84da62086": {
      "model_module": "@jupyter-widgets/base",
      "model_module_version": "1.1.0",
      "model_name": "LayoutModel",
      "state": {}
     },
     "e6b395add6a5421c9b9a860d498ff657": {
      "model_module": "@jupyter-widgets/controls",
      "model_module_version": "1.4.0",
      "model_name": "HBoxModel",
      "state": {
       "children": [
        "IPY_MODEL_e39c1b634a244f9785f82e95e963ef04",
        "IPY_MODEL_f66c679c14c049fe9660f47ed146f12e",
        "IPY_MODEL_41c5c09275d047a5af5290da2a73b254"
       ],
       "layout": "IPY_MODEL_081f6b4adab04475adc80ba4f6a1d354"
      }
     },
     "e6e91ac733bc4273a83c274e403e0b2d": {
      "model_module": "@jupyter-widgets/base",
      "model_module_version": "1.1.0",
      "model_name": "LayoutModel",
      "state": {}
     },
     "ebd11f305eab4248af3af69ff860ca2b": {
      "model_module": "@jupyter-widgets/controls",
      "model_module_version": "1.4.0",
      "model_name": "SliderStyleModel",
      "state": {
       "description_width": ""
      }
     },
     "eef7c7b4863d4b8fa3e57f47bf52153e": {
      "model_module": "@jupyter-widgets/controls",
      "model_module_version": "1.4.0",
      "model_name": "SliderStyleModel",
      "state": {
       "description_width": ""
      }
     },
     "f4fda8f323d446f195534e6a20338ddc": {
      "model_module": "@jupyter-widgets/base",
      "model_module_version": "1.1.0",
      "model_name": "LayoutModel",
      "state": {}
     },
     "f66c679c14c049fe9660f47ed146f12e": {
      "model_module": "@jupyter-widgets/controls",
      "model_module_version": "1.4.0",
      "model_name": "IntSliderModel",
      "state": {
       "layout": "IPY_MODEL_0f149ea0f35b4c108ba947c6f699025b",
       "style": "IPY_MODEL_6f2ca3679d01431bb07fbb4e3d510d94"
      }
     },
     "f9dac5f1529a4c3db3f2db63bf7bd743": {
      "model_module": "@jupyter-widgets/base",
      "model_module_version": "1.1.0",
      "model_name": "LayoutModel",
      "state": {}
     },
     "fa9365b4a2524e9c8bfe971acacc62da": {
      "model_module": "@jupyter-widgets/base",
      "model_module_version": "1.1.0",
      "model_name": "LayoutModel",
      "state": {}
     }
    },
    "version_major": 2,
    "version_minor": 0
   }
  }
 },
 "nbformat": 4,
 "nbformat_minor": 2
}
